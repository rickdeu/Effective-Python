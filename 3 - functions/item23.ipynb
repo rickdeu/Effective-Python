{
 "cells": [
  {
   "cell_type": "markdown",
   "id": "1e7f3ece-21bb-4f0c-8dfa-66a995a92548",
   "metadata": {},
   "source": [
    "# Provide Optional Behavior with Keyword Arguments"
   ]
  },
  {
   "cell_type": "code",
   "execution_count": 1,
   "id": "e6436f41-4298-4e58-b414-8f81907a7c43",
   "metadata": {
    "tags": []
   },
   "outputs": [],
   "source": [
    "def remainder(number, divisor):\n",
    "    return number % divisor"
   ]
  },
  {
   "cell_type": "code",
   "execution_count": 2,
   "id": "87f6300b-71be-4b67-9872-ad44cb1636de",
   "metadata": {
    "tags": []
   },
   "outputs": [],
   "source": [
    "assert remainder(20, 7) == 6"
   ]
  },
  {
   "cell_type": "code",
   "execution_count": 3,
   "id": "cc135f24-b4f5-45c2-a4d9-28ce1402c9fd",
   "metadata": {
    "tags": []
   },
   "outputs": [
    {
     "data": {
      "text/plain": [
       "6"
      ]
     },
     "execution_count": 3,
     "metadata": {},
     "output_type": "execute_result"
    }
   ],
   "source": [
    "remainder(20, 7)"
   ]
  },
  {
   "cell_type": "code",
   "execution_count": 4,
   "id": "6091394b-1118-43bf-93c6-5f7e12c3d78d",
   "metadata": {
    "tags": []
   },
   "outputs": [
    {
     "data": {
      "text/plain": [
       "6"
      ]
     },
     "execution_count": 4,
     "metadata": {},
     "output_type": "execute_result"
    }
   ],
   "source": [
    "remainder(20, divisor=7)"
   ]
  },
  {
   "cell_type": "code",
   "execution_count": 5,
   "id": "7df015ac-16e8-4ed7-9fb1-3db222ecede9",
   "metadata": {
    "tags": []
   },
   "outputs": [
    {
     "data": {
      "text/plain": [
       "6"
      ]
     },
     "execution_count": 5,
     "metadata": {},
     "output_type": "execute_result"
    }
   ],
   "source": [
    "remainder(number=20, divisor=7)"
   ]
  },
  {
   "cell_type": "code",
   "execution_count": 6,
   "id": "7ea7750b-970e-46de-addd-b22a608869a6",
   "metadata": {
    "tags": []
   },
   "outputs": [
    {
     "data": {
      "text/plain": [
       "6"
      ]
     },
     "execution_count": 6,
     "metadata": {},
     "output_type": "execute_result"
    }
   ],
   "source": [
    "remainder(divisor=7, number=20)"
   ]
  },
  {
   "cell_type": "code",
   "execution_count": 7,
   "id": "6a1bf7bf-f09c-42f0-8074-b32233a39150",
   "metadata": {
    "tags": []
   },
   "outputs": [
    {
     "ename": "SyntaxError",
     "evalue": "positional argument follows keyword argument (1302034930.py, line 1)",
     "output_type": "error",
     "traceback": [
      "\u001b[0;36m  Cell \u001b[0;32mIn[7], line 1\u001b[0;36m\u001b[0m\n\u001b[0;31m    remainder(number=20, 7)\u001b[0m\n\u001b[0m                          ^\u001b[0m\n\u001b[0;31mSyntaxError\u001b[0m\u001b[0;31m:\u001b[0m positional argument follows keyword argument\n"
     ]
    }
   ],
   "source": [
    "remainder(number=20, 7)"
   ]
  },
  {
   "cell_type": "code",
   "execution_count": 8,
   "id": "8f26f547-c5c1-44fe-9d16-5721e081ccbe",
   "metadata": {
    "tags": []
   },
   "outputs": [
    {
     "ename": "TypeError",
     "evalue": "remainder() got multiple values for argument 'number'",
     "output_type": "error",
     "traceback": [
      "\u001b[0;31m---------------------------------------------------------------------------\u001b[0m",
      "\u001b[0;31mTypeError\u001b[0m                                 Traceback (most recent call last)",
      "Cell \u001b[0;32mIn[8], line 1\u001b[0m\n\u001b[0;32m----> 1\u001b[0m \u001b[43mremainder\u001b[49m\u001b[43m(\u001b[49m\u001b[38;5;241;43m20\u001b[39;49m\u001b[43m,\u001b[49m\u001b[43m \u001b[49m\u001b[43mnumber\u001b[49m\u001b[38;5;241;43m=\u001b[39;49m\u001b[38;5;241;43m7\u001b[39;49m\u001b[43m)\u001b[49m\n",
      "\u001b[0;31mTypeError\u001b[0m: remainder() got multiple values for argument 'number'"
     ]
    }
   ],
   "source": [
    "remainder(20, number=7)"
   ]
  },
  {
   "cell_type": "code",
   "execution_count": 9,
   "id": "0218028b-ed57-43f9-9e7a-412aefe35263",
   "metadata": {},
   "outputs": [],
   "source": [
    "my_keywords = {\n",
    "    'number': 20,\n",
    "    'divisor': 7\n",
    "}\n",
    "assert remainder(**my_keywords) == 6"
   ]
  },
  {
   "cell_type": "code",
   "execution_count": 10,
   "id": "20f82b96-5d83-4468-9ccf-de3d50ed8041",
   "metadata": {
    "tags": []
   },
   "outputs": [],
   "source": [
    "my_keywords = {\n",
    "    'divisor': 7,\n",
    "}\n",
    "assert remainder(number=20, **my_keywords) == 6"
   ]
  },
  {
   "cell_type": "code",
   "execution_count": 11,
   "id": "6445cf75-a926-4a3d-9c35-1147ae1828df",
   "metadata": {
    "tags": []
   },
   "outputs": [],
   "source": [
    "my_keywords = {\n",
    "    'number': 20\n",
    "}\n",
    "other_kwargs = {\n",
    "    'divisor': 7\n",
    "}\n",
    "assert remainder(**my_keywords, **other_kwargs) == 6"
   ]
  },
  {
   "cell_type": "code",
   "execution_count": 12,
   "id": "09aef064-3544-48ab-b193-bb792117f995",
   "metadata": {
    "tags": []
   },
   "outputs": [],
   "source": [
    "def print_parameters(**kwargs):\n",
    "    for key, value in kwargs.items():\n",
    "        print(f'{key} = {value}')"
   ]
  },
  {
   "cell_type": "code",
   "execution_count": 13,
   "id": "7ea0fcbd-e8c9-412c-b6b3-d8358aa67e54",
   "metadata": {
    "tags": []
   },
   "outputs": [
    {
     "name": "stdout",
     "output_type": "stream",
     "text": [
      "alpha = 1.5\n",
      "beta = 9\n",
      "gamma = 4\n"
     ]
    }
   ],
   "source": [
    "print_parameters(alpha=1.5, beta=9, gamma=4)"
   ]
  },
  {
   "cell_type": "code",
   "execution_count": 14,
   "id": "e57274aa-206b-4abe-af7f-d743e845ac1e",
   "metadata": {
    "tags": []
   },
   "outputs": [],
   "source": [
    "def flow_rate(weight_diff, time_diff):\n",
    "    return weight_diff / time_diff"
   ]
  },
  {
   "cell_type": "code",
   "execution_count": 16,
   "id": "e07dfc45-ba00-4d21-a6bd-8bddbfdd693a",
   "metadata": {
    "tags": []
   },
   "outputs": [
    {
     "name": "stdout",
     "output_type": "stream",
     "text": [
      "0.167 kg per second\n"
     ]
    }
   ],
   "source": [
    "weight_diff = 0.5\n",
    "time_diff = 3\n",
    "flow = flow_rate(weight_diff, time_diff)\n",
    "print(f'{flow:.3} kg per second')"
   ]
  },
  {
   "cell_type": "code",
   "execution_count": 17,
   "id": "b50c1182-8aec-4de1-8e77-0d3c72c9c894",
   "metadata": {
    "tags": []
   },
   "outputs": [],
   "source": [
    "def flow_rate(weight_diff, time_diff, period):\n",
    "    return (weight_diff / time_diff) * period"
   ]
  },
  {
   "cell_type": "code",
   "execution_count": 19,
   "id": "02e3de48-e8a8-4627-a347-be094ec8f616",
   "metadata": {
    "tags": []
   },
   "outputs": [],
   "source": [
    "flow_per_second = flow_rate(weight_diff, time_diff, 1)"
   ]
  },
  {
   "cell_type": "code",
   "execution_count": 20,
   "id": "afc95abb-ad35-4bc4-b97b-377a913848de",
   "metadata": {
    "tags": []
   },
   "outputs": [],
   "source": [
    "def flow_rate(weight_diff, time_diff, period=1):\n",
    "    return (weight_diff / time_diff) * period"
   ]
  },
  {
   "cell_type": "code",
   "execution_count": 21,
   "id": "63152842-3580-441a-8700-de285fdb1037",
   "metadata": {
    "tags": []
   },
   "outputs": [],
   "source": [
    "flow_per_second = flow_rate(weight_diff, time_diff)"
   ]
  },
  {
   "cell_type": "code",
   "execution_count": 22,
   "id": "ca076a02-1720-437c-b47e-db86c000445c",
   "metadata": {
    "tags": []
   },
   "outputs": [],
   "source": [
    "flow_per_hour = flow_rate(weight_diff, time_diff, period=3600)"
   ]
  },
  {
   "cell_type": "code",
   "execution_count": 23,
   "id": "a9afaba9-9dca-4fd9-aa97-8c8f061a1c5f",
   "metadata": {
    "tags": []
   },
   "outputs": [],
   "source": [
    "def flow_rate(weight_diff, time_diff, period=1, units_per_kg=1):\n",
    "    return ((weight_diff * units_per_kg) / time_diff) * period"
   ]
  },
  {
   "cell_type": "code",
   "execution_count": 24,
   "id": "0dcfbad2-13fc-4ec9-a783-886c0ed9ed35",
   "metadata": {
    "tags": []
   },
   "outputs": [],
   "source": [
    "pounds_per_hour = flow_rate(weight_diff, time_diff, 3600, 2.2)"
   ]
  },
  {
   "cell_type": "code",
   "execution_count": null,
   "id": "502dd18d-7758-45e6-874c-240d930264d7",
   "metadata": {},
   "outputs": [],
   "source": []
  }
 ],
 "metadata": {
  "kernelspec": {
   "display_name": "Python 3 (ipykernel)",
   "language": "python",
   "name": "python3"
  },
  "language_info": {
   "codemirror_mode": {
    "name": "ipython",
    "version": 3
   },
   "file_extension": ".py",
   "mimetype": "text/x-python",
   "name": "python",
   "nbconvert_exporter": "python",
   "pygments_lexer": "ipython3",
   "version": "3.9.14"
  },
  "toc-autonumbering": false,
  "toc-showcode": true,
  "toc-showmarkdowntxt": false
 },
 "nbformat": 4,
 "nbformat_minor": 5
}

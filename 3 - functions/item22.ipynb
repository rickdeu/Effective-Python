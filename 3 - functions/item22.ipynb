{
 "cells": [
  {
   "cell_type": "markdown",
   "id": "5a93105b-81d8-41cb-84f6-b55e04787f2f",
   "metadata": {},
   "source": [
    "# Reduce Visual Noise with Variable Positional Arguments"
   ]
  },
  {
   "cell_type": "code",
   "execution_count": 9,
   "id": "aef3edc8-0140-4c82-a251-acfc12a98bf5",
   "metadata": {
    "tags": []
   },
   "outputs": [],
   "source": [
    "def log(message, values):\n",
    "    if not values:\n",
    "        print(message)\n",
    "    else:\n",
    "        value_str = ', '.join(str(x) for x in values)\n",
    "        print(f'{message}: {value_str}')"
   ]
  },
  {
   "cell_type": "code",
   "execution_count": 10,
   "id": "05639cc8-2546-49d5-b9f5-b36d3805288d",
   "metadata": {
    "tags": []
   },
   "outputs": [
    {
     "name": "stdout",
     "output_type": "stream",
     "text": [
      "My numbers are: 1, 2\n",
      "Hi there\n"
     ]
    }
   ],
   "source": [
    "log('My numbers are', [1, 2])\n",
    "log('Hi there', [])"
   ]
  },
  {
   "cell_type": "code",
   "execution_count": 14,
   "id": "7551aa28-afe2-40cb-868d-50365578a1ad",
   "metadata": {
    "tags": []
   },
   "outputs": [],
   "source": [
    "def log(message, *values): # The only difference\n",
    "    if not values:\n",
    "        print(message)\n",
    "    else:\n",
    "        value_str = ', '.join(str(x) for x in values)\n",
    "        print(f'{message}: {value_str}')"
   ]
  },
  {
   "cell_type": "code",
   "execution_count": 15,
   "id": "98096ef1-c6b0-4626-9dc1-2b59c22acaeb",
   "metadata": {
    "tags": []
   },
   "outputs": [
    {
     "name": "stdout",
     "output_type": "stream",
     "text": [
      "My numbers are: [1, 2]\n",
      "Hi there\n"
     ]
    }
   ],
   "source": [
    "log('My numbers are', [1, 2])\n",
    "log('Hi there') # Much better"
   ]
  },
  {
   "cell_type": "code",
   "execution_count": 16,
   "id": "8b7d601c-6182-4770-93c1-0d7ba52d0508",
   "metadata": {
    "tags": []
   },
   "outputs": [],
   "source": [
    "favorites = [7, 33, 99]"
   ]
  },
  {
   "cell_type": "code",
   "execution_count": 17,
   "id": "1fab8fac-e20f-4f91-a70f-62560fe04fe0",
   "metadata": {
    "tags": []
   },
   "outputs": [
    {
     "name": "stdout",
     "output_type": "stream",
     "text": [
      "Favorite colors: 7, 33, 99\n"
     ]
    }
   ],
   "source": [
    "log('Favorite colors', *favorites)"
   ]
  },
  {
   "cell_type": "code",
   "execution_count": 18,
   "id": "e634b186-f51a-4784-9471-cac03bf67be5",
   "metadata": {
    "tags": []
   },
   "outputs": [],
   "source": [
    "def my_generator():\n",
    "    for i in range(10):\n",
    "        yield i"
   ]
  },
  {
   "cell_type": "code",
   "execution_count": 19,
   "id": "fedfec9a-5547-4c6e-b93e-ff48e5144f0b",
   "metadata": {
    "tags": []
   },
   "outputs": [],
   "source": [
    "def my_func(*args):\n",
    "    print(args)"
   ]
  },
  {
   "cell_type": "code",
   "execution_count": 20,
   "id": "21bcce04-08c7-4400-8a4d-e6b84c91ef93",
   "metadata": {
    "tags": []
   },
   "outputs": [
    {
     "name": "stdout",
     "output_type": "stream",
     "text": [
      "(0, 1, 2, 3, 4, 5, 6, 7, 8, 9)\n"
     ]
    }
   ],
   "source": [
    "it = my_generator()\n",
    "my_func(*it)"
   ]
  },
  {
   "cell_type": "code",
   "execution_count": 21,
   "id": "1df37261-68f5-453b-8ef8-11fce7d85b10",
   "metadata": {
    "tags": []
   },
   "outputs": [],
   "source": [
    "def log(sequence, message, *values):\n",
    "    if not values:\n",
    "        print(f'{sequence} - {message}')\n",
    "    else:\n",
    "        values_str = ', '.join(str(x) for x in values)\n",
    "        print(f'{sequence} - {message}: {values_str}')"
   ]
  },
  {
   "cell_type": "code",
   "execution_count": 24,
   "id": "8e386ae2-a97e-4667-97aa-766a30548e51",
   "metadata": {
    "tags": []
   },
   "outputs": [
    {
     "name": "stdout",
     "output_type": "stream",
     "text": [
      "1 - Favorites: 7, 33\n",
      "1 - Hi there\n",
      "Favorite numbers - 7: 33\n"
     ]
    }
   ],
   "source": [
    "log(1, 'Favorites', 7, 33) # New with *args OK\n",
    "log(1, 'Hi there') # New message only Ok\n",
    "log('Favorite numbers', 7, 33) # Old usage breaks"
   ]
  },
  {
   "cell_type": "code",
   "execution_count": null,
   "id": "d4fe12c5-4a71-44e6-a26b-0df306e26f0f",
   "metadata": {},
   "outputs": [],
   "source": []
  }
 ],
 "metadata": {
  "kernelspec": {
   "display_name": "Python 3 (ipykernel)",
   "language": "python",
   "name": "python3"
  },
  "language_info": {
   "codemirror_mode": {
    "name": "ipython",
    "version": 3
   },
   "file_extension": ".py",
   "mimetype": "text/x-python",
   "name": "python",
   "nbconvert_exporter": "python",
   "pygments_lexer": "ipython3",
   "version": "3.9.14"
  }
 },
 "nbformat": 4,
 "nbformat_minor": 5
}

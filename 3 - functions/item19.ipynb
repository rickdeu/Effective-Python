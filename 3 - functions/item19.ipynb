{
 "cells": [
  {
   "cell_type": "markdown",
   "id": "3163962e-76ec-4a25-895e-13c466cab3b3",
   "metadata": {},
   "source": [
    "# Never Unpack More than Three Variables When Functions Return Multiple Values"
   ]
  },
  {
   "cell_type": "code",
   "execution_count": 1,
   "id": "97c0d6dd-957c-416d-a082-9ef4f2b8d7ab",
   "metadata": {},
   "outputs": [],
   "source": [
    "def get_stats(numbers):\n",
    "    minimum = min(numbers)\n",
    "    maximum = max(numbers)\n",
    "    return minimum, maximum"
   ]
  },
  {
   "cell_type": "code",
   "execution_count": 2,
   "id": "c888bb9a-a292-4c3d-9756-6cb523498f30",
   "metadata": {
    "tags": []
   },
   "outputs": [],
   "source": [
    "lengths = [63, 73, 72, 60, 67, 66, 71, 61, 72, 70]"
   ]
  },
  {
   "cell_type": "code",
   "execution_count": 3,
   "id": "bdb1191c-1022-48a7-958e-943777305b6f",
   "metadata": {
    "tags": []
   },
   "outputs": [],
   "source": [
    "minimum, maximum = get_stats(lengths) # Two return values"
   ]
  },
  {
   "cell_type": "code",
   "execution_count": 4,
   "id": "bc126180-5892-4a96-ab51-eb3ec89bef4e",
   "metadata": {
    "tags": []
   },
   "outputs": [
    {
     "name": "stdout",
     "output_type": "stream",
     "text": [
      "Min: 60, Max: 73\n"
     ]
    }
   ],
   "source": [
    "print(f'Min: {minimum}, Max: {maximum}')"
   ]
  },
  {
   "cell_type": "code",
   "execution_count": 5,
   "id": "57c0d205-3a7f-4315-acaa-e116b6861237",
   "metadata": {
    "tags": []
   },
   "outputs": [],
   "source": [
    "first, second = 1, 2"
   ]
  },
  {
   "cell_type": "code",
   "execution_count": 6,
   "id": "792776ef-a092-4de4-ae5f-5087ac59d602",
   "metadata": {
    "tags": []
   },
   "outputs": [],
   "source": [
    "assert first == 1\n",
    "assert second == 2"
   ]
  },
  {
   "cell_type": "code",
   "execution_count": 7,
   "id": "244ba67e-2e55-40ac-bc6f-6b457fa417e5",
   "metadata": {
    "tags": []
   },
   "outputs": [],
   "source": [
    "def my_function():\n",
    "    return 1, 2"
   ]
  },
  {
   "cell_type": "code",
   "execution_count": 8,
   "id": "85fa2e69-8281-44d5-861b-202e2ff82a40",
   "metadata": {
    "tags": []
   },
   "outputs": [],
   "source": [
    "first, second = my_function()\n",
    "assert first == 1\n",
    "assert second == 2"
   ]
  },
  {
   "cell_type": "code",
   "execution_count": 9,
   "id": "010cb882-9877-4adf-b8ab-05fd43649528",
   "metadata": {
    "tags": []
   },
   "outputs": [],
   "source": [
    "def get_avg_ration(numbers):\n",
    "    average = sum(numbers) / len(numbers)\n",
    "    scaled = [x / average for x in numbers]\n",
    "    scaled.sort(reverse=True)\n",
    "    return scaled"
   ]
  },
  {
   "cell_type": "code",
   "execution_count": 10,
   "id": "9ece44b0-c279-4df6-a7fd-3f8b1003ac25",
   "metadata": {
    "tags": []
   },
   "outputs": [],
   "source": [
    "longest, *middle, shortest = get_avg_ration(lengths)"
   ]
  },
  {
   "cell_type": "code",
   "execution_count": 14,
   "id": "bf052a11-ff14-4112-bf90-c9faeb19a01c",
   "metadata": {
    "tags": []
   },
   "outputs": [
    {
     "name": "stdout",
     "output_type": "stream",
     "text": [
      "Longest: 108%\n",
      "Shortest:  89%\n"
     ]
    }
   ],
   "source": [
    "print(f'Longest: {longest:>4.0%}')\n",
    "print(f'Shortest: {shortest:4.0%}')"
   ]
  },
  {
   "cell_type": "code",
   "execution_count": 15,
   "id": "a9ddf280-f40d-4853-a99c-1cabf13c9631",
   "metadata": {
    "tags": []
   },
   "outputs": [],
   "source": [
    "def get_stats(numbers):\n",
    "    minimum = min(numbers)\n",
    "    maximum = max(numbers)\n",
    "    count = len(numbers)\n",
    "    average = sum(numbers) / count\n",
    "    \n",
    "    sorted_numbers = sorted(numbers)\n",
    "    middle = count // 2\n",
    "    if count % 2 == 0:\n",
    "        lower = sorted_numbers[middle - 1]\n",
    "        upper = sorted_numbers[middle]\n",
    "        median = (lower + upper) / 2\n",
    "    else:\n",
    "        median = sorted_numbers[middle]\n",
    "    return minimum, maximum, average, median, count"
   ]
  },
  {
   "cell_type": "code",
   "execution_count": 16,
   "id": "d1b8b8a1-d2fd-4f4a-8cfc-ac18563627a1",
   "metadata": {
    "tags": []
   },
   "outputs": [],
   "source": [
    "minimum, maximum, average, median, count = get_stats(lengths)"
   ]
  },
  {
   "cell_type": "code",
   "execution_count": 17,
   "id": "e14c49db-de92-488f-82ef-9c7ebe8cb94b",
   "metadata": {
    "tags": []
   },
   "outputs": [
    {
     "name": "stdout",
     "output_type": "stream",
     "text": [
      "Min: 60, Max: 73\n",
      "Average: 67.5, Median: 68.5, Count: 10\n"
     ]
    }
   ],
   "source": [
    "print(f'Min: {minimum}, Max: {maximum}')\n",
    "print(f'Average: {average}, Median: {median}, Count: {count}')"
   ]
  },
  {
   "cell_type": "code",
   "execution_count": 18,
   "id": "c54f8ad6-4376-4c39-8bd5-c57d42b47064",
   "metadata": {
    "tags": []
   },
   "outputs": [],
   "source": [
    "# Correct:\n",
    "minimum, maximum, average, median, count = get_stats(lengths)"
   ]
  },
  {
   "cell_type": "code",
   "execution_count": 19,
   "id": "31721ef4-dcc4-4ae8-a375-eb5b316633b7",
   "metadata": {
    "tags": []
   },
   "outputs": [],
   "source": [
    "# Opps! Median and average swapped:\n",
    "minimum, maximum, median, average, count = get_stats(lengths)"
   ]
  },
  {
   "cell_type": "code",
   "execution_count": 20,
   "id": "c3fd46ec-0a3c-4e2a-b268-c1d27d4447ae",
   "metadata": {
    "tags": []
   },
   "outputs": [],
   "source": [
    "minimum, maximum, average, median, count = get_stats(lengths)"
   ]
  },
  {
   "cell_type": "code",
   "execution_count": 23,
   "id": "896db3c8-edb3-47d4-83a0-bf9a36290ba4",
   "metadata": {
    "tags": []
   },
   "outputs": [
    {
     "ename": "SyntaxError",
     "evalue": "unexpected character after line continuation character (1469080226.py, line 1)",
     "output_type": "error",
     "traceback": [
      "\u001b[0;36m  Cell \u001b[0;32mIn[23], line 1\u001b[0;36m\u001b[0m\n\u001b[0;31m    minimum, maximum, average, median, count = \\\u001b[0m\n\u001b[0m                                                ^\u001b[0m\n\u001b[0;31mSyntaxError\u001b[0m\u001b[0;31m:\u001b[0m unexpected character after line continuation character\n"
     ]
    }
   ],
   "source": [
    "minimum, maximum, average, median, count = \\ \n",
    "  get_stats(lengths)"
   ]
  },
  {
   "cell_type": "code",
   "execution_count": 24,
   "id": "e3f65911-483d-44bd-a25e-3b67292f498a",
   "metadata": {
    "tags": []
   },
   "outputs": [],
   "source": [
    "(minimum, maximum, average, median, count) = get_stats(lengths)"
   ]
  },
  {
   "cell_type": "code",
   "execution_count": null,
   "id": "d0b62762-4eef-4177-a348-46a7d90cf225",
   "metadata": {},
   "outputs": [],
   "source": []
  }
 ],
 "metadata": {
  "kernelspec": {
   "display_name": "Python 3 (ipykernel)",
   "language": "python",
   "name": "python3"
  },
  "language_info": {
   "codemirror_mode": {
    "name": "ipython",
    "version": 3
   },
   "file_extension": ".py",
   "mimetype": "text/x-python",
   "name": "python",
   "nbconvert_exporter": "python",
   "pygments_lexer": "ipython3",
   "version": "3.9.14"
  }
 },
 "nbformat": 4,
 "nbformat_minor": 5
}

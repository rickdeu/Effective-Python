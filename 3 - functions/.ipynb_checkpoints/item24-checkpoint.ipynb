{
 "cells": [
  {
   "cell_type": "markdown",
   "id": "3bc7ec9d-3b26-4166-8321-671228b384f6",
   "metadata": {},
   "source": [
    "# Use None and DocStrings to Specify Dynamic Default Arguments"
   ]
  },
  {
   "cell_type": "code",
   "execution_count": 1,
   "id": "5c22bdf0-8ddd-4bfa-9800-3814fbb6c137",
   "metadata": {
    "tags": []
   },
   "outputs": [],
   "source": [
    "from time import sleep\n",
    "from datetime import datetime"
   ]
  },
  {
   "cell_type": "code",
   "execution_count": 2,
   "id": "b44d0790-92c8-4dfb-97f6-39c026a3b0d0",
   "metadata": {
    "tags": []
   },
   "outputs": [],
   "source": [
    "def log(message, when=datetime.now()):\n",
    "    print(f'{when}: {message}')"
   ]
  },
  {
   "cell_type": "code",
   "execution_count": 4,
   "id": "436321c1-0a9c-4bbb-bbe1-707ec199b5de",
   "metadata": {
    "tags": []
   },
   "outputs": [
    {
     "name": "stdout",
     "output_type": "stream",
     "text": [
      "2023-02-21 13:04:54.697074: Hi, there!\n",
      "2023-02-21 13:04:54.697074: Hello again!\n"
     ]
    }
   ],
   "source": [
    "log('Hi, there!')\n",
    "sleep(0.1)\n",
    "log('Hello again!')"
   ]
  },
  {
   "cell_type": "code",
   "execution_count": 5,
   "id": "eb544129-55af-44f2-8043-ffd0ae11f197",
   "metadata": {
    "tags": []
   },
   "outputs": [],
   "source": [
    "def log(message, when=None):\n",
    "    \"\"\" \n",
    "    Log a message with timestamp.\n",
    "    \n",
    "    Args:\n",
    "        message: Message to print.\n",
    "        when: datetime of when the message occured.\n",
    "            Defautls to the preset time\n",
    "    \"\"\"\n",
    "    if when is None:\n",
    "        when = datetime.now()\n",
    "    print(f'{when}: {message}')"
   ]
  },
  {
   "cell_type": "code",
   "execution_count": 6,
   "id": "9733bf5c-8c59-4f42-83b2-d99ed9894352",
   "metadata": {
    "tags": []
   },
   "outputs": [
    {
     "name": "stdout",
     "output_type": "stream",
     "text": [
      "2023-02-21 13:09:23.703194: Hi, there!\n",
      "2023-02-21 13:09:23.803946: Hello again!\n"
     ]
    }
   ],
   "source": [
    "log('Hi, there!')\n",
    "sleep(0.1)\n",
    "log('Hello again!')"
   ]
  },
  {
   "cell_type": "code",
   "execution_count": 7,
   "id": "601cb14c-1d22-48b5-906a-b42cc4d6511a",
   "metadata": {
    "tags": []
   },
   "outputs": [],
   "source": [
    "import json"
   ]
  },
  {
   "cell_type": "code",
   "execution_count": 9,
   "id": "e3a8dd7d-6149-4a97-9c98-9c147d03f434",
   "metadata": {
    "tags": []
   },
   "outputs": [],
   "source": [
    "def decode(data, default={}):\n",
    "    try:\n",
    "        return json.loads(data)\n",
    "    except ValueError:\n",
    "        return default"
   ]
  },
  {
   "cell_type": "code",
   "execution_count": 10,
   "id": "595bfa19-75cc-4d8f-8f76-226a54dbe2f0",
   "metadata": {
    "tags": []
   },
   "outputs": [
    {
     "name": "stdout",
     "output_type": "stream",
     "text": [
      "Foo: {'stuff': 5, 'meep': 1}\n",
      "Bar: {'stuff': 5, 'meep': 1}\n"
     ]
    }
   ],
   "source": [
    "foo = decode('bad data')\n",
    "foo['stuff'] = 5\n",
    "bar = decode('also bad')\n",
    "bar['meep'] = 1\n",
    "print('Foo:', foo)\n",
    "print('Bar:', bar)"
   ]
  },
  {
   "cell_type": "code",
   "execution_count": 11,
   "id": "9d52b829-d91f-40aa-b31c-68a03f6c8ac2",
   "metadata": {
    "tags": []
   },
   "outputs": [],
   "source": [
    "assert foo is bar"
   ]
  },
  {
   "cell_type": "code",
   "execution_count": 12,
   "id": "29f6329b-a75a-4408-8b2a-59036807f33f",
   "metadata": {
    "tags": []
   },
   "outputs": [],
   "source": [
    "def decode(data, default=None):\n",
    "    \"\"\"\n",
    "    Load JSON data from a string.\n",
    "    \n",
    "    Args:\n",
    "        data: JSON data to decode\n",
    "        defatul: Value to return if decoding fails.\n",
    "            Defaults to an empty dictionary\n",
    "    \"\"\"\n",
    "    try:\n",
    "        return json.loads(data)\n",
    "    except ValueError:\n",
    "        if default is None:\n",
    "            default = {}\n",
    "        return default"
   ]
  },
  {
   "cell_type": "code",
   "execution_count": 14,
   "id": "6b809404-2d94-472d-807f-a61aa6594acc",
   "metadata": {
    "tags": []
   },
   "outputs": [
    {
     "name": "stdout",
     "output_type": "stream",
     "text": [
      "Foo: {'stuff': 5}\n",
      "Bar: {'meep': 1}\n"
     ]
    }
   ],
   "source": [
    "foo = decode('bad data')\n",
    "foo['stuff'] = 5\n",
    "bar = decode('also bad')\n",
    "bar['meep'] = 1\n",
    "print('Foo:', foo)\n",
    "print('Bar:', bar)\n",
    "assert foo is not bar"
   ]
  },
  {
   "cell_type": "code",
   "execution_count": 15,
   "id": "ccbefdc5-1c18-41d7-b173-af4437f72b3c",
   "metadata": {
    "tags": []
   },
   "outputs": [],
   "source": [
    "from typing import Optional"
   ]
  },
  {
   "cell_type": "code",
   "execution_count": 18,
   "id": "2a854e5d-e1d1-403e-b733-fb1623a9180f",
   "metadata": {
    "tags": []
   },
   "outputs": [],
   "source": [
    "def log_typed(message: str, when:Optional[datetime]=None)->None:\n",
    "    \"\"\"\n",
    "    Log a message with a timestamp\n",
    "    Args:\n",
    "        message: Message to print.\n",
    "        when: datetime of when the message ocurred.\n",
    "            Defaults to the present time\n",
    "    \"\"\"\n",
    "    if when is None:\n",
    "        when = datetime.now()\n",
    "    print(f'{when}: {message}')"
   ]
  },
  {
   "cell_type": "code",
   "execution_count": null,
   "id": "00fdce06-4f36-434e-bf45-bc3f78765930",
   "metadata": {},
   "outputs": [],
   "source": []
  }
 ],
 "metadata": {
  "kernelspec": {
   "display_name": "Python 3 (ipykernel)",
   "language": "python",
   "name": "python3"
  },
  "language_info": {
   "codemirror_mode": {
    "name": "ipython",
    "version": 3
   },
   "file_extension": ".py",
   "mimetype": "text/x-python",
   "name": "python",
   "nbconvert_exporter": "python",
   "pygments_lexer": "ipython3",
   "version": "3.9.14"
  }
 },
 "nbformat": 4,
 "nbformat_minor": 5
}

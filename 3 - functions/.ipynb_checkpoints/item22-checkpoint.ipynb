{
 "cells": [
  {
   "cell_type": "markdown",
   "id": "5a93105b-81d8-41cb-84f6-b55e04787f2f",
   "metadata": {},
   "source": [
    "# Reduce Visual Noise with Variable Positional Arguments"
   ]
  },
  {
   "cell_type": "code",
   "execution_count": null,
   "id": "aef3edc8-0140-4c82-a251-acfc12a98bf5",
   "metadata": {},
   "outputs": [],
   "source": []
  }
 ],
 "metadata": {
  "kernelspec": {
   "display_name": "Python 3 (ipykernel)",
   "language": "python",
   "name": "python3"
  },
  "language_info": {
   "codemirror_mode": {
    "name": "ipython",
    "version": 3
   },
   "file_extension": ".py",
   "mimetype": "text/x-python",
   "name": "python",
   "nbconvert_exporter": "python",
   "pygments_lexer": "ipython3",
   "version": "3.9.14"
  }
 },
 "nbformat": 4,
 "nbformat_minor": 5
}

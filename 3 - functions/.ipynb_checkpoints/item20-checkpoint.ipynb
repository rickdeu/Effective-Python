{
 "cells": [
  {
   "cell_type": "markdown",
   "id": "7013bf70-40dd-4055-86c0-327d6abf43de",
   "metadata": {},
   "source": [
    "# Prefer Raising Exceptions to Returnings to Returning None"
   ]
  },
  {
   "cell_type": "code",
   "execution_count": 20,
   "id": "0f47fd1c-fd7d-4ea1-90a4-91c07ff6ea72",
   "metadata": {
    "tags": []
   },
   "outputs": [],
   "source": [
    "def careful_divide(a, b):\n",
    "    try:\n",
    "        return a / b\n",
    "    except ZeroDivisionError:\n",
    "        return None"
   ]
  },
  {
   "cell_type": "code",
   "execution_count": 21,
   "id": "0c3dc15e-2715-4c02-8f77-afd33925715a",
   "metadata": {
    "tags": []
   },
   "outputs": [
    {
     "name": "stdout",
     "output_type": "stream",
     "text": [
      "Invalid inputs\n"
     ]
    }
   ],
   "source": [
    "x, y = 1, 0\n",
    "result = careful_divide(x, y)\n",
    "if result is None:\n",
    "    print(f'Invalid inputs')"
   ]
  },
  {
   "cell_type": "code",
   "execution_count": 22,
   "id": "5998fe56-6bc8-4f85-aa9e-228b7aa00bd3",
   "metadata": {
    "tags": []
   },
   "outputs": [
    {
     "name": "stdout",
     "output_type": "stream",
     "text": [
      "Invalid inputs\n"
     ]
    }
   ],
   "source": [
    "x, y = 0, 5\n",
    "result = careful_divide(x, y)\n",
    "if not result:\n",
    "    print('Invalid inputs') # This runs! But shouldn't"
   ]
  },
  {
   "cell_type": "code",
   "execution_count": 23,
   "id": "28f8c633-96c1-40c2-8b8c-d303df9321df",
   "metadata": {
    "tags": []
   },
   "outputs": [],
   "source": [
    "def careful_divide(a, b):\n",
    "    try:\n",
    "        return True, a / b\n",
    "    except ZeroDivisionError:\n",
    "        return False, None"
   ]
  },
  {
   "cell_type": "code",
   "execution_count": 24,
   "id": "3e57fe69-45d6-481d-83f9-de5084133bee",
   "metadata": {
    "tags": []
   },
   "outputs": [],
   "source": [
    "success, result = careful_divide(x, y)\n",
    "if not success:\n",
    "    print(f'Invalid inputs {success}')"
   ]
  },
  {
   "cell_type": "code",
   "execution_count": 25,
   "id": "d6276f6f-4f97-41cb-89a0-a0db991e3f22",
   "metadata": {
    "tags": []
   },
   "outputs": [
    {
     "name": "stdout",
     "output_type": "stream",
     "text": [
      "Invalid inputs\n"
     ]
    }
   ],
   "source": [
    "_, result = careful_divide(x, y)\n",
    "if not result:\n",
    "    print('Invalid inputs')"
   ]
  },
  {
   "cell_type": "code",
   "execution_count": 26,
   "id": "02b17bbb-5d89-45ad-b2cd-de23e5521088",
   "metadata": {
    "tags": []
   },
   "outputs": [],
   "source": [
    "def careful_divide(a, b):\n",
    "    try:\n",
    "        return a / b\n",
    "    except ZeroDivisionError as e:\n",
    "        raise ValueError('Invalid inputs')"
   ]
  },
  {
   "cell_type": "code",
   "execution_count": 31,
   "id": "71402a5a-712a-492c-9b73-554428344f49",
   "metadata": {
    "tags": []
   },
   "outputs": [
    {
     "name": "stdout",
     "output_type": "stream",
     "text": [
      "Result is 2.5\n"
     ]
    }
   ],
   "source": [
    "x, y= 5, 2\n",
    "try:\n",
    "    result = careful_divide(x, y)\n",
    "except ValueError:\n",
    "    print('Invalid inputs')\n",
    "else:\n",
    "    print('Result is %.1f' % result)"
   ]
  },
  {
   "cell_type": "code",
   "execution_count": 32,
   "id": "35214d81-f0dc-4b31-ab85-af96e5e75692",
   "metadata": {
    "tags": []
   },
   "outputs": [],
   "source": [
    "def careful_divide(a: float, b: float) -> float:\n",
    "    '''\n",
    "    Divides a by b\n",
    "    Raises:\n",
    "        ValueError: When the inputs cannot be divided.\n",
    "    '''\n",
    "    try:\n",
    "        return a / b\n",
    "    except ZeroDivisionError as e:\n",
    "        raise ValueError('Invalid inputs')"
   ]
  },
  {
   "cell_type": "code",
   "execution_count": 38,
   "id": "a8f45f7e-6e2e-4bff-8aa6-6de9873e0fab",
   "metadata": {
    "tags": []
   },
   "outputs": [
    {
     "name": "stdout",
     "output_type": "stream",
     "text": [
      "Result is 0.5\n"
     ]
    }
   ],
   "source": [
    "a, b= 5, 10\n",
    "try:\n",
    "    result = careful_divide(a, b)\n",
    "except ValueError:\n",
    "    print('Invalid inputs')\n",
    "else:\n",
    "    print('Result is %.1f' % result)"
   ]
  },
  {
   "cell_type": "code",
   "execution_count": null,
   "id": "f0dc2e34-c782-4189-89ef-5aabb3bf0698",
   "metadata": {},
   "outputs": [],
   "source": []
  }
 ],
 "metadata": {
  "kernelspec": {
   "display_name": "Python 3 (ipykernel)",
   "language": "python",
   "name": "python3"
  },
  "language_info": {
   "codemirror_mode": {
    "name": "ipython",
    "version": 3
   },
   "file_extension": ".py",
   "mimetype": "text/x-python",
   "name": "python",
   "nbconvert_exporter": "python",
   "pygments_lexer": "ipython3",
   "version": "3.9.14"
  }
 },
 "nbformat": 4,
 "nbformat_minor": 5
}

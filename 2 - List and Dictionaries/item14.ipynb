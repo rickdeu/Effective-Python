{
 "cells": [
  {
   "cell_type": "markdown",
   "id": "0491e212-e332-4667-a69a-4f8484e0cf34",
   "metadata": {},
   "source": [
    "# Sort by Complex Criteria Using the key Parameter"
   ]
  },
  {
   "cell_type": "code",
   "execution_count": 5,
   "id": "ab46534d-e9ea-4b3e-b443-ff18d0057c99",
   "metadata": {
    "tags": []
   },
   "outputs": [
    {
     "name": "stdout",
     "output_type": "stream",
     "text": [
      "[11, 68, 70, 86, 93]\n"
     ]
    }
   ],
   "source": [
    "numbers = [93, 86, 11, 68, 70]\n",
    "numbers.sort()\n",
    "print(numbers)"
   ]
  },
  {
   "cell_type": "code",
   "execution_count": 6,
   "id": "66f573c9-1791-478e-b669-95d88622530a",
   "metadata": {
    "tags": []
   },
   "outputs": [],
   "source": [
    "class Tool:\n",
    "    def __init__(self, name, weight):\n",
    "        self.name = name\n",
    "        self.weight = weight\n",
    "    \n",
    "    def __repr__(self):\n",
    "        return f'Tool({self.name!r}, {self.weight})'"
   ]
  },
  {
   "cell_type": "code",
   "execution_count": 7,
   "id": "8a25d976-9987-4990-af03-c438119d1d79",
   "metadata": {
    "tags": []
   },
   "outputs": [],
   "source": [
    "tools = [\n",
    "    Tool('level', 3.5),\n",
    "    Tool('hammer', 1.25),\n",
    "    Tool('screwdriver', 0.5),\n",
    "    Tool('chisel', 0.25),\n",
    "]"
   ]
  },
  {
   "cell_type": "code",
   "execution_count": 8,
   "id": "5bdcb5c8-3467-4c99-b5c1-47ea61ed700e",
   "metadata": {
    "tags": []
   },
   "outputs": [
    {
     "ename": "TypeError",
     "evalue": "'<' not supported between instances of 'Tool' and 'Tool'",
     "output_type": "error",
     "traceback": [
      "\u001b[0;31m---------------------------------------------------------------------------\u001b[0m",
      "\u001b[0;31mTypeError\u001b[0m                                 Traceback (most recent call last)",
      "Cell \u001b[0;32mIn[8], line 1\u001b[0m\n\u001b[0;32m----> 1\u001b[0m \u001b[43mtools\u001b[49m\u001b[38;5;241;43m.\u001b[39;49m\u001b[43msort\u001b[49m\u001b[43m(\u001b[49m\u001b[43m)\u001b[49m\n",
      "\u001b[0;31mTypeError\u001b[0m: '<' not supported between instances of 'Tool' and 'Tool'"
     ]
    }
   ],
   "source": [
    "tools.sort()"
   ]
  },
  {
   "cell_type": "code",
   "execution_count": 9,
   "id": "41c27484-32ab-432f-8dca-395864d3ff25",
   "metadata": {
    "tags": []
   },
   "outputs": [
    {
     "name": "stdout",
     "output_type": "stream",
     "text": [
      "Unsorted:  [Tool('level', 3.5), Tool('hammer', 1.25), Tool('screwdriver', 0.5), Tool('chisel', 0.25)]\n",
      "\n",
      "Sorted:  [Tool('chisel', 0.25), Tool('hammer', 1.25), Tool('level', 3.5), Tool('screwdriver', 0.5)]\n"
     ]
    }
   ],
   "source": [
    "print('Unsorted: ', repr(tools))\n",
    "tools.sort(key=lambda x:x.name)\n",
    "print('\\nSorted: ', tools)"
   ]
  },
  {
   "cell_type": "code",
   "execution_count": 11,
   "id": "f3147769-a111-4af3-b15e-ce02cfcaea7a",
   "metadata": {
    "tags": []
   },
   "outputs": [
    {
     "name": "stdout",
     "output_type": "stream",
     "text": [
      "By weight:  [Tool('chisel', 0.25), Tool('screwdriver', 0.5), Tool('hammer', 1.25), Tool('level', 3.5)]\n"
     ]
    }
   ],
   "source": [
    "tools.sort(key=lambda x:x.weight)\n",
    "print('By weight: ', tools)"
   ]
  },
  {
   "cell_type": "code",
   "execution_count": 18,
   "id": "70b802c4-9783-42bc-b6dc-b9db5d317202",
   "metadata": {
    "tags": []
   },
   "outputs": [],
   "source": [
    "places = ['home', 'work', 'New York', 'Paris']\n",
    "places.sort()"
   ]
  },
  {
   "cell_type": "code",
   "execution_count": 19,
   "id": "4bbd7e47-e6e0-46f7-9549-dd7825654ee9",
   "metadata": {
    "tags": []
   },
   "outputs": [
    {
     "name": "stdout",
     "output_type": "stream",
     "text": [
      "Case sensitive:  ['New York', 'Paris', 'home', 'work']\n",
      "Case insensitive:  ['home', 'New York', 'Paris', 'work']\n"
     ]
    }
   ],
   "source": [
    "print('Case sensitive: ', places)\n",
    "places.sort(key=lambda x:x.lower())\n",
    "print('Case insensitive: ', places)"
   ]
  },
  {
   "cell_type": "code",
   "execution_count": 20,
   "id": "e361aa8c-0c02-4ab9-8738-ba2f99b24c87",
   "metadata": {
    "tags": []
   },
   "outputs": [],
   "source": [
    "power_tools = [\n",
    "    Tool('drill', 4),\n",
    "    Tool('circular saw', 5),\n",
    "    Tool('jackhammer', 40),\n",
    "    Tool('sander', 4),\n",
    "]"
   ]
  },
  {
   "cell_type": "code",
   "execution_count": 23,
   "id": "aff809f4-d69b-44c0-b6ba-1ccba25f3f0b",
   "metadata": {
    "tags": []
   },
   "outputs": [],
   "source": [
    "saw = (5, 'circular saw')\n",
    "jackhammer = (40, 'jackhammer')\n",
    "assert not (jackhammer < saw) # Matches expectations"
   ]
  },
  {
   "cell_type": "code",
   "execution_count": 24,
   "id": "18a1949b-d954-43d4-8ca6-83057987bb09",
   "metadata": {
    "tags": []
   },
   "outputs": [],
   "source": [
    "drill = (4, 'drill')\n",
    "sander = (4, 'sander')\n",
    "\n",
    "assert drill[0] == sander[0] # Same weight\n",
    "assert drill[1] < sander[1] # Alphabetically less\n",
    "assert drill < sander # Thus, drill comes first"
   ]
  },
  {
   "cell_type": "code",
   "execution_count": 27,
   "id": "ccd487ae-06b7-4375-aed5-15ce8adfeb17",
   "metadata": {
    "tags": []
   },
   "outputs": [
    {
     "name": "stdout",
     "output_type": "stream",
     "text": [
      "[Tool('drill', 4), Tool('sander', 4), Tool('circular saw', 5), Tool('jackhammer', 40)]\n"
     ]
    }
   ],
   "source": [
    "power_tools.sort(key=lambda x: (x.weight, x.name))\n",
    "print(power_tools)"
   ]
  },
  {
   "cell_type": "code",
   "execution_count": 28,
   "id": "a0bce8a0-e691-4926-85a1-d86a85d6fff9",
   "metadata": {
    "tags": []
   },
   "outputs": [
    {
     "name": "stdout",
     "output_type": "stream",
     "text": [
      "[Tool('jackhammer', 40), Tool('circular saw', 5), Tool('sander', 4), Tool('drill', 4)]\n"
     ]
    }
   ],
   "source": [
    "power_tools.sort(key=lambda x: (x.weight, x.name), reverse=True) # Makes all criteria descending\n",
    "print(power_tools)"
   ]
  },
  {
   "cell_type": "code",
   "execution_count": 29,
   "id": "368ee53b-d643-4234-ab6f-2642c1ba1526",
   "metadata": {
    "tags": []
   },
   "outputs": [
    {
     "name": "stdout",
     "output_type": "stream",
     "text": [
      "[Tool('jackhammer', 40), Tool('circular saw', 5), Tool('drill', 4), Tool('sander', 4)]\n"
     ]
    }
   ],
   "source": [
    "power_tools.sort(key=lambda x: (-x.weight, x.name))\n",
    "print(power_tools)"
   ]
  },
  {
   "cell_type": "code",
   "execution_count": 30,
   "id": "a5cb8964-d9d8-4c98-b18f-cee4242ca406",
   "metadata": {
    "tags": []
   },
   "outputs": [
    {
     "ename": "TypeError",
     "evalue": "bad operand type for unary -: 'str'",
     "output_type": "error",
     "traceback": [
      "\u001b[0;31m---------------------------------------------------------------------------\u001b[0m",
      "\u001b[0;31mTypeError\u001b[0m                                 Traceback (most recent call last)",
      "Cell \u001b[0;32mIn[30], line 1\u001b[0m\n\u001b[0;32m----> 1\u001b[0m \u001b[43mpower_tools\u001b[49m\u001b[38;5;241;43m.\u001b[39;49m\u001b[43msort\u001b[49m\u001b[43m(\u001b[49m\u001b[43mkey\u001b[49m\u001b[38;5;241;43m=\u001b[39;49m\u001b[38;5;28;43;01mlambda\u001b[39;49;00m\u001b[43m \u001b[49m\u001b[43mx\u001b[49m\u001b[43m:\u001b[49m\u001b[43m \u001b[49m\u001b[43m(\u001b[49m\u001b[43mx\u001b[49m\u001b[38;5;241;43m.\u001b[39;49m\u001b[43mweight\u001b[49m\u001b[43m,\u001b[49m\u001b[43m \u001b[49m\u001b[38;5;241;43m-\u001b[39;49m\u001b[43mx\u001b[49m\u001b[38;5;241;43m.\u001b[39;49m\u001b[43mname\u001b[49m\u001b[43m)\u001b[49m\u001b[43m)\u001b[49m\n\u001b[1;32m      2\u001b[0m \u001b[38;5;28mprint\u001b[39m(power_tools)\n",
      "Cell \u001b[0;32mIn[30], line 1\u001b[0m, in \u001b[0;36m<lambda>\u001b[0;34m(x)\u001b[0m\n\u001b[0;32m----> 1\u001b[0m power_tools\u001b[38;5;241m.\u001b[39msort(key\u001b[38;5;241m=\u001b[39m\u001b[38;5;28;01mlambda\u001b[39;00m x: (x\u001b[38;5;241m.\u001b[39mweight, \u001b[38;5;241;43m-\u001b[39;49m\u001b[43mx\u001b[49m\u001b[38;5;241;43m.\u001b[39;49m\u001b[43mname\u001b[49m))\n\u001b[1;32m      2\u001b[0m \u001b[38;5;28mprint\u001b[39m(power_tools)\n",
      "\u001b[0;31mTypeError\u001b[0m: bad operand type for unary -: 'str'"
     ]
    }
   ],
   "source": [
    "power_tools.sort(key=lambda x: (x.weight, -x.name))\n",
    "print(power_tools)"
   ]
  },
  {
   "cell_type": "code",
   "execution_count": 31,
   "id": "38f8234a-54f8-45a4-bdf7-3a725e71ee01",
   "metadata": {
    "tags": []
   },
   "outputs": [
    {
     "name": "stdout",
     "output_type": "stream",
     "text": [
      "[Tool('jackhammer', 40), Tool('circular saw', 5), Tool('drill', 4), Tool('sander', 4)]\n"
     ]
    }
   ],
   "source": [
    "power_tools.sort(key=lambda x: x.name)\n",
    "power_tools.sort(key=lambda x: x.weight, reverse=True)\n",
    "print(power_tools)"
   ]
  },
  {
   "cell_type": "code",
   "execution_count": 32,
   "id": "0b5e386e-db81-4d5c-88ea-ae86deccd8c5",
   "metadata": {
    "tags": []
   },
   "outputs": [
    {
     "name": "stdout",
     "output_type": "stream",
     "text": [
      "[Tool('circular saw', 5), Tool('drill', 4), Tool('jackhammer', 40), Tool('sander', 4)]\n"
     ]
    }
   ],
   "source": [
    "power_tools.sort(key=lambda x: x.name)\n",
    "print(power_tools)"
   ]
  },
  {
   "cell_type": "code",
   "execution_count": 33,
   "id": "b8520ebe-0ac0-44c6-b410-14c2cf3b9f76",
   "metadata": {
    "tags": []
   },
   "outputs": [
    {
     "name": "stdout",
     "output_type": "stream",
     "text": [
      "[Tool('jackhammer', 40), Tool('circular saw', 5), Tool('drill', 4), Tool('sander', 4)]\n"
     ]
    }
   ],
   "source": [
    "power_tools.sort(key=lambda x:x.weight, reverse=True)\n",
    "print(power_tools)"
   ]
  },
  {
   "cell_type": "code",
   "execution_count": null,
   "id": "de94b62e-995d-4c7c-8c3f-0a9ba4eb5881",
   "metadata": {},
   "outputs": [],
   "source": []
  }
 ],
 "metadata": {
  "kernelspec": {
   "display_name": "Python 3 (ipykernel)",
   "language": "python",
   "name": "python3"
  },
  "language_info": {
   "codemirror_mode": {
    "name": "ipython",
    "version": 3
   },
   "file_extension": ".py",
   "mimetype": "text/x-python",
   "name": "python",
   "nbconvert_exporter": "python",
   "pygments_lexer": "ipython3",
   "version": "3.9.14"
  }
 },
 "nbformat": 4,
 "nbformat_minor": 5
}

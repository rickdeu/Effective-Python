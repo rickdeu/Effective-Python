{
 "cells": [
  {
   "cell_type": "markdown",
   "id": "7532c5af-3bcf-44fb-b9de-c547ac56d046",
   "metadata": {},
   "source": [
    "# Prefer get Over in and KeyError to Handle Missing Dictionary Keys"
   ]
  },
  {
   "cell_type": "code",
   "execution_count": 1,
   "id": "8f61cc81-8efa-47c1-8f7f-e0eb4b73d0b0",
   "metadata": {},
   "outputs": [],
   "source": [
    "counters = {\n",
    "    'pumpernickel': 2,\n",
    "    'sourdugh': 1,\n",
    "}"
   ]
  },
  {
   "cell_type": "code",
   "execution_count": 2,
   "id": "a0e753be-b385-415f-b9af-8b746c60f9a3",
   "metadata": {
    "tags": []
   },
   "outputs": [],
   "source": [
    "key = 'wheat'"
   ]
  },
  {
   "cell_type": "code",
   "execution_count": 3,
   "id": "7b1368d5-4070-4a1b-97f5-257eba4b0707",
   "metadata": {
    "tags": []
   },
   "outputs": [],
   "source": [
    "if key in counters:\n",
    "    count = counters[key]\n",
    "else:\n",
    "    count = 0"
   ]
  },
  {
   "cell_type": "code",
   "execution_count": 4,
   "id": "2cfd5ba6-5faa-46a8-b8b0-f8deefcde9dd",
   "metadata": {
    "tags": []
   },
   "outputs": [],
   "source": [
    "try:\n",
    "    count = counters[key]\n",
    "except KeyError:\n",
    "    count = 0"
   ]
  },
  {
   "cell_type": "code",
   "execution_count": 5,
   "id": "ecb8deb2-c4b5-42aa-9f61-296b6e8cc68d",
   "metadata": {
    "tags": []
   },
   "outputs": [],
   "source": [
    "count = counters.get(key, 0)\n",
    "counters[key] = count +1"
   ]
  },
  {
   "cell_type": "code",
   "execution_count": 6,
   "id": "ec2df79c-1b9c-433d-97a6-f2ae55bb7a63",
   "metadata": {
    "tags": []
   },
   "outputs": [],
   "source": [
    "if key not in counters:\n",
    "    counters[key] += 0\n",
    "counters[key] += 1"
   ]
  },
  {
   "cell_type": "code",
   "execution_count": 7,
   "id": "3e1a53d7-9486-4ce0-8cb8-edbad204c6b2",
   "metadata": {
    "tags": []
   },
   "outputs": [],
   "source": [
    "if key in counters:\n",
    "    counters[key] += 1\n",
    "else:\n",
    "    counters[key] = 1"
   ]
  },
  {
   "cell_type": "code",
   "execution_count": 8,
   "id": "ab0128bf-d3a5-4446-ad44-a41616fc0613",
   "metadata": {
    "tags": []
   },
   "outputs": [],
   "source": [
    "try:\n",
    "    counters[key] += 1\n",
    "except KeyError:\n",
    "    counters[key] = 1"
   ]
  },
  {
   "cell_type": "code",
   "execution_count": 16,
   "id": "aff17cb7-dd43-420c-8352-a90720d49b21",
   "metadata": {
    "tags": []
   },
   "outputs": [],
   "source": [
    "votes = {\n",
    "    'baguette': ['Bob', 'Alice'],\n",
    "    'ciabatta': ['Coco', 'Deb'],\n",
    "}\n",
    "key = 'brioche'\n",
    "who = 'Elmer'"
   ]
  },
  {
   "cell_type": "code",
   "execution_count": 19,
   "id": "0dc0b0aa-3371-4957-923a-765b14aacc22",
   "metadata": {
    "tags": []
   },
   "outputs": [],
   "source": [
    "if key in votes:\n",
    "    names = votes[key]\n",
    "else:\n",
    "    votes[key] = names = []"
   ]
  },
  {
   "cell_type": "code",
   "execution_count": 20,
   "id": "01094ed0-5d99-41c1-b17b-62ebffb0b575",
   "metadata": {
    "tags": []
   },
   "outputs": [
    {
     "name": "stdout",
     "output_type": "stream",
     "text": [
      "{'baguette': ['Bob', 'Alice'], 'ciabatta': ['Coco', 'Deb'], 'brioche': ['Elmer']}\n"
     ]
    }
   ],
   "source": [
    "names.append(who)\n",
    "print(votes)"
   ]
  },
  {
   "cell_type": "code",
   "execution_count": 21,
   "id": "9b7c2f3e-c0c0-4132-b0a5-ba6916bdaf3f",
   "metadata": {
    "tags": []
   },
   "outputs": [],
   "source": [
    "try:\n",
    "    names = votes[key]\n",
    "except KeyError:\n",
    "    votes[key] = names = []"
   ]
  },
  {
   "cell_type": "code",
   "execution_count": 22,
   "id": "b7835ee8-e9dd-4600-95f9-866c2f30d22d",
   "metadata": {
    "tags": []
   },
   "outputs": [],
   "source": [
    "names.append(who)"
   ]
  },
  {
   "cell_type": "code",
   "execution_count": 23,
   "id": "77f8a5bb-93f2-4d8d-816e-b7138da62d40",
   "metadata": {
    "tags": []
   },
   "outputs": [],
   "source": [
    "names = votes.get(key)\n",
    "if names is None:\n",
    "    votes[key] = names = []"
   ]
  },
  {
   "cell_type": "code",
   "execution_count": 24,
   "id": "092bf9e3-cd04-48cb-8240-3780c38d4685",
   "metadata": {
    "tags": []
   },
   "outputs": [],
   "source": [
    "if (names := votes.get(key)) is None:\n",
    "    votes[key] = names = []"
   ]
  },
  {
   "cell_type": "code",
   "execution_count": 25,
   "id": "bf3e5811-e480-4b91-993e-4169617515eb",
   "metadata": {
    "tags": []
   },
   "outputs": [],
   "source": [
    "names.append(who)"
   ]
  },
  {
   "cell_type": "code",
   "execution_count": 26,
   "id": "752263ba-628f-4c03-912f-705ecc172d37",
   "metadata": {
    "tags": []
   },
   "outputs": [],
   "source": [
    "names = votes.setdefault(key, [])\n",
    "names.append(who)"
   ]
  },
  {
   "cell_type": "code",
   "execution_count": 28,
   "id": "831450ce-9b5d-439b-b51c-1f3849fb9231",
   "metadata": {
    "tags": []
   },
   "outputs": [
    {
     "name": "stdout",
     "output_type": "stream",
     "text": [
      "Before:  {'foo': []}\n",
      "After {'foo': ['hello']}\n"
     ]
    }
   ],
   "source": [
    "data = {}\n",
    "key = 'foo'\n",
    "value = []\n",
    "data.setdefault(key, value)\n",
    "print('Before: ', data)\n",
    "value.append('hello')\n",
    "print('After', data)"
   ]
  },
  {
   "cell_type": "code",
   "execution_count": 29,
   "id": "f601bf01-a484-4839-96f5-61925c74af45",
   "metadata": {
    "tags": []
   },
   "outputs": [],
   "source": [
    "count = counters.setdefault(key, 0)\n",
    "counters[key] = count + 1"
   ]
  },
  {
   "cell_type": "code",
   "execution_count": null,
   "id": "05ecd2b7-2d24-4d5a-a791-bf5f964ec1fb",
   "metadata": {},
   "outputs": [],
   "source": []
  }
 ],
 "metadata": {
  "kernelspec": {
   "display_name": "Python 3 (ipykernel)",
   "language": "python",
   "name": "python3"
  },
  "language_info": {
   "codemirror_mode": {
    "name": "ipython",
    "version": 3
   },
   "file_extension": ".py",
   "mimetype": "text/x-python",
   "name": "python",
   "nbconvert_exporter": "python",
   "pygments_lexer": "ipython3",
   "version": "3.9.14"
  }
 },
 "nbformat": 4,
 "nbformat_minor": 5
}

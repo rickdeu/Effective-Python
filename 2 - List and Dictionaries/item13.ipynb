{
 "cells": [
  {
   "cell_type": "markdown",
   "id": "b18a75bf-8ead-40b7-9d5b-e66220a5a783",
   "metadata": {},
   "source": [
    "# Prefer Catch-All Unpacking Over Slicing"
   ]
  },
  {
   "cell_type": "code",
   "execution_count": 2,
   "id": "e3d7ca45-6a22-4c4e-a551-75cfde0a1f12",
   "metadata": {
    "tags": []
   },
   "outputs": [],
   "source": [
    "car_ages = [0, 9, 4, 8, 7, 20, 19, 1, 6,15]"
   ]
  },
  {
   "cell_type": "code",
   "execution_count": 3,
   "id": "075b2e3e-2324-436e-ad34-01dba0b2cdb3",
   "metadata": {
    "tags": []
   },
   "outputs": [],
   "source": [
    "car_ages_descending = sorted(car_ages, reverse=True)"
   ]
  },
  {
   "cell_type": "code",
   "execution_count": 4,
   "id": "658a6645-b782-438a-aa2b-4671e63be6de",
   "metadata": {
    "tags": []
   },
   "outputs": [
    {
     "ename": "ValueError",
     "evalue": "too many values to unpack (expected 2)",
     "output_type": "error",
     "traceback": [
      "\u001b[0;31m---------------------------------------------------------------------------\u001b[0m",
      "\u001b[0;31mValueError\u001b[0m                                Traceback (most recent call last)",
      "Cell \u001b[0;32mIn[4], line 1\u001b[0m\n\u001b[0;32m----> 1\u001b[0m oldest, second_oldest \u001b[38;5;241m=\u001b[39m car_ages_descending\n",
      "\u001b[0;31mValueError\u001b[0m: too many values to unpack (expected 2)"
     ]
    }
   ],
   "source": [
    "oldest, second_oldest = car_ages_descending"
   ]
  },
  {
   "cell_type": "code",
   "execution_count": 5,
   "id": "b0f35013-722a-48ce-85ba-1502b09489fa",
   "metadata": {
    "tags": []
   },
   "outputs": [],
   "source": [
    "oldest = car_ages_descending[0]"
   ]
  },
  {
   "cell_type": "code",
   "execution_count": 6,
   "id": "95dc9c67-2a5d-4d65-b19d-44138395cfb4",
   "metadata": {
    "tags": []
   },
   "outputs": [],
   "source": [
    "second_oldest = car_ages_descending[1]"
   ]
  },
  {
   "cell_type": "code",
   "execution_count": 7,
   "id": "f7484299-b50f-4edb-ac23-4cae69047305",
   "metadata": {
    "tags": []
   },
   "outputs": [],
   "source": [
    "others = car_ages_descending[2:]"
   ]
  },
  {
   "cell_type": "code",
   "execution_count": 8,
   "id": "b9125e01-3d26-4e27-b060-44e3a605a300",
   "metadata": {
    "tags": []
   },
   "outputs": [
    {
     "name": "stdout",
     "output_type": "stream",
     "text": [
      "20 19 [15, 9, 8, 7, 6, 4, 1, 0]\n"
     ]
    }
   ],
   "source": [
    "print(oldest, second_oldest, others)"
   ]
  },
  {
   "cell_type": "code",
   "execution_count": 9,
   "id": "d8c39ae2-24ba-4d19-a65b-a71371c3df37",
   "metadata": {
    "tags": []
   },
   "outputs": [
    {
     "name": "stdout",
     "output_type": "stream",
     "text": [
      "20 19 [15, 9, 8, 7, 6, 4, 1, 0]\n"
     ]
    }
   ],
   "source": [
    "oldest, second_oldest, *others = car_ages_descending\n",
    "print(oldest, second_oldest, others)"
   ]
  },
  {
   "cell_type": "code",
   "execution_count": 10,
   "id": "a0074ddd-8318-4bce-b1b9-6015b283f41b",
   "metadata": {
    "tags": []
   },
   "outputs": [],
   "source": [
    "oldest, *others, youngest = car_ages_descending"
   ]
  },
  {
   "cell_type": "code",
   "execution_count": 11,
   "id": "8e90e07c-55ad-48c6-a205-851c091483ce",
   "metadata": {
    "tags": []
   },
   "outputs": [
    {
     "name": "stdout",
     "output_type": "stream",
     "text": [
      "20 0 [19, 15, 9, 8, 7, 6, 4, 1]\n"
     ]
    }
   ],
   "source": [
    "print(oldest, youngest, others)"
   ]
  },
  {
   "cell_type": "code",
   "execution_count": 12,
   "id": "202784e1-f764-4c74-85c5-4935df78f410",
   "metadata": {
    "tags": []
   },
   "outputs": [
    {
     "name": "stdout",
     "output_type": "stream",
     "text": [
      "0 1 [20, 19, 15, 9, 8, 7, 6, 4]\n"
     ]
    }
   ],
   "source": [
    "*others, second_youngest, youngest = car_ages_descending\n",
    "print(youngest, second_youngest, others)"
   ]
  },
  {
   "cell_type": "code",
   "execution_count": 17,
   "id": "a3e07515-0916-4bd1-a0a3-e036df924f05",
   "metadata": {
    "tags": []
   },
   "outputs": [
    {
     "ename": "SyntaxError",
     "evalue": "starred assignment target must be in a list or tuple (2422727027.py, line 1)",
     "output_type": "error",
     "traceback": [
      "\u001b[0;36m  Cell \u001b[0;32mIn[17], line 1\u001b[0;36m\u001b[0m\n\u001b[0;31m    *others = car_ages_descending\u001b[0m\n\u001b[0m    ^\u001b[0m\n\u001b[0;31mSyntaxError\u001b[0m\u001b[0;31m:\u001b[0m starred assignment target must be in a list or tuple\n"
     ]
    }
   ],
   "source": [
    "*others = car_ages_descending"
   ]
  },
  {
   "cell_type": "code",
   "execution_count": 18,
   "id": "78978f4d-4bc4-40e0-9173-90eaff887df2",
   "metadata": {
    "tags": []
   },
   "outputs": [
    {
     "ename": "SyntaxError",
     "evalue": "multiple starred expressions in assignment (1187532336.py, line 1)",
     "output_type": "error",
     "traceback": [
      "\u001b[0;36m  Cell \u001b[0;32mIn[18], line 1\u001b[0;36m\u001b[0m\n\u001b[0;31m    first, *middle, *second_middle, last = [1, 2, 3, 4]\u001b[0m\n\u001b[0m    ^\u001b[0m\n\u001b[0;31mSyntaxError\u001b[0m\u001b[0;31m:\u001b[0m multiple starred expressions in assignment\n"
     ]
    }
   ],
   "source": [
    "first, *middle, *second_middle, last = [1, 2, 3, 4]"
   ]
  },
  {
   "cell_type": "code",
   "execution_count": 19,
   "id": "b7cd5195-4b65-4a7b-b44e-07533ea8fc5e",
   "metadata": {},
   "outputs": [],
   "source": [
    "car_inventory = {\n",
    "    'Downtown': ('Silver Shadow', 'Pinto', 'DMC'),\n",
    "    'Airport': ('Skyline', 'Viper', 'Gremlin', 'Nova')\n",
    "}"
   ]
  },
  {
   "cell_type": "code",
   "execution_count": 20,
   "id": "2e39e86d-a41e-46b1-8a6d-7a443efd09d3",
   "metadata": {
    "tags": []
   },
   "outputs": [],
   "source": [
    "((loc1, (best1, *rest1)),\n",
    "(loc2, (best2, *rest2))) = car_inventory.items()"
   ]
  },
  {
   "cell_type": "code",
   "execution_count": 23,
   "id": "ed434f9e-93c9-4f44-8e56-8d4c5490c36c",
   "metadata": {
    "tags": []
   },
   "outputs": [
    {
     "name": "stdout",
     "output_type": "stream",
     "text": [
      "Best at Downtown is Silver Shadow, 2 others\n",
      "Best at Airport is Skyline, 3 others\n"
     ]
    }
   ],
   "source": [
    "print(f'Best at {loc1} is {best1}, {len(rest1)} others')\n",
    "print(f'Best at {loc2} is {best2}, {len(rest2)} others')"
   ]
  },
  {
   "cell_type": "code",
   "execution_count": 34,
   "id": "37bde324-063f-461a-9143-9f2e031196cf",
   "metadata": {
    "tags": []
   },
   "outputs": [
    {
     "name": "stdout",
     "output_type": "stream",
     "text": [
      "1 2 []\n"
     ]
    }
   ],
   "source": [
    "short_list = [1, 2]\n",
    "first, second, *rest = short_list\n",
    "print(first, second, rest)"
   ]
  },
  {
   "cell_type": "code",
   "execution_count": 42,
   "id": "143cdc01-4634-4f2d-b4d7-a12dcce29d2d",
   "metadata": {
    "tags": []
   },
   "outputs": [],
   "source": [
    "it = iter(range(1, 3))"
   ]
  },
  {
   "cell_type": "code",
   "execution_count": 43,
   "id": "b221c591-0dde-4966-8029-ce2e5bec7a30",
   "metadata": {
    "tags": []
   },
   "outputs": [
    {
     "name": "stdout",
     "output_type": "stream",
     "text": [
      "1 and 2\n"
     ]
    }
   ],
   "source": [
    "first, second = it\n",
    "print(f'{first} and {second}')"
   ]
  },
  {
   "cell_type": "code",
   "execution_count": 44,
   "id": "4c86937d-deec-4850-912a-c33451e51794",
   "metadata": {
    "tags": []
   },
   "outputs": [],
   "source": [
    "def generate_csv():\n",
    "    yield ('Date', 'Make', 'Model', 'Year', 'Price')\n",
    "    ..."
   ]
  },
  {
   "cell_type": "code",
   "execution_count": 46,
   "id": "9400ae79-ac8e-4f5a-8670-ef19cad2d7c5",
   "metadata": {
    "tags": []
   },
   "outputs": [],
   "source": [
    "all_csv_rows = list(generate_csv())\n",
    "header = all_csv_rows[0]\n",
    "rows = all_csv_rows[1:]"
   ]
  },
  {
   "cell_type": "code",
   "execution_count": 47,
   "id": "63c37e0d-d8aa-41fa-9185-82fc396f88db",
   "metadata": {
    "tags": []
   },
   "outputs": [
    {
     "name": "stdout",
     "output_type": "stream",
     "text": [
      "CSV Header:  ('Date', 'Make', 'Model', 'Year', 'Price')\n",
      "Row count:  0\n"
     ]
    }
   ],
   "source": [
    "print('CSV Header: ', header)\n",
    "print('Row count: ', len(rows))"
   ]
  },
  {
   "cell_type": "code",
   "execution_count": 48,
   "id": "35b7553f-ddcf-46ca-9ff2-b54c67645ec2",
   "metadata": {
    "tags": []
   },
   "outputs": [],
   "source": [
    "it = generate_csv()\n",
    "header, *rows = it"
   ]
  },
  {
   "cell_type": "code",
   "execution_count": 49,
   "id": "463457ed-8afc-453a-bc31-c88243b95cdc",
   "metadata": {
    "tags": []
   },
   "outputs": [
    {
     "name": "stdout",
     "output_type": "stream",
     "text": [
      "CSV Header:  ('Date', 'Make', 'Model', 'Year', 'Price')\n",
      "Row count:  0\n"
     ]
    }
   ],
   "source": [
    "print('CSV Header: ', header)\n",
    "print('Row count: ', len(rows))"
   ]
  },
  {
   "cell_type": "code",
   "execution_count": null,
   "id": "cb13c93b-45db-4c59-ace9-dfc427263ceb",
   "metadata": {},
   "outputs": [],
   "source": []
  }
 ],
 "metadata": {
  "kernelspec": {
   "display_name": "Python 3 (ipykernel)",
   "language": "python",
   "name": "python3"
  },
  "language_info": {
   "codemirror_mode": {
    "name": "ipython",
    "version": 3
   },
   "file_extension": ".py",
   "mimetype": "text/x-python",
   "name": "python",
   "nbconvert_exporter": "python",
   "pygments_lexer": "ipython3",
   "version": "3.9.14"
  }
 },
 "nbformat": 4,
 "nbformat_minor": 5
}

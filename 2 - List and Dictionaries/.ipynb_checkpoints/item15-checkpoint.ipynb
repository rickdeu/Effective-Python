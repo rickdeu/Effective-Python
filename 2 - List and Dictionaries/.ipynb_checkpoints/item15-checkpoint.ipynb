{
 "cells": [
  {
   "cell_type": "markdown",
   "id": "70fd2897-ec29-4437-9c22-0142d9ba8a61",
   "metadata": {},
   "source": [
    "# Be Caution When Relying on dict Insertion Ordering"
   ]
  },
  {
   "cell_type": "code",
   "execution_count": 3,
   "id": "39fbb078-4deb-4626-8f8f-88e22047388b",
   "metadata": {
    "tags": []
   },
   "outputs": [
    {
     "name": "stdout",
     "output_type": "stream",
     "text": [
      "{'cat': 'kitten', 'dog': 'puppy'}\n"
     ]
    }
   ],
   "source": [
    "baby_names = {\n",
    "    'cat':'kitten',\n",
    "    'dog':'puppy',\n",
    "}\n",
    "print(baby_names)"
   ]
  },
  {
   "cell_type": "code",
   "execution_count": 5,
   "id": "5740442e-4382-4e11-af2c-02d8dfc74807",
   "metadata": {
    "tags": []
   },
   "outputs": [
    {
     "name": "stdout",
     "output_type": "stream",
     "text": [
      "['cat']\n",
      "['kitten']\n",
      "[('cat', 'kitten')]\n",
      "('cat', 'kitten')\n"
     ]
    }
   ],
   "source": [
    "print(list(baby_names.keys()))\n",
    "print(list(baby_names.values()))\n",
    "print(list(baby_names.items()))\n",
    "print(baby_names.popitem()) # Randomly chooses an item"
   ]
  },
  {
   "cell_type": "code",
   "execution_count": 6,
   "id": "b3c49fa1-d47e-4dcc-86cf-b1bbdad54d96",
   "metadata": {
    "tags": []
   },
   "outputs": [],
   "source": [
    "def my_func(**kwargs):\n",
    "    for key, value in kwargs.items():\n",
    "        print('%s = %s' %(key, value))"
   ]
  },
  {
   "cell_type": "code",
   "execution_count": 7,
   "id": "0ca2e7e4-8f14-4465-9d1b-f223b6cff770",
   "metadata": {
    "tags": []
   },
   "outputs": [
    {
     "name": "stdout",
     "output_type": "stream",
     "text": [
      "goose = gosling\n",
      "kangaroo = joey\n"
     ]
    }
   ],
   "source": [
    "my_func(goose='gosling', kangaroo='joey')"
   ]
  },
  {
   "cell_type": "code",
   "execution_count": 8,
   "id": "7f9aefdb-2080-46f3-b92e-a61158664ed3",
   "metadata": {
    "tags": []
   },
   "outputs": [],
   "source": [
    "def my_func(**kwargs):\n",
    "    for key, value in kwargs.items():\n",
    "        print(f'{key} = {value}')"
   ]
  },
  {
   "cell_type": "code",
   "execution_count": 9,
   "id": "3b63cce3-9e74-40ef-bac2-1706b32e0f52",
   "metadata": {
    "tags": []
   },
   "outputs": [
    {
     "name": "stdout",
     "output_type": "stream",
     "text": [
      "goose = gosling\n",
      "kangaroo = joey\n"
     ]
    }
   ],
   "source": [
    "my_func(goose='gosling', kangaroo='joey')"
   ]
  },
  {
   "cell_type": "code",
   "execution_count": 10,
   "id": "10645da4-4b82-4cb7-a6d4-88a1a485a1f2",
   "metadata": {
    "tags": []
   },
   "outputs": [],
   "source": [
    "class MyClass:\n",
    "    def __init__(self):\n",
    "        self.alligator = 'hatchiling'\n",
    "        self.elephant = 'calf'"
   ]
  },
  {
   "cell_type": "code",
   "execution_count": 11,
   "id": "0eb238a4-ccc0-41fd-be90-658d9e2a46e1",
   "metadata": {
    "tags": []
   },
   "outputs": [
    {
     "name": "stdout",
     "output_type": "stream",
     "text": [
      "alligator = hatchiling\n",
      "elephant = calf\n"
     ]
    }
   ],
   "source": [
    "a = MyClass()\n",
    "for key, value in a.__dict__.items():\n",
    "    print('%s = %s'%(key, value))"
   ]
  },
  {
   "cell_type": "code",
   "execution_count": 12,
   "id": "39e41cdd-8937-40d7-be46-3617d6c9bd21",
   "metadata": {
    "tags": []
   },
   "outputs": [
    {
     "name": "stdout",
     "output_type": "stream",
     "text": [
      "alligator = hatchiling\n",
      "elephant = calf\n"
     ]
    }
   ],
   "source": [
    "a = MyClass()\n",
    "for key, value in a.__dict__.items():\n",
    "    print(f'{key} = {value}')"
   ]
  },
  {
   "cell_type": "code",
   "execution_count": 21,
   "id": "1c2e493f-5d52-43d2-9729-9a66677dd5fc",
   "metadata": {
    "tags": []
   },
   "outputs": [],
   "source": [
    "votes = {\n",
    "    'otter': 1281,\n",
    "    'polar bear': 587,\n",
    "    'fox': 863,\n",
    "}"
   ]
  },
  {
   "cell_type": "code",
   "execution_count": 22,
   "id": "f46f6a42-f430-4d4d-b127-95221c0b0078",
   "metadata": {
    "tags": []
   },
   "outputs": [],
   "source": [
    "def populate_ranks(votes, ranks):\n",
    "    names = list(votes.keys())\n",
    "    names.sort(key=votes.get, reverse=True)\n",
    "    for i, name in enumerate(names, 1):\n",
    "        ranks[name] = i"
   ]
  },
  {
   "cell_type": "code",
   "execution_count": 23,
   "id": "d46ae04c-ec20-4f24-a976-7da380714bcb",
   "metadata": {
    "tags": []
   },
   "outputs": [],
   "source": [
    "def get_winner(ranks):\n",
    "    return next(iter(ranks))"
   ]
  },
  {
   "cell_type": "code",
   "execution_count": 24,
   "id": "da0c8837-e3af-44fc-b92c-928bd9f23076",
   "metadata": {
    "tags": []
   },
   "outputs": [
    {
     "name": "stdout",
     "output_type": "stream",
     "text": [
      "{'otter': 1, 'fox': 2, 'polar bear': 3}\n",
      "otter\n"
     ]
    }
   ],
   "source": [
    "ranks = {}\n",
    "populate_ranks(votes, ranks)\n",
    "print(ranks)\n",
    "winner = get_winner(ranks)\n",
    "print(winner)"
   ]
  },
  {
   "cell_type": "code",
   "execution_count": 25,
   "id": "60f11228-cc3e-4b04-8211-810a8a292bda",
   "metadata": {
    "tags": []
   },
   "outputs": [],
   "source": [
    "from collections.abc import MutableMapping"
   ]
  },
  {
   "cell_type": "code",
   "execution_count": 26,
   "id": "11165e8a-ecbb-42d8-ab77-46026296a575",
   "metadata": {
    "tags": []
   },
   "outputs": [],
   "source": [
    "class SortedDict(MutableMapping):\n",
    "    def __ini__(self):\n",
    "        self.data = {}\n",
    "        \n",
    "    def __getitem__(self, key):\n",
    "        return self.data[key]\n",
    "    \n",
    "    def __setitem__(self, key, value):\n",
    "        self.data[key] = value\n",
    "        \n",
    "    def __delitem__(self, key):\n",
    "        del self.data[key]\n",
    "        \n",
    "    def __iter__(self):\n",
    "        keys = list(self.data.keys())\n",
    "        keys.sort()\n",
    "        for key in keys():\n",
    "            yield key\n",
    "            \n",
    "    def __len__(self):\n",
    "        return len(self.data)"
   ]
  },
  {
   "cell_type": "code",
   "execution_count": null,
   "id": "677bcd93-98cd-4fd3-82c5-fb4b74cd7176",
   "metadata": {},
   "outputs": [],
   "source": []
  }
 ],
 "metadata": {
  "kernelspec": {
   "display_name": "Python 3 (ipykernel)",
   "language": "python",
   "name": "python3"
  },
  "language_info": {
   "codemirror_mode": {
    "name": "ipython",
    "version": 3
   },
   "file_extension": ".py",
   "mimetype": "text/x-python",
   "name": "python",
   "nbconvert_exporter": "python",
   "pygments_lexer": "ipython3",
   "version": "3.9.14"
  }
 },
 "nbformat": 4,
 "nbformat_minor": 5
}

{
 "cells": [
  {
   "cell_type": "markdown",
   "id": "f9d98056-f5db-4516-ae35-c37ef0303a2e",
   "metadata": {},
   "source": [
    "# Know How to Slice Sequences"
   ]
  },
  {
   "cell_type": "code",
   "execution_count": 7,
   "id": "e5104b63-f7db-45a9-81ed-8512c2fba760",
   "metadata": {
    "tags": []
   },
   "outputs": [],
   "source": [
    "a = ['a', 'b', 'c', 'd', 'e', 'f', 'g', 'h']"
   ]
  },
  {
   "cell_type": "code",
   "execution_count": 8,
   "id": "239ac692-9250-4fc6-98a6-46b17190d634",
   "metadata": {
    "tags": []
   },
   "outputs": [
    {
     "name": "stdout",
     "output_type": "stream",
     "text": [
      "Middle two:  ['d', 'e']\n",
      "All but ends ['b', 'c', 'd', 'e', 'f', 'g']\n"
     ]
    }
   ],
   "source": [
    "print('Middle two: ', a[3:5])\n",
    "print('All but ends', a[1:7])"
   ]
  },
  {
   "cell_type": "code",
   "execution_count": 11,
   "id": "b1b3cf3c-c028-4211-aa6c-08ebc3bce1f9",
   "metadata": {
    "tags": []
   },
   "outputs": [],
   "source": [
    "assert a[:5] == a[0:5]"
   ]
  },
  {
   "cell_type": "code",
   "execution_count": 12,
   "id": "504e54d4-d24e-468d-a087-8cbba9f3dd69",
   "metadata": {
    "tags": []
   },
   "outputs": [],
   "source": [
    "assert a[5:] == a[5:len(a)]"
   ]
  },
  {
   "cell_type": "code",
   "execution_count": 20,
   "id": "c7a9d441-17f8-481d-bafa-aeef169e8fb5",
   "metadata": {
    "tags": []
   },
   "outputs": [
    {
     "name": "stdout",
     "output_type": "stream",
     "text": [
      "['a', 'b', 'c', 'd', 'e', 'f', 'g', 'h']\n",
      "['a', 'b', 'c', 'd', 'e']\n",
      "['a', 'b', 'c', 'd', 'e', 'f', 'g']\n",
      "['e', 'f', 'g', 'h']\n",
      "['f', 'g', 'h']\n",
      "['c', 'd', 'e']\n",
      "['c', 'd', 'e', 'f', 'g']\n",
      "['f', 'g']\n"
     ]
    }
   ],
   "source": [
    "print(a[:])\n",
    "print(a[:5])\n",
    "print(a[:-1])\n",
    "print(a[4:])\n",
    "print(a[-3:])\n",
    "print(a[2:5])\n",
    "print(a[2:-1])\n",
    "print(a[-3:-1])"
   ]
  },
  {
   "cell_type": "code",
   "execution_count": 21,
   "id": "d8559541-abbe-45a9-ad59-fef42f72fd43",
   "metadata": {
    "tags": []
   },
   "outputs": [],
   "source": [
    "first_twenty_items = a[:20]\n",
    "last_twenty_items = a[-20:]"
   ]
  },
  {
   "cell_type": "code",
   "execution_count": 22,
   "id": "625ff480-70b3-4153-9e6d-aafcbedddcb4",
   "metadata": {
    "tags": []
   },
   "outputs": [
    {
     "name": "stdout",
     "output_type": "stream",
     "text": [
      "['a', 'b', 'c', 'd', 'e', 'f', 'g', 'h']\n"
     ]
    }
   ],
   "source": [
    "print(first_twenty_items)"
   ]
  },
  {
   "cell_type": "code",
   "execution_count": 23,
   "id": "965e8dd8-aac7-4838-aa2b-48e54b058b74",
   "metadata": {
    "tags": []
   },
   "outputs": [
    {
     "name": "stdout",
     "output_type": "stream",
     "text": [
      "['a', 'b', 'c', 'd', 'e', 'f', 'g', 'h']\n"
     ]
    }
   ],
   "source": [
    "print(last_twenty_items)"
   ]
  },
  {
   "cell_type": "code",
   "execution_count": 24,
   "id": "1e752a1f-0637-40ee-a9d7-8731496abd83",
   "metadata": {
    "tags": []
   },
   "outputs": [
    {
     "ename": "IndexError",
     "evalue": "list index out of range",
     "output_type": "error",
     "traceback": [
      "\u001b[0;31m---------------------------------------------------------------------------\u001b[0m",
      "\u001b[0;31mIndexError\u001b[0m                                Traceback (most recent call last)",
      "Cell \u001b[0;32mIn[24], line 1\u001b[0m\n\u001b[0;32m----> 1\u001b[0m \u001b[43ma\u001b[49m\u001b[43m[\u001b[49m\u001b[38;5;241;43m20\u001b[39;49m\u001b[43m]\u001b[49m\n",
      "\u001b[0;31mIndexError\u001b[0m: list index out of range"
     ]
    }
   ],
   "source": [
    "a[20]"
   ]
  },
  {
   "cell_type": "code",
   "execution_count": 25,
   "id": "f500cb5f-0906-4493-b9bd-643e5f327afa",
   "metadata": {
    "tags": []
   },
   "outputs": [],
   "source": [
    "b = a[3:]"
   ]
  },
  {
   "cell_type": "code",
   "execution_count": 26,
   "id": "1a62a547-7d2d-446d-8fd0-489afe34b680",
   "metadata": {
    "tags": []
   },
   "outputs": [
    {
     "name": "stdout",
     "output_type": "stream",
     "text": [
      "Before:  ['d', 'e', 'f', 'g', 'h']\n",
      "After:  ['d', 99, 'f', 'g', 'h']\n",
      "No change:  ['a', 'b', 'c', 'd', 'e', 'f', 'g', 'h']\n"
     ]
    }
   ],
   "source": [
    "print('Before: ', b)\n",
    "b[1] = 99\n",
    "print('After: ', b)\n",
    "print('No change: ', a)"
   ]
  },
  {
   "cell_type": "code",
   "execution_count": 27,
   "id": "1812d585-4a45-4611-a5eb-7e7ded240d8e",
   "metadata": {
    "tags": []
   },
   "outputs": [
    {
     "name": "stdout",
     "output_type": "stream",
     "text": [
      "Before:  ['a', 'b', 'c', 'd', 'e', 'f', 'g', 'h']\n",
      "After:  ['a', 'b', 99, 22, 14, 'h']\n"
     ]
    }
   ],
   "source": [
    "print('Before: ', a)\n",
    "a[2:7] = [99, 22, 14]\n",
    "print('After: ', a)"
   ]
  },
  {
   "cell_type": "code",
   "execution_count": 28,
   "id": "950a3a17-4782-42e1-9b89-c47fb185f8f9",
   "metadata": {
    "tags": []
   },
   "outputs": [
    {
     "name": "stdout",
     "output_type": "stream",
     "text": [
      "Before:  ['a', 'b', 99, 22, 14, 'h']\n",
      "After:  ['a', 'b', 47, 11, 22, 14, 'h']\n"
     ]
    }
   ],
   "source": [
    "print('Before: ',a)\n",
    "a[2:3] = [47, 11]\n",
    "print('After: ',a)"
   ]
  },
  {
   "cell_type": "code",
   "execution_count": 29,
   "id": "fe9e7ca4-a91b-42c5-a750-c58e6c4a0719",
   "metadata": {
    "tags": []
   },
   "outputs": [],
   "source": [
    "b = a[:]\n",
    "assert b == a and b is not a"
   ]
  },
  {
   "cell_type": "code",
   "execution_count": 30,
   "id": "271f725f-d0b6-40ec-8b9a-ff9c44ceb918",
   "metadata": {
    "tags": []
   },
   "outputs": [
    {
     "name": "stdout",
     "output_type": "stream",
     "text": [
      "Before a:  ['a', 'b', 47, 11, 22, 14, 'h']\n",
      "Before b: ['a', 'b', 47, 11, 22, 14, 'h']\n",
      "After a  [101, 102, 103]\n",
      "After b  [101, 102, 103]\n"
     ]
    }
   ],
   "source": [
    "b = a\n",
    "print('Before a: ', a)\n",
    "print('Before b:', b)\n",
    "a[:] = [101, 102, 103]\n",
    "assert a is b  # Still the same list object\n",
    "print('After a ', a) # Now has different contents\n",
    "print('After b ', b) # Same list, so same contents as a"
   ]
  },
  {
   "cell_type": "code",
   "execution_count": null,
   "id": "f94e68e6-5971-44c3-a04b-3000233b1c46",
   "metadata": {},
   "outputs": [],
   "source": []
  }
 ],
 "metadata": {
  "kernelspec": {
   "display_name": "Python 3 (ipykernel)",
   "language": "python",
   "name": "python3"
  },
  "language_info": {
   "codemirror_mode": {
    "name": "ipython",
    "version": 3
   },
   "file_extension": ".py",
   "mimetype": "text/x-python",
   "name": "python",
   "nbconvert_exporter": "python",
   "pygments_lexer": "ipython3",
   "version": "3.9.14"
  }
 },
 "nbformat": 4,
 "nbformat_minor": 5
}

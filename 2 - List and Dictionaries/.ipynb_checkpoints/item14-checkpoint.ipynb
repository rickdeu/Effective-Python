{
 "cells": [
  {
   "cell_type": "markdown",
   "id": "0491e212-e332-4667-a69a-4f8484e0cf34",
   "metadata": {},
   "source": [
    "# Sort by Complex Criteria Using the key Parameter"
   ]
  },
  {
   "cell_type": "code",
   "execution_count": 5,
   "id": "ab46534d-e9ea-4b3e-b443-ff18d0057c99",
   "metadata": {
    "tags": []
   },
   "outputs": [
    {
     "name": "stdout",
     "output_type": "stream",
     "text": [
      "[11, 68, 70, 86, 93]\n"
     ]
    }
   ],
   "source": [
    "numbers = [93, 86, 11, 68, 70]\n",
    "numbers.sort()\n",
    "print(numbers)"
   ]
  },
  {
   "cell_type": "code",
   "execution_count": 6,
   "id": "66f573c9-1791-478e-b669-95d88622530a",
   "metadata": {
    "tags": []
   },
   "outputs": [],
   "source": [
    "class Tool:\n",
    "    def __init__(self, name, weight):\n",
    "        self.name = name\n",
    "        self.weight = weight\n",
    "    \n",
    "    def __repr__(self):\n",
    "        return f'Tool({self.name!r}, {self.weight})'"
   ]
  },
  {
   "cell_type": "code",
   "execution_count": 7,
   "id": "8a25d976-9987-4990-af03-c438119d1d79",
   "metadata": {
    "tags": []
   },
   "outputs": [],
   "source": [
    "tools = [\n",
    "    Tool('level', 3.5),\n",
    "    Tool('hammer', 1.25),\n",
    "    Tool('screwdriver', 0.5),\n",
    "    Tool('chisel', 0.25),\n",
    "]"
   ]
  },
  {
   "cell_type": "code",
   "execution_count": 8,
   "id": "5bdcb5c8-3467-4c99-b5c1-47ea61ed700e",
   "metadata": {
    "tags": []
   },
   "outputs": [
    {
     "ename": "TypeError",
     "evalue": "'<' not supported between instances of 'Tool' and 'Tool'",
     "output_type": "error",
     "traceback": [
      "\u001b[0;31m---------------------------------------------------------------------------\u001b[0m",
      "\u001b[0;31mTypeError\u001b[0m                                 Traceback (most recent call last)",
      "Cell \u001b[0;32mIn[8], line 1\u001b[0m\n\u001b[0;32m----> 1\u001b[0m \u001b[43mtools\u001b[49m\u001b[38;5;241;43m.\u001b[39;49m\u001b[43msort\u001b[49m\u001b[43m(\u001b[49m\u001b[43m)\u001b[49m\n",
      "\u001b[0;31mTypeError\u001b[0m: '<' not supported between instances of 'Tool' and 'Tool'"
     ]
    }
   ],
   "source": [
    "tools.sort()"
   ]
  },
  {
   "cell_type": "code",
   "execution_count": 9,
   "id": "41c27484-32ab-432f-8dca-395864d3ff25",
   "metadata": {
    "tags": []
   },
   "outputs": [
    {
     "name": "stdout",
     "output_type": "stream",
     "text": [
      "Unsorted:  [Tool('level', 3.5), Tool('hammer', 1.25), Tool('screwdriver', 0.5), Tool('chisel', 0.25)]\n",
      "\n",
      "Sorted:  [Tool('chisel', 0.25), Tool('hammer', 1.25), Tool('level', 3.5), Tool('screwdriver', 0.5)]\n"
     ]
    }
   ],
   "source": [
    "print('Unsorted: ', repr(tools))\n",
    "tools.sort(key=lambda x:x.name)\n",
    "print('\\nSorted: ', tools)"
   ]
  },
  {
   "cell_type": "code",
   "execution_count": 11,
   "id": "f3147769-a111-4af3-b15e-ce02cfcaea7a",
   "metadata": {
    "tags": []
   },
   "outputs": [
    {
     "name": "stdout",
     "output_type": "stream",
     "text": [
      "By weight:  [Tool('chisel', 0.25), Tool('screwdriver', 0.5), Tool('hammer', 1.25), Tool('level', 3.5)]\n"
     ]
    }
   ],
   "source": [
    "tools.sort(key=lambda x:x.weight)\n",
    "print('By weight: ', tools)"
   ]
  },
  {
   "cell_type": "code",
   "execution_count": 18,
   "id": "70b802c4-9783-42bc-b6dc-b9db5d317202",
   "metadata": {
    "tags": []
   },
   "outputs": [],
   "source": [
    "places = ['home', 'work', 'New York', 'Paris']\n",
    "places.sort()"
   ]
  },
  {
   "cell_type": "code",
   "execution_count": 19,
   "id": "4bbd7e47-e6e0-46f7-9549-dd7825654ee9",
   "metadata": {
    "tags": []
   },
   "outputs": [
    {
     "name": "stdout",
     "output_type": "stream",
     "text": [
      "Case sensitive:  ['New York', 'Paris', 'home', 'work']\n",
      "Case insensitive:  ['home', 'New York', 'Paris', 'work']\n"
     ]
    }
   ],
   "source": [
    "print('Case sensitive: ', places)\n",
    "places.sort(key=lambda x:x.lower())\n",
    "print('Case insensitive: ', places)"
   ]
  },
  {
   "cell_type": "code",
   "execution_count": null,
   "id": "e361aa8c-0c02-4ab9-8738-ba2f99b24c87",
   "metadata": {},
   "outputs": [],
   "source": [
    "power_tools = [\n",
    "    Tool('drill', 4),\n",
    "    Tool('circular saw', 5),\n",
    "    Tool('jackhammer', 40),\n",
    "    Tool('sander', 4),\n",
    "]"
   ]
  }
 ],
 "metadata": {
  "kernelspec": {
   "display_name": "Python 3 (ipykernel)",
   "language": "python",
   "name": "python3"
  },
  "language_info": {
   "codemirror_mode": {
    "name": "ipython",
    "version": 3
   },
   "file_extension": ".py",
   "mimetype": "text/x-python",
   "name": "python",
   "nbconvert_exporter": "python",
   "pygments_lexer": "ipython3",
   "version": "3.9.14"
  }
 },
 "nbformat": 4,
 "nbformat_minor": 5
}

{
 "cells": [
  {
   "cell_type": "markdown",
   "id": "97225f8d-7e31-4f7c-b310-45e4e8952f6e",
   "metadata": {},
   "source": [
    "# Know How to Construct Key-Dependent Default Values with __missing__"
   ]
  },
  {
   "cell_type": "code",
   "execution_count": 1,
   "id": "79e3575d-9b66-4620-9760-22c074d3fbef",
   "metadata": {
    "tags": []
   },
   "outputs": [],
   "source": [
    "pictures = {}\n",
    "path = 'profile_1234.png'"
   ]
  },
  {
   "cell_type": "code",
   "execution_count": 2,
   "id": "7fb8e97b-37b2-4d56-aceb-93fc050c9493",
   "metadata": {
    "tags": []
   },
   "outputs": [],
   "source": [
    "if(handle := pictures.get(path)) is None:\n",
    "    try:\n",
    "        handle = open(path, 'a+b')\n",
    "    except OSError:\n",
    "        print(f'Failed to open paht {path}')\n",
    "        raise\n",
    "    else:\n",
    "        pictures[path] = handle"
   ]
  },
  {
   "cell_type": "code",
   "execution_count": 3,
   "id": "35b50b77-75ea-4dc9-8e8b-77b9d0c9eb97",
   "metadata": {
    "tags": []
   },
   "outputs": [],
   "source": [
    "handle.seek(0)\n",
    "image_data = handle.read()"
   ]
  },
  {
   "cell_type": "code",
   "execution_count": 4,
   "id": "ba941b4f-c8ab-4002-add8-d2467068a5f3",
   "metadata": {
    "tags": []
   },
   "outputs": [],
   "source": [
    "try:\n",
    "    handle = pictures.setdefault(path, open(path, 'a+b'))\n",
    "except OSError:\n",
    "    print(f'Failed to open path {path}')\n",
    "else:\n",
    "    handle.seek(0)\n",
    "    image_data = handle.read()"
   ]
  },
  {
   "cell_type": "code",
   "execution_count": 5,
   "id": "78b2732b-6439-42eb-8a5d-ed01dd59e9f6",
   "metadata": {
    "tags": []
   },
   "outputs": [],
   "source": [
    "from collections import defaultdict"
   ]
  },
  {
   "cell_type": "code",
   "execution_count": 6,
   "id": "8eab193c-265d-4607-8b78-8f77aa1094c2",
   "metadata": {
    "tags": []
   },
   "outputs": [],
   "source": [
    "def open_picture(profile_path):\n",
    "    try:\n",
    "        return open(profile_path, 'a+b')\n",
    "    except OSError:\n",
    "        print(f'Failed to open path {profile_path}')\n",
    "        raise"
   ]
  },
  {
   "cell_type": "code",
   "execution_count": 7,
   "id": "cbfe88d4-1fd5-490a-974d-a8ba36628097",
   "metadata": {
    "tags": []
   },
   "outputs": [
    {
     "ename": "TypeError",
     "evalue": "open_picture() missing 1 required positional argument: 'profile_path'",
     "output_type": "error",
     "traceback": [
      "\u001b[0;31m---------------------------------------------------------------------------\u001b[0m",
      "\u001b[0;31mTypeError\u001b[0m                                 Traceback (most recent call last)",
      "Cell \u001b[0;32mIn[7], line 2\u001b[0m\n\u001b[1;32m      1\u001b[0m pictures \u001b[38;5;241m=\u001b[39m defaultdict(open_picture)\n\u001b[0;32m----> 2\u001b[0m handle \u001b[38;5;241m=\u001b[39m \u001b[43mpictures\u001b[49m\u001b[43m[\u001b[49m\u001b[43mpath\u001b[49m\u001b[43m]\u001b[49m\n\u001b[1;32m      3\u001b[0m handle\u001b[38;5;241m.\u001b[39mseek(\u001b[38;5;241m0\u001b[39m)\n\u001b[1;32m      4\u001b[0m image_data \u001b[38;5;241m=\u001b[39m handle\u001b[38;5;241m.\u001b[39mread()\n",
      "\u001b[0;31mTypeError\u001b[0m: open_picture() missing 1 required positional argument: 'profile_path'"
     ]
    }
   ],
   "source": [
    "pictures = defaultdict(open_picture)\n",
    "handle = pictures[path]\n",
    "handle.seek(0)\n",
    "image_data = handle.read()"
   ]
  },
  {
   "cell_type": "code",
   "execution_count": 8,
   "id": "478d7992-f779-44b3-b53e-586a38d25902",
   "metadata": {
    "tags": []
   },
   "outputs": [],
   "source": [
    "class Pictures(dict):\n",
    "    def __missing__(self, key):\n",
    "        value = open_picture(key)\n",
    "        self[key] = value\n",
    "        return value"
   ]
  },
  {
   "cell_type": "code",
   "execution_count": 9,
   "id": "321b92cd-9299-4775-9f89-a4cc098ebb4c",
   "metadata": {
    "tags": []
   },
   "outputs": [],
   "source": [
    "pictures = Pictures()\n",
    "handle = pictures[path]\n",
    "handle.seek(0)\n",
    "image_data = handle.read()"
   ]
  },
  {
   "cell_type": "code",
   "execution_count": null,
   "id": "724412e6-cad8-4533-a715-63524947c446",
   "metadata": {},
   "outputs": [],
   "source": []
  }
 ],
 "metadata": {
  "kernelspec": {
   "display_name": "Python 3 (ipykernel)",
   "language": "python",
   "name": "python3"
  },
  "language_info": {
   "codemirror_mode": {
    "name": "ipython",
    "version": 3
   },
   "file_extension": ".py",
   "mimetype": "text/x-python",
   "name": "python",
   "nbconvert_exporter": "python",
   "pygments_lexer": "ipython3",
   "version": "3.9.14"
  }
 },
 "nbformat": 4,
 "nbformat_minor": 5
}

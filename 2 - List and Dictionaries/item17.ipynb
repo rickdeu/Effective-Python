{
 "cells": [
  {
   "cell_type": "markdown",
   "id": "66301e06-5066-4249-bfcc-ff74f44418ba",
   "metadata": {},
   "source": [
    "# Prefer defaultdict Over setdefault to Handle Missing Items in Internal State"
   ]
  },
  {
   "cell_type": "code",
   "execution_count": 9,
   "id": "f89b7cc9-0c77-46d3-9e69-ffd705c40393",
   "metadata": {
    "tags": []
   },
   "outputs": [],
   "source": [
    "visits = {\n",
    "    'Mexico': {'Tulum', 'Puerto Vallarta'},\n",
    "    'Japan': {'Hakone'},\n",
    "}"
   ]
  },
  {
   "cell_type": "code",
   "execution_count": 10,
   "id": "23bb50b3-4f5b-486a-8379-30c4cfc2fa62",
   "metadata": {
    "tags": []
   },
   "outputs": [],
   "source": [
    "visits.setdefault('France', set()).add('Arles') # Short"
   ]
  },
  {
   "cell_type": "code",
   "execution_count": 11,
   "id": "0a19c614-8ec5-45b4-acb3-64ff935bce54",
   "metadata": {
    "tags": []
   },
   "outputs": [],
   "source": [
    "if (japan := visits.get('Japan')) is None:\n",
    "    visits['Japan'] = japan = set()\n",
    "japan.add('Kyoto')"
   ]
  },
  {
   "cell_type": "code",
   "execution_count": 12,
   "id": "dd5f918a-0b01-493e-8d4a-38b79d0c99ae",
   "metadata": {
    "tags": []
   },
   "outputs": [
    {
     "name": "stdout",
     "output_type": "stream",
     "text": [
      "{'Mexico': {'Tulum', 'Puerto Vallarta'}, 'Japan': {'Kyoto', 'Hakone'}, 'France': {'Arles'}}\n"
     ]
    }
   ],
   "source": [
    "print(visits)"
   ]
  },
  {
   "cell_type": "code",
   "execution_count": 13,
   "id": "46ae3390-ab0d-4088-bfd8-978a11cdcb51",
   "metadata": {
    "tags": []
   },
   "outputs": [],
   "source": [
    "class Visits:\n",
    "    def __init__(self):\n",
    "        self.data = {}\n",
    "    def add(self, country, city):\n",
    "        city_set = self.data.setdefault(country, set())\n",
    "        city_set.add(city)"
   ]
  },
  {
   "cell_type": "code",
   "execution_count": 18,
   "id": "9c01c6e5-6312-4e23-b530-5003f508039c",
   "metadata": {
    "tags": []
   },
   "outputs": [],
   "source": [
    "visits = Visits()\n",
    "visits.add('Russia', 'Yekaterinburg')\n",
    "visits.add('Tanzania', 'Zanzibar')\n",
    "visits.add('Angola', 'Huila')\n",
    "visits.add('Angola', 'Luanda')\n",
    "visits.add('Angola', 'Namibe')"
   ]
  },
  {
   "cell_type": "code",
   "execution_count": 21,
   "id": "109b5c34-7e5c-4003-9b86-3295e5c6c39f",
   "metadata": {
    "tags": []
   },
   "outputs": [
    {
     "name": "stdout",
     "output_type": "stream",
     "text": [
      "{'Russia': {'Yekaterinburg'}, 'Tanzania': {'Zanzibar'}, 'Angola': {'Huila', 'Namibe', 'Luanda'}}\n"
     ]
    }
   ],
   "source": [
    "print(visits.data)"
   ]
  },
  {
   "cell_type": "code",
   "execution_count": 22,
   "id": "2435cd1e-7f9d-4d98-ad48-981c246a135e",
   "metadata": {
    "tags": []
   },
   "outputs": [],
   "source": [
    "from collections import defaultdict"
   ]
  },
  {
   "cell_type": "code",
   "execution_count": 23,
   "id": "a111f2e5-5ad7-447d-9d45-29d5f0ee705c",
   "metadata": {
    "tags": []
   },
   "outputs": [],
   "source": [
    "class Visits:\n",
    "    def __init__(self):\n",
    "        self.data = defaultdict(set)\n",
    "    def add(self, country, city):\n",
    "        self.data[country].add(city)"
   ]
  },
  {
   "cell_type": "code",
   "execution_count": 24,
   "id": "c7dd4efa-d632-4d0a-819d-57fe6e83120d",
   "metadata": {
    "tags": []
   },
   "outputs": [],
   "source": [
    "visits = Visits()\n",
    "visits.add('England', 'Bath')\n",
    "visits.add('England', 'London')"
   ]
  },
  {
   "cell_type": "code",
   "execution_count": 25,
   "id": "a37cd5b7-4723-4bf6-9fc8-c6a72d9949c8",
   "metadata": {
    "tags": []
   },
   "outputs": [
    {
     "name": "stdout",
     "output_type": "stream",
     "text": [
      "defaultdict(<class 'set'>, {'England': {'London', 'Bath'}})\n"
     ]
    }
   ],
   "source": [
    "print(visits.data)"
   ]
  },
  {
   "cell_type": "code",
   "execution_count": null,
   "id": "5829a9a5-835f-4faa-ac5e-a9492db83633",
   "metadata": {},
   "outputs": [],
   "source": []
  }
 ],
 "metadata": {
  "kernelspec": {
   "display_name": "Python 3 (ipykernel)",
   "language": "python",
   "name": "python3"
  },
  "language_info": {
   "codemirror_mode": {
    "name": "ipython",
    "version": 3
   },
   "file_extension": ".py",
   "mimetype": "text/x-python",
   "name": "python",
   "nbconvert_exporter": "python",
   "pygments_lexer": "ipython3",
   "version": "3.9.14"
  }
 },
 "nbformat": 4,
 "nbformat_minor": 5
}

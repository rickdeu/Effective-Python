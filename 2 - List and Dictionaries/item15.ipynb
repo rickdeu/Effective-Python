{
 "cells": [
  {
   "cell_type": "markdown",
   "id": "70fd2897-ec29-4437-9c22-0142d9ba8a61",
   "metadata": {},
   "source": [
    "# Be Caution When Relying on dict Insertion Ordering"
   ]
  },
  {
   "cell_type": "code",
   "execution_count": 3,
   "id": "39fbb078-4deb-4626-8f8f-88e22047388b",
   "metadata": {
    "tags": []
   },
   "outputs": [
    {
     "name": "stdout",
     "output_type": "stream",
     "text": [
      "{'cat': 'kitten', 'dog': 'puppy'}\n"
     ]
    }
   ],
   "source": [
    "baby_names = {\n",
    "    'cat':'kitten',\n",
    "    'dog':'puppy',\n",
    "}\n",
    "print(baby_names)"
   ]
  },
  {
   "cell_type": "code",
   "execution_count": 5,
   "id": "5740442e-4382-4e11-af2c-02d8dfc74807",
   "metadata": {
    "tags": []
   },
   "outputs": [
    {
     "name": "stdout",
     "output_type": "stream",
     "text": [
      "['cat']\n",
      "['kitten']\n",
      "[('cat', 'kitten')]\n",
      "('cat', 'kitten')\n"
     ]
    }
   ],
   "source": [
    "print(list(baby_names.keys()))\n",
    "print(list(baby_names.values()))\n",
    "print(list(baby_names.items()))\n",
    "print(baby_names.popitem()) # Randomly chooses an item"
   ]
  },
  {
   "cell_type": "code",
   "execution_count": 6,
   "id": "b3c49fa1-d47e-4dcc-86cf-b1bbdad54d96",
   "metadata": {
    "tags": []
   },
   "outputs": [],
   "source": [
    "def my_func(**kwargs):\n",
    "    for key, value in kwargs.items():\n",
    "        print('%s = %s' %(key, value))"
   ]
  },
  {
   "cell_type": "code",
   "execution_count": 7,
   "id": "0ca2e7e4-8f14-4465-9d1b-f223b6cff770",
   "metadata": {
    "tags": []
   },
   "outputs": [
    {
     "name": "stdout",
     "output_type": "stream",
     "text": [
      "goose = gosling\n",
      "kangaroo = joey\n"
     ]
    }
   ],
   "source": [
    "my_func(goose='gosling', kangaroo='joey')"
   ]
  },
  {
   "cell_type": "code",
   "execution_count": 8,
   "id": "7f9aefdb-2080-46f3-b92e-a61158664ed3",
   "metadata": {
    "tags": []
   },
   "outputs": [],
   "source": [
    "def my_func(**kwargs):\n",
    "    for key, value in kwargs.items():\n",
    "        print(f'{key} = {value}')"
   ]
  },
  {
   "cell_type": "code",
   "execution_count": 9,
   "id": "3b63cce3-9e74-40ef-bac2-1706b32e0f52",
   "metadata": {
    "tags": []
   },
   "outputs": [
    {
     "name": "stdout",
     "output_type": "stream",
     "text": [
      "goose = gosling\n",
      "kangaroo = joey\n"
     ]
    }
   ],
   "source": [
    "my_func(goose='gosling', kangaroo='joey')"
   ]
  },
  {
   "cell_type": "code",
   "execution_count": 10,
   "id": "10645da4-4b82-4cb7-a6d4-88a1a485a1f2",
   "metadata": {
    "tags": []
   },
   "outputs": [],
   "source": [
    "class MyClass:\n",
    "    def __init__(self):\n",
    "        self.alligator = 'hatchiling'\n",
    "        self.elephant = 'calf'"
   ]
  },
  {
   "cell_type": "code",
   "execution_count": 11,
   "id": "0eb238a4-ccc0-41fd-be90-658d9e2a46e1",
   "metadata": {
    "tags": []
   },
   "outputs": [
    {
     "name": "stdout",
     "output_type": "stream",
     "text": [
      "alligator = hatchiling\n",
      "elephant = calf\n"
     ]
    }
   ],
   "source": [
    "a = MyClass()\n",
    "for key, value in a.__dict__.items():\n",
    "    print('%s = %s'%(key, value))"
   ]
  },
  {
   "cell_type": "code",
   "execution_count": 12,
   "id": "39e41cdd-8937-40d7-be46-3617d6c9bd21",
   "metadata": {
    "tags": []
   },
   "outputs": [
    {
     "name": "stdout",
     "output_type": "stream",
     "text": [
      "alligator = hatchiling\n",
      "elephant = calf\n"
     ]
    }
   ],
   "source": [
    "a = MyClass()\n",
    "for key, value in a.__dict__.items():\n",
    "    print(f'{key} = {value}')"
   ]
  },
  {
   "cell_type": "code",
   "execution_count": 21,
   "id": "1c2e493f-5d52-43d2-9729-9a66677dd5fc",
   "metadata": {
    "tags": []
   },
   "outputs": [],
   "source": [
    "votes = {\n",
    "    'otter': 1281,\n",
    "    'polar bear': 587,\n",
    "    'fox': 863,\n",
    "}"
   ]
  },
  {
   "cell_type": "code",
   "execution_count": 22,
   "id": "f46f6a42-f430-4d4d-b127-95221c0b0078",
   "metadata": {
    "tags": []
   },
   "outputs": [],
   "source": [
    "def populate_ranks(votes, ranks):\n",
    "    names = list(votes.keys())\n",
    "    names.sort(key=votes.get, reverse=True)\n",
    "    for i, name in enumerate(names, 1):\n",
    "        ranks[name] = i"
   ]
  },
  {
   "cell_type": "code",
   "execution_count": 23,
   "id": "d46ae04c-ec20-4f24-a976-7da380714bcb",
   "metadata": {
    "tags": []
   },
   "outputs": [],
   "source": [
    "def get_winner(ranks):\n",
    "    return next(iter(ranks))"
   ]
  },
  {
   "cell_type": "code",
   "execution_count": 24,
   "id": "da0c8837-e3af-44fc-b92c-928bd9f23076",
   "metadata": {
    "tags": []
   },
   "outputs": [
    {
     "name": "stdout",
     "output_type": "stream",
     "text": [
      "{'otter': 1, 'fox': 2, 'polar bear': 3}\n",
      "otter\n"
     ]
    }
   ],
   "source": [
    "ranks = {}\n",
    "populate_ranks(votes, ranks)\n",
    "print(ranks)\n",
    "winner = get_winner(ranks)\n",
    "print(winner)"
   ]
  },
  {
   "cell_type": "code",
   "execution_count": 25,
   "id": "60f11228-cc3e-4b04-8211-810a8a292bda",
   "metadata": {
    "tags": []
   },
   "outputs": [],
   "source": [
    "from collections.abc import MutableMapping"
   ]
  },
  {
   "cell_type": "code",
   "execution_count": 31,
   "id": "11165e8a-ecbb-42d8-ab77-46026296a575",
   "metadata": {
    "tags": []
   },
   "outputs": [],
   "source": [
    "class SortedDict(MutableMapping):\n",
    "    def __init__(self):\n",
    "        self.data = {}\n",
    "        \n",
    "    def __getitem__(self, key):\n",
    "        return self.data[key]\n",
    "    \n",
    "    def __setitem__(self, key, value):\n",
    "        self.data[key] = value\n",
    "        \n",
    "    def __delitem__(self, key):\n",
    "        del self.data[key]\n",
    "        \n",
    "    def __iter__(self):\n",
    "        keys = list(self.data.keys())\n",
    "        keys.sort()\n",
    "        for key in keys:\n",
    "            yield key\n",
    "            \n",
    "    def __len__(self):\n",
    "        return len(self.data)"
   ]
  },
  {
   "cell_type": "code",
   "execution_count": 32,
   "id": "677bcd93-98cd-4fd3-82c5-fb4b74cd7176",
   "metadata": {
    "tags": []
   },
   "outputs": [
    {
     "name": "stdout",
     "output_type": "stream",
     "text": [
      "{'otter': 1, 'fox': 2, 'polar bear': 3}\n",
      "fox\n"
     ]
    }
   ],
   "source": [
    "sorted_ranks = SortedDict()\n",
    "populate_ranks(votes, sorted_ranks)\n",
    "print(sorted_ranks.data)\n",
    "winner = get_winner(sorted_ranks)\n",
    "print(winner)"
   ]
  },
  {
   "cell_type": "code",
   "execution_count": 35,
   "id": "12d7c24e-59c7-4d88-ae37-e660577fdd88",
   "metadata": {
    "tags": []
   },
   "outputs": [],
   "source": [
    "def get_winner(ranks):\n",
    "    for name, rank in ranks.items():\n",
    "        if rank == 1:\n",
    "            return name"
   ]
  },
  {
   "cell_type": "code",
   "execution_count": 36,
   "id": "18b7945b-d47a-4c14-a2e8-a5d18bfb0143",
   "metadata": {
    "tags": []
   },
   "outputs": [
    {
     "name": "stdout",
     "output_type": "stream",
     "text": [
      "otter\n"
     ]
    }
   ],
   "source": [
    "winner = get_winner(sorted_ranks)\n",
    "print(winner)"
   ]
  },
  {
   "cell_type": "code",
   "execution_count": 37,
   "id": "13560f54-be3c-4c91-8b9c-1f1f6ea7feb4",
   "metadata": {
    "tags": []
   },
   "outputs": [],
   "source": [
    "def get_winner(ranks):\n",
    "    if not isinstance(ranks, dict):\n",
    "        raise TypeError('must provide a dict instance')\n",
    "    return next(iter(ranks))"
   ]
  },
  {
   "cell_type": "code",
   "execution_count": 38,
   "id": "9e8b5012-b46e-41ce-ace7-dcbd549c53aa",
   "metadata": {
    "tags": []
   },
   "outputs": [
    {
     "ename": "TypeError",
     "evalue": "must provide a dict instance",
     "output_type": "error",
     "traceback": [
      "\u001b[0;31m---------------------------------------------------------------------------\u001b[0m",
      "\u001b[0;31mTypeError\u001b[0m                                 Traceback (most recent call last)",
      "Cell \u001b[0;32mIn[38], line 1\u001b[0m\n\u001b[0;32m----> 1\u001b[0m \u001b[43mget_winner\u001b[49m\u001b[43m(\u001b[49m\u001b[43msorted_ranks\u001b[49m\u001b[43m)\u001b[49m\n",
      "Cell \u001b[0;32mIn[37], line 3\u001b[0m, in \u001b[0;36mget_winner\u001b[0;34m(ranks)\u001b[0m\n\u001b[1;32m      1\u001b[0m \u001b[38;5;28;01mdef\u001b[39;00m \u001b[38;5;21mget_winner\u001b[39m(ranks):\n\u001b[1;32m      2\u001b[0m     \u001b[38;5;28;01mif\u001b[39;00m \u001b[38;5;129;01mnot\u001b[39;00m \u001b[38;5;28misinstance\u001b[39m(ranks, \u001b[38;5;28mdict\u001b[39m):\n\u001b[0;32m----> 3\u001b[0m         \u001b[38;5;28;01mraise\u001b[39;00m \u001b[38;5;167;01mTypeError\u001b[39;00m(\u001b[38;5;124m'\u001b[39m\u001b[38;5;124mmust provide a dict instance\u001b[39m\u001b[38;5;124m'\u001b[39m)\n\u001b[1;32m      4\u001b[0m     \u001b[38;5;28;01mreturn\u001b[39;00m \u001b[38;5;28mnext\u001b[39m(\u001b[38;5;28miter\u001b[39m(ranks))\n",
      "\u001b[0;31mTypeError\u001b[0m: must provide a dict instance"
     ]
    }
   ],
   "source": [
    "get_winner(sorted_ranks)"
   ]
  },
  {
   "cell_type": "code",
   "execution_count": 39,
   "id": "5b63a786-ae6d-4a8d-9b8e-74611a0a574e",
   "metadata": {
    "tags": []
   },
   "outputs": [],
   "source": [
    "from typing import Dict, MutableMapping"
   ]
  },
  {
   "cell_type": "code",
   "execution_count": 40,
   "id": "cf8480ce-08f7-4451-9c86-4540a1cecd13",
   "metadata": {
    "tags": []
   },
   "outputs": [],
   "source": [
    "def populate_ranks(votes: Dict[str, int], ranks:Dict[str, int]) -> None:\n",
    "    names = list(votes.keys())\n",
    "    names.sort(key=votes.get, reverse=True)\n",
    "    for i, name in enumerate(names, 1):\n",
    "        ranks[name] = i"
   ]
  },
  {
   "cell_type": "code",
   "execution_count": 41,
   "id": "96dae3ef-33af-4a75-a685-9fe1e3343a3e",
   "metadata": {
    "tags": []
   },
   "outputs": [],
   "source": [
    "def get_winner(ranks: Dict[str, int])-> str:\n",
    "    return next(iter(ranks))"
   ]
  },
  {
   "cell_type": "code",
   "execution_count": 42,
   "id": "9e536797-f8ac-4d1f-bdb5-b6e764cae0e0",
   "metadata": {
    "tags": []
   },
   "outputs": [],
   "source": [
    "class SortedDict(MutableMapping[str, int]):\n",
    "    ..."
   ]
  },
  {
   "cell_type": "code",
   "execution_count": 43,
   "id": "bf90a22f-3da8-4fd7-9e8c-eea9d63c6b34",
   "metadata": {
    "tags": []
   },
   "outputs": [],
   "source": [
    "votes = {\n",
    "    'otter': 1281,\n",
    "    'polar bear': 587,\n",
    "    'fox': 863,\n",
    "}"
   ]
  },
  {
   "cell_type": "code",
   "execution_count": 44,
   "id": "279d3acc-1f46-4a09-a375-b1ddb242ed27",
   "metadata": {
    "tags": []
   },
   "outputs": [
    {
     "ename": "TypeError",
     "evalue": "Can't instantiate abstract class SortedDict with abstract methods __delitem__, __getitem__, __iter__, __len__, __setitem__",
     "output_type": "error",
     "traceback": [
      "\u001b[0;31m---------------------------------------------------------------------------\u001b[0m",
      "\u001b[0;31mTypeError\u001b[0m                                 Traceback (most recent call last)",
      "Cell \u001b[0;32mIn[44], line 1\u001b[0m\n\u001b[0;32m----> 1\u001b[0m sorted_ranks \u001b[38;5;241m=\u001b[39m \u001b[43mSortedDict\u001b[49m\u001b[43m(\u001b[49m\u001b[43m)\u001b[49m\n\u001b[1;32m      2\u001b[0m populate_ranks(votes, sorted_ranks)\n\u001b[1;32m      3\u001b[0m \u001b[38;5;28mprint\u001b[39m(sorted_ranks\u001b[38;5;241m.\u001b[39mdata)\n",
      "\u001b[0;31mTypeError\u001b[0m: Can't instantiate abstract class SortedDict with abstract methods __delitem__, __getitem__, __iter__, __len__, __setitem__"
     ]
    }
   ],
   "source": [
    "sorted_ranks = SortedDict()\n",
    "populate_ranks(votes, sorted_ranks)\n",
    "print(sorted_ranks.data)\n",
    "winner = get_winner(sorted_ranks)\n",
    "print(winner)"
   ]
  },
  {
   "cell_type": "code",
   "execution_count": null,
   "id": "5dce041f-9f28-4c25-a2cc-2af2d98b29af",
   "metadata": {},
   "outputs": [],
   "source": []
  }
 ],
 "metadata": {
  "kernelspec": {
   "display_name": "Python 3 (ipykernel)",
   "language": "python",
   "name": "python3"
  },
  "language_info": {
   "codemirror_mode": {
    "name": "ipython",
    "version": 3
   },
   "file_extension": ".py",
   "mimetype": "text/x-python",
   "name": "python",
   "nbconvert_exporter": "python",
   "pygments_lexer": "ipython3",
   "version": "3.9.14"
  }
 },
 "nbformat": 4,
 "nbformat_minor": 5
}

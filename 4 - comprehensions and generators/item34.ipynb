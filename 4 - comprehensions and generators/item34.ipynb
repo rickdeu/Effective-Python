{
 "cells": [
  {
   "cell_type": "markdown",
   "id": "e238549d-e85c-4f06-9e84-12f3a4c407ec",
   "metadata": {},
   "source": [
    "# Avoid Injecting Data into Generators with send"
   ]
  },
  {
   "cell_type": "markdown",
   "id": "59aac5f0-5aa8-4790-9c38-1530cf793f66",
   "metadata": {},
   "source": [
    "#### Say that i'm writing a program to transmit signlas using a software defined radio, i use a function to generate an approximation of sine wave with fiven number of position"
   ]
  },
  {
   "cell_type": "code",
   "execution_count": 1,
   "id": "7c8a5f66-800f-4ffa-92f8-770234a3a6c0",
   "metadata": {
    "tags": []
   },
   "outputs": [],
   "source": [
    "import math"
   ]
  },
  {
   "cell_type": "code",
   "execution_count": 9,
   "id": "3ff4ee7d-c631-462a-ae12-e43aa9a19277",
   "metadata": {
    "tags": []
   },
   "outputs": [],
   "source": [
    "def wave(amplitude, steps):\n",
    "    step_size = 2 * math.pi / steps\n",
    "    for step in range(steps):\n",
    "        radians = step * step_size\n",
    "        fraction = math.sin(radians)\n",
    "        output = amplitude * fraction\n",
    "        yield output"
   ]
  },
  {
   "cell_type": "code",
   "execution_count": 10,
   "id": "e3591135-e3d9-4ec7-9eb7-01af333ff164",
   "metadata": {
    "tags": []
   },
   "outputs": [],
   "source": [
    "def transmit(output):\n",
    "    if output is None:\n",
    "        print(f'Output is None')\n",
    "    else:\n",
    "        print(f'Output: {output:>5.1f}')"
   ]
  },
  {
   "cell_type": "code",
   "execution_count": 11,
   "id": "8432fde2-5592-4332-ae14-35fb1be64cd3",
   "metadata": {
    "tags": []
   },
   "outputs": [],
   "source": [
    "def run(it):\n",
    "    for output in it:\n",
    "        transmit(output)"
   ]
  },
  {
   "cell_type": "code",
   "execution_count": 12,
   "id": "3e0e3dac-0b2a-472c-be24-637c8045629f",
   "metadata": {
    "tags": []
   },
   "outputs": [
    {
     "name": "stdout",
     "output_type": "stream",
     "text": [
      "Output:   0.0\n",
      "Output:   2.1\n",
      "Output:   3.0\n",
      "Output:   2.1\n",
      "Output:   0.0\n",
      "Output:  -2.1\n",
      "Output:  -3.0\n",
      "Output:  -2.1\n"
     ]
    }
   ],
   "source": [
    "run(wave(3.0, 8))"
   ]
  },
  {
   "cell_type": "code",
   "execution_count": 16,
   "id": "18c65b93-a4ef-48ce-a520-00d03f7e2b60",
   "metadata": {
    "tags": []
   },
   "outputs": [],
   "source": [
    "def my_generator():\n",
    "    received = yield 1\n",
    "    print(f'received = {received}')"
   ]
  },
  {
   "cell_type": "code",
   "execution_count": 17,
   "id": "2eafa6a8-a631-4db8-b906-8e48f67b92cf",
   "metadata": {
    "tags": []
   },
   "outputs": [
    {
     "name": "stdout",
     "output_type": "stream",
     "text": [
      "output = 1\n",
      "received = None\n"
     ]
    }
   ],
   "source": [
    "it = iter(my_generator())\n",
    "output = next(it)\n",
    "print(f'output = {output}')\n",
    "try:\n",
    "    next(it)\n",
    "except StopIteration:\n",
    "    pass"
   ]
  },
  {
   "cell_type": "code",
   "execution_count": 18,
   "id": "1f824394-6283-4e48-b08c-69c26207efab",
   "metadata": {
    "tags": []
   },
   "outputs": [
    {
     "name": "stdout",
     "output_type": "stream",
     "text": [
      "output = 1\n"
     ]
    }
   ],
   "source": [
    "it = iter(my_generator())\n",
    "output = it.send(None) # Get first generator output\n",
    "print(f'output = {output}')"
   ]
  },
  {
   "cell_type": "code",
   "execution_count": 19,
   "id": "13558ae6-aaf6-443d-8c91-7d7096fc8c49",
   "metadata": {
    "tags": []
   },
   "outputs": [
    {
     "name": "stdout",
     "output_type": "stream",
     "text": [
      "received = hello\n"
     ]
    }
   ],
   "source": [
    "try:\n",
    "    it.send('hello')\n",
    "except StopIteration:\n",
    "    pass"
   ]
  },
  {
   "cell_type": "code",
   "execution_count": 21,
   "id": "8835436e-ae50-4f2a-957f-2e38dfca6a4e",
   "metadata": {
    "tags": []
   },
   "outputs": [],
   "source": [
    "def wave_modulating(steps):\n",
    "    step_size = 2 * math.pi / steps\n",
    "    amplitude = yield   # Receive initial amplitude\n",
    "    for step in range(steps):\n",
    "        radians = step * step_size\n",
    "        fraction = math.sin(radians)\n",
    "        output = amplitude * fraction\n",
    "        amplitude = yield output # Receive next amplitude"
   ]
  },
  {
   "cell_type": "code",
   "execution_count": 24,
   "id": "34f0899f-0228-4e7f-bdcd-302c68d32fcb",
   "metadata": {
    "tags": []
   },
   "outputs": [],
   "source": [
    "def run_modulating(it):\n",
    "    amplitudes = [None, 7, 7, 7, 2, 2, 2, 2, 10, 10, 10, 10, 10]\n",
    "    for amplitude in amplitudes:\n",
    "        output = it.send(amplitude)\n",
    "        transmit(output)"
   ]
  },
  {
   "cell_type": "code",
   "execution_count": 25,
   "id": "f26b8f7a-3a19-4208-89f0-e3a33d3afd52",
   "metadata": {
    "tags": []
   },
   "outputs": [
    {
     "name": "stdout",
     "output_type": "stream",
     "text": [
      "Output is None\n",
      "Output:   0.0\n",
      "Output:   3.5\n",
      "Output:   6.1\n",
      "Output:   2.0\n",
      "Output:   1.7\n",
      "Output:   1.0\n",
      "Output:   0.0\n",
      "Output:  -5.0\n",
      "Output:  -8.7\n",
      "Output: -10.0\n",
      "Output:  -8.7\n",
      "Output:  -5.0\n"
     ]
    }
   ],
   "source": [
    "run_modulating(wave_modulating(12))"
   ]
  },
  {
   "cell_type": "code",
   "execution_count": 26,
   "id": "889d944f-111b-49ba-9b46-1446040336f4",
   "metadata": {
    "tags": []
   },
   "outputs": [],
   "source": [
    "def complex_wave():\n",
    "    yield from wave(7.0, 3)\n",
    "    yield from wave(2.0, 4)\n",
    "    yield from wave(10.0, 5)"
   ]
  },
  {
   "cell_type": "code",
   "execution_count": 27,
   "id": "8e0e2d85-e5f5-4103-bf83-794d99e47507",
   "metadata": {
    "tags": []
   },
   "outputs": [
    {
     "name": "stdout",
     "output_type": "stream",
     "text": [
      "Output:   0.0\n",
      "Output:   6.1\n",
      "Output:  -6.1\n",
      "Output:   0.0\n",
      "Output:   2.0\n",
      "Output:   0.0\n",
      "Output:  -2.0\n",
      "Output:   0.0\n",
      "Output:   9.5\n",
      "Output:   5.9\n",
      "Output:  -5.9\n",
      "Output:  -9.5\n"
     ]
    }
   ],
   "source": [
    "run(complex_wave())"
   ]
  },
  {
   "cell_type": "code",
   "execution_count": 28,
   "id": "115e71b1-4b15-470c-866a-97254a6f00e9",
   "metadata": {
    "tags": []
   },
   "outputs": [],
   "source": [
    "def complex_wave_modulating():\n",
    "    yield from wave_modulating(3)\n",
    "    yield from wave_modulating(4)\n",
    "    yield from wave_modulating(5)"
   ]
  },
  {
   "cell_type": "code",
   "execution_count": 29,
   "id": "2f3969d6-7c45-42ab-9023-a355522e1aaa",
   "metadata": {
    "tags": []
   },
   "outputs": [
    {
     "name": "stdout",
     "output_type": "stream",
     "text": [
      "Output is None\n",
      "Output:   0.0\n",
      "Output:   6.1\n",
      "Output:  -6.1\n",
      "Output is None\n",
      "Output:   0.0\n",
      "Output:   2.0\n",
      "Output:   0.0\n",
      "Output: -10.0\n",
      "Output is None\n",
      "Output:   0.0\n",
      "Output:   9.5\n",
      "Output:   5.9\n"
     ]
    }
   ],
   "source": [
    "run_modulating(complex_wave_modulating())"
   ]
  },
  {
   "cell_type": "code",
   "execution_count": 30,
   "id": "780dfe82-7e33-45b8-b00b-6e3155447c3c",
   "metadata": {
    "tags": []
   },
   "outputs": [],
   "source": [
    "def wave_cascading(amplitude_it, steps):\n",
    "    step_size = 2 * math.pi / steps\n",
    "    for step in range(steps):\n",
    "        radians = steps * step_size\n",
    "        fraction = math.sin(radians)\n",
    "        amplitude = next(amplitude_it) # get next input\n",
    "        outup = amplitude * fraction\n",
    "        yield output"
   ]
  },
  {
   "cell_type": "code",
   "execution_count": 31,
   "id": "c8b8b53c-6130-461c-993e-015280fa4824",
   "metadata": {
    "tags": []
   },
   "outputs": [],
   "source": [
    "def complext_wave_cascading(amplitude_it):\n",
    "    yield from wave_cascading(amplitude_it, 3)\n",
    "    yield from wave_cascading(amplitude_it, 4)\n",
    "    yield from wave_cascading(amplitude_it, 5)"
   ]
  },
  {
   "cell_type": "code",
   "execution_count": 35,
   "id": "e4423511-5531-4d27-b711-a13286140da6",
   "metadata": {
    "tags": []
   },
   "outputs": [],
   "source": [
    "def run_cascading():\n",
    "    amplitudes = [7, 7, 7, 2, 2, 2, 2, 10, 10, 10, 10, 10]\n",
    "    it = complext_wave_cascading(iter(amplitudes))\n",
    "    for amplitude in amplitudes:\n",
    "        output = next(it)\n",
    "        transmit(output)"
   ]
  },
  {
   "cell_type": "code",
   "execution_count": 36,
   "id": "1efcbaa5-4704-44cf-a920-3943710538ae",
   "metadata": {
    "tags": []
   },
   "outputs": [
    {
     "name": "stdout",
     "output_type": "stream",
     "text": [
      "Output:   1.0\n",
      "Output:   1.0\n",
      "Output:   1.0\n",
      "Output:   1.0\n",
      "Output:   1.0\n",
      "Output:   1.0\n",
      "Output:   1.0\n",
      "Output:   1.0\n",
      "Output:   1.0\n",
      "Output:   1.0\n",
      "Output:   1.0\n",
      "Output:   1.0\n"
     ]
    }
   ],
   "source": [
    "run_cascading()"
   ]
  },
  {
   "cell_type": "code",
   "execution_count": null,
   "id": "885993b5-4c1a-4b1d-90e6-3cdde71d638c",
   "metadata": {},
   "outputs": [],
   "source": []
  }
 ],
 "metadata": {
  "kernelspec": {
   "display_name": "Python 3 (ipykernel)",
   "language": "python",
   "name": "python3"
  },
  "language_info": {
   "codemirror_mode": {
    "name": "ipython",
    "version": 3
   },
   "file_extension": ".py",
   "mimetype": "text/x-python",
   "name": "python",
   "nbconvert_exporter": "python",
   "pygments_lexer": "ipython3",
   "version": "3.9.14"
  }
 },
 "nbformat": 4,
 "nbformat_minor": 5
}

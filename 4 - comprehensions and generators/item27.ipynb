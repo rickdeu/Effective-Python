{
 "cells": [
  {
   "cell_type": "markdown",
   "id": "ff285499-565c-45ef-b352-8821b32d5d4f",
   "metadata": {},
   "source": [
    "# Use comprehensions insead of map and filter"
   ]
  },
  {
   "cell_type": "code",
   "execution_count": 1,
   "id": "2ea7807d-31f1-4de9-9747-ba267d39129e",
   "metadata": {
    "tags": []
   },
   "outputs": [],
   "source": [
    "a = [1, 2, 3, 4, 5, 6, 7, 8, 9, 10]"
   ]
  },
  {
   "cell_type": "code",
   "execution_count": 2,
   "id": "48039920-7c11-47ab-94f2-a081be6b0de6",
   "metadata": {
    "tags": []
   },
   "outputs": [],
   "source": [
    "squares = []"
   ]
  },
  {
   "cell_type": "code",
   "execution_count": 3,
   "id": "1e069f76-f05e-46db-b4fd-f8aa6000f402",
   "metadata": {
    "tags": []
   },
   "outputs": [
    {
     "name": "stdout",
     "output_type": "stream",
     "text": [
      "[1, 4, 9, 16, 25, 36, 49, 64, 81, 100]\n"
     ]
    }
   ],
   "source": [
    "for x in a:\n",
    "    squares.append(x**2)\n",
    "print(squares)"
   ]
  },
  {
   "cell_type": "code",
   "execution_count": 4,
   "id": "1ea3891f-4e0c-435a-9b5c-2d70104c2395",
   "metadata": {
    "tags": []
   },
   "outputs": [
    {
     "name": "stdout",
     "output_type": "stream",
     "text": [
      "[1, 4, 9, 16, 25, 36, 49, 64, 81, 100]\n"
     ]
    }
   ],
   "source": [
    "squares = [x**2 for x in a] # List comprehension\n",
    "print(squares)"
   ]
  },
  {
   "cell_type": "code",
   "execution_count": 7,
   "id": "2e12964f-456d-48f9-8896-618c40a8b3f5",
   "metadata": {
    "tags": []
   },
   "outputs": [],
   "source": [
    "alt = map(lambda x: x**2, a)"
   ]
  },
  {
   "cell_type": "code",
   "execution_count": 8,
   "id": "684a921d-1f70-4519-8f1b-28e65b626e35",
   "metadata": {
    "tags": []
   },
   "outputs": [
    {
     "name": "stdout",
     "output_type": "stream",
     "text": [
      "[4, 16, 36, 64, 100]\n"
     ]
    }
   ],
   "source": [
    "even_squares = [x**2 for x in a if x%2==0]\n",
    "print(even_squares)"
   ]
  },
  {
   "cell_type": "code",
   "execution_count": 9,
   "id": "5f796d2b-b206-413a-9b75-0ce5091e240c",
   "metadata": {
    "tags": []
   },
   "outputs": [],
   "source": [
    "alt = map(lambda x: x**2, filter(lambda x: x%2==0, a))"
   ]
  },
  {
   "cell_type": "code",
   "execution_count": 10,
   "id": "f33a3f0a-cbf3-40f3-9709-1c330d1dd0e8",
   "metadata": {
    "tags": []
   },
   "outputs": [],
   "source": [
    "assert even_squares == list(alt)"
   ]
  },
  {
   "cell_type": "code",
   "execution_count": 18,
   "id": "15c44ae2-882e-4ae0-bf3b-87907394c914",
   "metadata": {
    "tags": []
   },
   "outputs": [
    {
     "name": "stdout",
     "output_type": "stream",
     "text": [
      "{2: 4, 4: 16, 6: 36, 8: 64, 10: 100}\n",
      "{216, 729, 27}\n"
     ]
    }
   ],
   "source": [
    "even_squares_dict = {x: x**2 for x in a if x%2==0}\n",
    "threes_cubed_set = {x**3 for x in a if x%3==0}\n",
    "print(even_squares_dict)\n",
    "print(threes_cubed_set)"
   ]
  },
  {
   "cell_type": "code",
   "execution_count": 19,
   "id": "bf2e4516-1b72-41d6-ade0-15fe97a51a31",
   "metadata": {
    "tags": []
   },
   "outputs": [],
   "source": [
    "alt = dict(map(lambda x: (x, x**2), filter(lambda x:x%2==2, a)))"
   ]
  },
  {
   "cell_type": "code",
   "execution_count": 20,
   "id": "564b2dfb-fcd3-448c-b6bf-2463d3669a4b",
   "metadata": {
    "tags": []
   },
   "outputs": [],
   "source": [
    "alt_set = set(map(lambda x: x**3, filter(lambda x: x%3==0, a)))"
   ]
  },
  {
   "cell_type": "code",
   "execution_count": null,
   "id": "910b191f-90ec-4740-ad95-22f48e6c4274",
   "metadata": {},
   "outputs": [],
   "source": []
  }
 ],
 "metadata": {
  "kernelspec": {
   "display_name": "Python 3 (ipykernel)",
   "language": "python",
   "name": "python3"
  },
  "language_info": {
   "codemirror_mode": {
    "name": "ipython",
    "version": 3
   },
   "file_extension": ".py",
   "mimetype": "text/x-python",
   "name": "python",
   "nbconvert_exporter": "python",
   "pygments_lexer": "ipython3",
   "version": "3.9.14"
  }
 },
 "nbformat": 4,
 "nbformat_minor": 5
}

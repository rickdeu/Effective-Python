{
 "cells": [
  {
   "cell_type": "markdown",
   "id": "c8c66af3-b794-469a-8b8f-eabca931e88a",
   "metadata": {},
   "source": [
    "# Avoid Causing State Transations in Generators with thros"
   ]
  },
  {
   "cell_type": "code",
   "execution_count": 1,
   "id": "f681deca-17d8-4274-b9e3-1fb471861a16",
   "metadata": {
    "tags": []
   },
   "outputs": [],
   "source": [
    "class MyError(Exception):\n",
    "    pass"
   ]
  },
  {
   "cell_type": "code",
   "execution_count": 2,
   "id": "9feddaf8-7064-4e92-8481-36b0a3c4d6a7",
   "metadata": {
    "tags": []
   },
   "outputs": [],
   "source": [
    "def my_generator():\n",
    "    yield 1\n",
    "    yield 2\n",
    "    yield 3"
   ]
  },
  {
   "cell_type": "code",
   "execution_count": 3,
   "id": "6cb7a310-486d-40bf-b563-9fcef0116d1f",
   "metadata": {
    "tags": []
   },
   "outputs": [
    {
     "name": "stdout",
     "output_type": "stream",
     "text": [
      "1\n",
      "2\n"
     ]
    },
    {
     "ename": "MyError",
     "evalue": "test error",
     "output_type": "error",
     "traceback": [
      "\u001b[0;31m---------------------------------------------------------------------------\u001b[0m",
      "\u001b[0;31mMyError\u001b[0m                                   Traceback (most recent call last)",
      "Cell \u001b[0;32mIn[3], line 4\u001b[0m\n\u001b[1;32m      2\u001b[0m \u001b[38;5;28mprint\u001b[39m(\u001b[38;5;28mnext\u001b[39m(it)) \u001b[38;5;66;03m# Yield 1\u001b[39;00m\n\u001b[1;32m      3\u001b[0m \u001b[38;5;28mprint\u001b[39m(\u001b[38;5;28mnext\u001b[39m(it)) \u001b[38;5;66;03m# Yield 2\u001b[39;00m\n\u001b[0;32m----> 4\u001b[0m \u001b[38;5;28mprint\u001b[39m(\u001b[43mit\u001b[49m\u001b[38;5;241;43m.\u001b[39;49m\u001b[43mthrow\u001b[49m\u001b[43m(\u001b[49m\u001b[43mMyError\u001b[49m\u001b[43m(\u001b[49m\u001b[38;5;124;43m'\u001b[39;49m\u001b[38;5;124;43mtest error\u001b[39;49m\u001b[38;5;124;43m'\u001b[39;49m\u001b[43m)\u001b[49m\u001b[43m)\u001b[49m)\n",
      "Cell \u001b[0;32mIn[2], line 3\u001b[0m, in \u001b[0;36mmy_generator\u001b[0;34m()\u001b[0m\n\u001b[1;32m      1\u001b[0m \u001b[38;5;28;01mdef\u001b[39;00m \u001b[38;5;21mmy_generator\u001b[39m():\n\u001b[1;32m      2\u001b[0m     \u001b[38;5;28;01myield\u001b[39;00m \u001b[38;5;241m1\u001b[39m\n\u001b[0;32m----> 3\u001b[0m     \u001b[38;5;28;01myield\u001b[39;00m \u001b[38;5;241m2\u001b[39m\n\u001b[1;32m      4\u001b[0m     \u001b[38;5;28;01myield\u001b[39;00m \u001b[38;5;241m3\u001b[39m\n",
      "\u001b[0;31mMyError\u001b[0m: test error"
     ]
    }
   ],
   "source": [
    "it = my_generator()\n",
    "print(next(it)) # Yield 1\n",
    "print(next(it)) # Yield 2\n",
    "print(it.throw(MyError('test error')))"
   ]
  },
  {
   "cell_type": "code",
   "execution_count": 6,
   "id": "cd2d7e7d-4647-489e-a28d-39b8859ca77d",
   "metadata": {
    "tags": []
   },
   "outputs": [],
   "source": [
    "def my_generator():\n",
    "    yield 1\n",
    "    try:\n",
    "        yield 2\n",
    "    except MyError:\n",
    "        print('Got MyError!')\n",
    "    else:\n",
    "        yield 3\n",
    "    yield 4"
   ]
  },
  {
   "cell_type": "code",
   "execution_count": 7,
   "id": "a2ff3eec-3da6-4123-9dca-ba11d678da31",
   "metadata": {
    "tags": []
   },
   "outputs": [
    {
     "name": "stdout",
     "output_type": "stream",
     "text": [
      "1\n",
      "2\n",
      "Got MyError!\n",
      "4\n"
     ]
    }
   ],
   "source": [
    "it = my_generator()\n",
    "print(next(it)) # Yield 1\n",
    "print(next(it)) # Yield 2\n",
    "print(it.throw(MyError('test error')))"
   ]
  },
  {
   "cell_type": "code",
   "execution_count": 8,
   "id": "2b3e8c66-c18e-4880-9995-5693e18358b3",
   "metadata": {
    "tags": []
   },
   "outputs": [],
   "source": [
    "class Reset(Exception):\n",
    "    pass"
   ]
  },
  {
   "cell_type": "code",
   "execution_count": 9,
   "id": "0577c13e-71a6-4532-b55a-6f8c7e549041",
   "metadata": {
    "tags": []
   },
   "outputs": [],
   "source": [
    "def timer(period):\n",
    "    current = period\n",
    "    while current:\n",
    "        current -= 1\n",
    "        try:\n",
    "            yield current\n",
    "        except Reset:\n",
    "            current = period"
   ]
  },
  {
   "cell_type": "code",
   "execution_count": 10,
   "id": "e7e217cb-512d-4ad8-940d-80fa4dd1982a",
   "metadata": {
    "tags": []
   },
   "outputs": [],
   "source": [
    "def check_for_reset():\n",
    "    # Poll for external event\n",
    "    ..."
   ]
  },
  {
   "cell_type": "code",
   "execution_count": 11,
   "id": "49e704db-6305-4d17-a6bb-fcb3d003905f",
   "metadata": {
    "tags": []
   },
   "outputs": [],
   "source": [
    "def announce(remaining):\n",
    "    print(f'{remaining} ticks remaining')"
   ]
  },
  {
   "cell_type": "code",
   "execution_count": 13,
   "id": "bc64928e-cb8c-4f7c-9dee-eb9d13385d00",
   "metadata": {
    "tags": []
   },
   "outputs": [],
   "source": [
    "def run():\n",
    "    it = timer(4)\n",
    "    while True:\n",
    "        try:\n",
    "            if check_for_reset():\n",
    "                current = it.throw(Reset())\n",
    "            else:\n",
    "                current = next(it)\n",
    "        except StopIteration:\n",
    "            break\n",
    "        else:\n",
    "            announce(current)"
   ]
  },
  {
   "cell_type": "code",
   "execution_count": 14,
   "id": "e6a834bc-be2f-4719-8973-965c69a832ba",
   "metadata": {
    "tags": []
   },
   "outputs": [
    {
     "name": "stdout",
     "output_type": "stream",
     "text": [
      "3 ticks remaining\n",
      "2 ticks remaining\n",
      "1 ticks remaining\n",
      "0 ticks remaining\n"
     ]
    }
   ],
   "source": [
    "run()"
   ]
  },
  {
   "cell_type": "code",
   "execution_count": 15,
   "id": "e2e66197-fdc4-4dbc-8421-160502e20c69",
   "metadata": {
    "tags": []
   },
   "outputs": [],
   "source": [
    "class Timer:\n",
    "    def __init__(self, period):\n",
    "        self.current = period\n",
    "        self.period = period\n",
    "    def reset(self):\n",
    "        self.current = self.period\n",
    "    def __iter__(self):\n",
    "        while self.current:\n",
    "            self.current -= 1\n",
    "            yield self.current"
   ]
  },
  {
   "cell_type": "code",
   "execution_count": 16,
   "id": "612d75ea-6879-443b-8610-a4fbd1d8078e",
   "metadata": {
    "tags": []
   },
   "outputs": [],
   "source": [
    "def run():\n",
    "    timer = Timer(4)\n",
    "    for current in timer:\n",
    "        if check_for_reset():\n",
    "            timer.reset()\n",
    "        announce(current)"
   ]
  },
  {
   "cell_type": "code",
   "execution_count": 17,
   "id": "26743e0d-5a32-45e2-9829-9596dcd562f2",
   "metadata": {
    "tags": []
   },
   "outputs": [
    {
     "name": "stdout",
     "output_type": "stream",
     "text": [
      "3 ticks remaining\n",
      "2 ticks remaining\n",
      "1 ticks remaining\n",
      "0 ticks remaining\n"
     ]
    }
   ],
   "source": [
    "run()"
   ]
  },
  {
   "cell_type": "code",
   "execution_count": null,
   "id": "f17f7e2f-ca20-43db-9ae1-0be37f69c326",
   "metadata": {},
   "outputs": [],
   "source": []
  }
 ],
 "metadata": {
  "kernelspec": {
   "display_name": "Python 3 (ipykernel)",
   "language": "python",
   "name": "python3"
  },
  "language_info": {
   "codemirror_mode": {
    "name": "ipython",
    "version": 3
   },
   "file_extension": ".py",
   "mimetype": "text/x-python",
   "name": "python",
   "nbconvert_exporter": "python",
   "pygments_lexer": "ipython3",
   "version": "3.9.14"
  }
 },
 "nbformat": 4,
 "nbformat_minor": 5
}

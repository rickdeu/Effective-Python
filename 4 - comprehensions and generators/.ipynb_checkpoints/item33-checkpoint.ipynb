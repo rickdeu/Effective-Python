{
 "cells": [
  {
   "cell_type": "markdown",
   "id": "c76e093b-adc0-4aa7-a33a-34c45050029f",
   "metadata": {},
   "source": [
    "# Compose Multiple Generators with yield from"
   ]
  },
  {
   "cell_type": "markdown",
   "id": "5f006cf8-b0df-4561-80ea-a736cd201062",
   "metadata": {},
   "source": [
    "### Say that i have a graphical program that's using generators to animate the movement of images onscreen"
   ]
  },
  {
   "cell_type": "code",
   "execution_count": 1,
   "id": "8b57de30-3943-43e6-8367-9e96471a9e83",
   "metadata": {
    "tags": []
   },
   "outputs": [],
   "source": [
    "def move(period, speed):\n",
    "    for _ in range(period):\n",
    "        yield speed"
   ]
  },
  {
   "cell_type": "code",
   "execution_count": 2,
   "id": "fc443d0a-addb-4565-9f99-6cf4652e21fa",
   "metadata": {
    "tags": []
   },
   "outputs": [],
   "source": [
    "def pause(delay):\n",
    "    for _ in range(delay):\n",
    "        yield 0"
   ]
  },
  {
   "cell_type": "markdown",
   "id": "203d0231-caca-4c4c-9a14-dd25448c7288",
   "metadata": {
    "tags": []
   },
   "source": [
    "#### To create the final animation, i need to combine move and pause together to produce a single sequence of onscreen deltas"
   ]
  },
  {
   "cell_type": "code",
   "execution_count": 4,
   "id": "f55a21ed-9e75-4bda-92c0-583f8b466c33",
   "metadata": {
    "tags": []
   },
   "outputs": [],
   "source": [
    "def animate():\n",
    "    for delta in move(4, 5.0):\n",
    "        yield delta\n",
    "    for delta in pause(3):\n",
    "        yield delta\n",
    "    for delta in move(2, 3.0):\n",
    "        yield delta"
   ]
  },
  {
   "cell_type": "code",
   "execution_count": 5,
   "id": "b0f1beb1-acca-49f8-b85c-d2c3d555c439",
   "metadata": {
    "tags": []
   },
   "outputs": [],
   "source": [
    "def render(delta):\n",
    "    print(f'Delta: {delta:.1f}')\n",
    "    # Move the images onscreen\n",
    "    ..."
   ]
  },
  {
   "cell_type": "code",
   "execution_count": 6,
   "id": "15889d28-aa53-4a33-ad1d-8660716cc200",
   "metadata": {
    "tags": []
   },
   "outputs": [],
   "source": [
    "def run(func):\n",
    "    for delta in func():\n",
    "        render(delta)"
   ]
  },
  {
   "cell_type": "code",
   "execution_count": 10,
   "id": "1f5ac380-d55b-47d0-ba58-4a45e5cd55e4",
   "metadata": {
    "tags": []
   },
   "outputs": [
    {
     "name": "stdout",
     "output_type": "stream",
     "text": [
      "Delta: 5.0\n",
      "Delta: 5.0\n",
      "Delta: 5.0\n",
      "Delta: 5.0\n",
      "Delta: 0.0\n",
      "Delta: 0.0\n",
      "Delta: 0.0\n",
      "Delta: 3.0\n",
      "Delta: 3.0\n"
     ]
    }
   ],
   "source": [
    "run(animate)"
   ]
  },
  {
   "cell_type": "code",
   "execution_count": 11,
   "id": "248e2db1-16d9-4171-8a68-c36237c218dc",
   "metadata": {
    "tags": []
   },
   "outputs": [],
   "source": [
    "def animate_composed():\n",
    "    yield from move(4, 5.0)\n",
    "    yield from pause(3)\n",
    "    yield from move(2, 3.0)"
   ]
  },
  {
   "cell_type": "code",
   "execution_count": 12,
   "id": "6d88018f-c0af-4b74-b6da-ea13a816a596",
   "metadata": {
    "tags": []
   },
   "outputs": [
    {
     "name": "stdout",
     "output_type": "stream",
     "text": [
      "Delta: 5.0\n",
      "Delta: 5.0\n",
      "Delta: 5.0\n",
      "Delta: 5.0\n",
      "Delta: 0.0\n",
      "Delta: 0.0\n",
      "Delta: 0.0\n",
      "Delta: 3.0\n",
      "Delta: 3.0\n"
     ]
    }
   ],
   "source": [
    "run(animate_composed)"
   ]
  },
  {
   "cell_type": "code",
   "execution_count": 23,
   "id": "e7b0cbf2-0a94-4520-964f-7d46d5f3dfe5",
   "metadata": {
    "tags": []
   },
   "outputs": [],
   "source": [
    "import timeit"
   ]
  },
  {
   "cell_type": "code",
   "execution_count": 24,
   "id": "af055f89-9413-4a93-9388-46f0871b27b6",
   "metadata": {
    "tags": []
   },
   "outputs": [],
   "source": [
    "def child():\n",
    "    for i in range(1_000_000):\n",
    "        yield i"
   ]
  },
  {
   "cell_type": "code",
   "execution_count": 25,
   "id": "c9a53995-f00a-4867-a1ff-b412f8e51115",
   "metadata": {
    "tags": []
   },
   "outputs": [],
   "source": [
    "def slow():\n",
    "    for i in child():\n",
    "        yield i"
   ]
  },
  {
   "cell_type": "code",
   "execution_count": 26,
   "id": "b7c4daa2-4809-439e-ac11-f6aee389e1b8",
   "metadata": {
    "tags": []
   },
   "outputs": [],
   "source": [
    "def fast():\n",
    "    yield from child()"
   ]
  },
  {
   "cell_type": "code",
   "execution_count": 27,
   "id": "ad6540a1-c1ff-45d4-91b7-1e16b3d29d40",
   "metadata": {
    "tags": []
   },
   "outputs": [
    {
     "name": "stdout",
     "output_type": "stream",
     "text": [
      "Manual nesting 5.85s\n"
     ]
    }
   ],
   "source": [
    "baseline = timeit.timeit(\n",
    "    stmt='for i in slow(): pass',\n",
    "    globals=globals(),\n",
    "    number=50)\n",
    "\n",
    "print(f'Manual nesting {baseline:.2f}s')"
   ]
  },
  {
   "cell_type": "code",
   "execution_count": 28,
   "id": "6e21c9d0-68b8-4f5c-a114-c4bd03812e84",
   "metadata": {
    "tags": []
   },
   "outputs": [
    {
     "name": "stdout",
     "output_type": "stream",
     "text": [
      "Composed nesting 4.29s\n"
     ]
    }
   ],
   "source": [
    "comparision = timeit.timeit(\n",
    "    stmt='for _ in fast(): pass',\n",
    "    globals=globals(),\n",
    "    number=50)\n",
    "\n",
    "print(f'Composed nesting {comparision:.2f}s')"
   ]
  },
  {
   "cell_type": "code",
   "execution_count": 29,
   "id": "70ba2e1a-5ecc-4a7e-a32a-3a8dab5428bc",
   "metadata": {
    "tags": []
   },
   "outputs": [
    {
     "name": "stdout",
     "output_type": "stream",
     "text": [
      "26.7% less time\n"
     ]
    }
   ],
   "source": [
    "reduction = - (comparision - baseline) / baseline\n",
    "print(f'{reduction:.1%} less time')"
   ]
  },
  {
   "cell_type": "code",
   "execution_count": 30,
   "id": "1c27c49f-ffbb-4d2c-9939-d2e04aaebe7b",
   "metadata": {
    "tags": []
   },
   "outputs": [
    {
     "name": "stdout",
     "output_type": "stream",
     "text": [
      "Manual nesting 5.85s\n",
      "Composed nesting 4.29s\n",
      "26.7% less time\n"
     ]
    }
   ],
   "source": [
    "print(f'Manual nesting {baseline:.2f}s')\n",
    "print(f'Composed nesting {comparision:.2f}s')\n",
    "print(f'{reduction:.1%} less time')"
   ]
  },
  {
   "cell_type": "code",
   "execution_count": null,
   "id": "8a883ce6-a96e-4f0c-8716-724131382403",
   "metadata": {},
   "outputs": [],
   "source": []
  }
 ],
 "metadata": {
  "kernelspec": {
   "display_name": "Python 3 (ipykernel)",
   "language": "python",
   "name": "python3"
  },
  "language_info": {
   "codemirror_mode": {
    "name": "ipython",
    "version": 3
   },
   "file_extension": ".py",
   "mimetype": "text/x-python",
   "name": "python",
   "nbconvert_exporter": "python",
   "pygments_lexer": "ipython3",
   "version": "3.9.14"
  }
 },
 "nbformat": 4,
 "nbformat_minor": 5
}

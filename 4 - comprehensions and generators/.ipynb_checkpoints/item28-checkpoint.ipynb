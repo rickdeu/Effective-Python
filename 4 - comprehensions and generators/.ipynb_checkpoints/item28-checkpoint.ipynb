{
 "cells": [
  {
   "cell_type": "markdown",
   "id": "a6e4d064-1eb3-49cd-bca8-29b8b6e8c6f5",
   "metadata": {},
   "source": [
    "# Avoid More Than Two Control Subexpression in Comprehensions"
   ]
  },
  {
   "cell_type": "markdown",
   "id": "8f704048-40af-44df-b0f0-7e5dc0430a8b",
   "metadata": {},
   "source": [
    "# Matrix for list comprehensions"
   ]
  },
  {
   "cell_type": "code",
   "execution_count": 1,
   "id": "8d508a64-c2c8-444f-a98b-9bcca165bbc9",
   "metadata": {
    "tags": []
   },
   "outputs": [],
   "source": [
    "matrix = [[1, 2, 3], [4, 5, 6], [7, 8, 9]]"
   ]
  },
  {
   "cell_type": "code",
   "execution_count": 2,
   "id": "6a3f7dfe-1944-41f3-9c88-7b1b63cf4c69",
   "metadata": {
    "tags": []
   },
   "outputs": [],
   "source": [
    "flat = [x for row in matrix for x in row]"
   ]
  },
  {
   "cell_type": "code",
   "execution_count": 3,
   "id": "4ec43946-4150-4358-bffd-a01568cacd82",
   "metadata": {
    "tags": []
   },
   "outputs": [
    {
     "name": "stdout",
     "output_type": "stream",
     "text": [
      "[1, 2, 3, 4, 5, 6, 7, 8, 9]\n"
     ]
    }
   ],
   "source": [
    "print(flat)"
   ]
  },
  {
   "cell_type": "code",
   "execution_count": 4,
   "id": "a89a500b-2395-4a45-87b1-41544eb8f2a1",
   "metadata": {
    "tags": []
   },
   "outputs": [
    {
     "name": "stdout",
     "output_type": "stream",
     "text": [
      "[[1, 4, 9], [16, 25, 36], [49, 64, 81]]\n"
     ]
    }
   ],
   "source": [
    "squared = [[x**2 for x in row] for row in matrix]\n",
    "print(squared)"
   ]
  },
  {
   "cell_type": "code",
   "execution_count": null,
   "id": "f50a1f78-975f-472a-a611-77e18cb92fc4",
   "metadata": {},
   "outputs": [],
   "source": [
    "my_lists = [\n",
    "    [[1, 2, 3], [4, 5,6]],\n",
    "]"
   ]
  }
 ],
 "metadata": {
  "kernelspec": {
   "display_name": "Python 3 (ipykernel)",
   "language": "python",
   "name": "python3"
  },
  "language_info": {
   "codemirror_mode": {
    "name": "ipython",
    "version": 3
   },
   "file_extension": ".py",
   "mimetype": "text/x-python",
   "name": "python",
   "nbconvert_exporter": "python",
   "pygments_lexer": "ipython3",
   "version": "3.9.14"
  }
 },
 "nbformat": 4,
 "nbformat_minor": 5
}

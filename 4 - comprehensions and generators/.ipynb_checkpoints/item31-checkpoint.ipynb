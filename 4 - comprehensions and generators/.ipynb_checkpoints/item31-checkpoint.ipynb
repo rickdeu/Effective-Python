{
 "cells": [
  {
   "cell_type": "markdown",
   "id": "fe9d95ef-0793-4bbb-aa43-c54db1bb5e0b",
   "metadata": {},
   "source": [
    "# Be Defensive When Iterating Over Arguments"
   ]
  },
  {
   "cell_type": "code",
   "execution_count": 19,
   "id": "e45f3fc3-e491-460e-88b7-95b07784a2d7",
   "metadata": {
    "tags": []
   },
   "outputs": [],
   "source": [
    "def normalize(numbers):\n",
    "    total = sum(numbers)\n",
    "    result = []\n",
    "    for value in numbers:\n",
    "        percent = 100 * value / total\n",
    "        result.append(percent)\n",
    "    return result"
   ]
  },
  {
   "cell_type": "code",
   "execution_count": 26,
   "id": "f7e068aa-721a-499e-ad45-9b491ab7754a",
   "metadata": {
    "tags": []
   },
   "outputs": [
    {
     "name": "stdout",
     "output_type": "stream",
     "text": [
      "[11.538461538461538, 26.923076923076923, 61.53846153846154]\n"
     ]
    }
   ],
   "source": [
    "visits = [15, 35, 80]\n",
    "percentages = normalize(visits)\n",
    "print(percentages)\n",
    "assert sum(percentages) == 100.0"
   ]
  },
  {
   "cell_type": "code",
   "execution_count": 27,
   "id": "51bfaa46-cc53-4794-b0d7-7b8bad575964",
   "metadata": {
    "tags": []
   },
   "outputs": [],
   "source": [
    "def read_visits(data_path):\n",
    "    with open(data_path)  as f:\n",
    "        for line in f:\n",
    "            yield int(line)"
   ]
  },
  {
   "cell_type": "code",
   "execution_count": 28,
   "id": "8ce1893d-8209-4cdd-b88b-2e699aa08379",
   "metadata": {
    "tags": []
   },
   "outputs": [
    {
     "name": "stdout",
     "output_type": "stream",
     "text": [
      "[]\n"
     ]
    }
   ],
   "source": [
    "it = read_visits('my_numbers.txt')\n",
    "percentages = normalize(it)\n",
    "print(percentages)"
   ]
  },
  {
   "cell_type": "code",
   "execution_count": 23,
   "id": "afb0e459-0009-49fc-bd43-e37e8789cb12",
   "metadata": {
    "tags": []
   },
   "outputs": [
    {
     "name": "stdout",
     "output_type": "stream",
     "text": [
      "[]\n",
      "[]\n"
     ]
    }
   ],
   "source": [
    "print(list(it))\n",
    "print(list(it)) # Already exhausted"
   ]
  },
  {
   "cell_type": "code",
   "execution_count": 31,
   "id": "6cdcb690-726e-46b1-9edc-9f94bb2099db",
   "metadata": {
    "tags": []
   },
   "outputs": [],
   "source": [
    "def normalize_copy(numbers):\n",
    "    numbers_copy = list(numbers) # copy the iterator\n",
    "    total = sum(numbers_copy)\n",
    "    result = []\n",
    "    for value in numbers_copy:\n",
    "        percent = 100 * value / total\n",
    "        result.append(percent)\n",
    "    return result"
   ]
  },
  {
   "cell_type": "code",
   "execution_count": 32,
   "id": "37bdd965-5e94-46f8-b8b0-81435513a8d5",
   "metadata": {
    "tags": []
   },
   "outputs": [
    {
     "name": "stdout",
     "output_type": "stream",
     "text": [
      "[11.538461538461538, 26.923076923076923, 61.53846153846154]\n"
     ]
    }
   ],
   "source": [
    "it = read_visits('my_numbers.txt')\n",
    "percentages = normalize_copy(it)\n",
    "print(percentages)\n",
    "assert sum(percentages) == 100.0"
   ]
  },
  {
   "cell_type": "code",
   "execution_count": 35,
   "id": "1f2926d5-129b-463c-926a-5be8210554f9",
   "metadata": {
    "tags": []
   },
   "outputs": [],
   "source": [
    "def normalize_func(get_iter):\n",
    "    total = sum(get_iter()) # new iterator\n",
    "    result = []\n",
    "    for value in get_iter(): # New iterator\n",
    "        percent = 100 * value / total\n",
    "        result.append(percent)\n",
    "    return result"
   ]
  },
  {
   "cell_type": "code",
   "execution_count": 36,
   "id": "d9ca86ee-15c3-4bd7-a217-7bcb435ed8f4",
   "metadata": {
    "tags": []
   },
   "outputs": [
    {
     "name": "stdout",
     "output_type": "stream",
     "text": [
      "[11.538461538461538, 26.923076923076923, 61.53846153846154]\n"
     ]
    }
   ],
   "source": [
    "path = 'my_numbers.txt'\n",
    "percentages = normalize_func(lambda: read_visits(path))\n",
    "print(percentages)\n",
    "assert sum(percentages) == 100.0"
   ]
  },
  {
   "cell_type": "markdown",
   "id": "835a06f0-78ad-4dfd-b21a-946ab77e4039",
   "metadata": {},
   "source": [
    "### A better way to achieve the same result is to provide a new container class that implement the iterator protocol"
   ]
  },
  {
   "cell_type": "code",
   "execution_count": null,
   "id": "5e2bbc8d-793a-4a2c-8528-afcb658dccbf",
   "metadata": {},
   "outputs": [],
   "source": [
    "class ReadVisits:\n",
    "    def __init__(self, data_path):\n",
    "        self.data_path = data_path\n",
    "    \n",
    "    def __iter__(self):\n",
    "        with open(self.data_path) as f:\n",
    "            for line in f:\n",
    "                yield int(line)"
   ]
  }
 ],
 "metadata": {
  "kernelspec": {
   "display_name": "Python 3 (ipykernel)",
   "language": "python",
   "name": "python3"
  },
  "language_info": {
   "codemirror_mode": {
    "name": "ipython",
    "version": 3
   },
   "file_extension": ".py",
   "mimetype": "text/x-python",
   "name": "python",
   "nbconvert_exporter": "python",
   "pygments_lexer": "ipython3",
   "version": "3.9.14"
  }
 },
 "nbformat": 4,
 "nbformat_minor": 5
}

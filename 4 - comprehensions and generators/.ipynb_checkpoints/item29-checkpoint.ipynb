{
 "cells": [
  {
   "cell_type": "markdown",
   "id": "4d183055-247d-473e-ae65-967fbe8aaa30",
   "metadata": {},
   "source": [
    "# Avoid Repeated Work in Comprehensions by Using Assignment Expressions"
   ]
  },
  {
   "cell_type": "code",
   "execution_count": 1,
   "id": "95f7678f-3376-4d6e-9555-5510610a9b39",
   "metadata": {
    "tags": []
   },
   "outputs": [],
   "source": [
    "stock = {\n",
    "    'nails': 125,\n",
    "    'screws': 35,\n",
    "    'wingnuts': 8,\n",
    "    'washers': 24\n",
    "}"
   ]
  },
  {
   "cell_type": "code",
   "execution_count": 2,
   "id": "098983f6-d1c4-490a-a60b-80c92f5cf3a7",
   "metadata": {
    "tags": []
   },
   "outputs": [],
   "source": [
    "order = [\n",
    "    'screws', 'wingnuts', 'clips'\n",
    "]"
   ]
  },
  {
   "cell_type": "code",
   "execution_count": 3,
   "id": "b0c05757-5c39-487e-b8d3-aec2b92f57f6",
   "metadata": {
    "tags": []
   },
   "outputs": [],
   "source": [
    "def get_batches(count, size):\n",
    "    return count // size"
   ]
  },
  {
   "cell_type": "code",
   "execution_count": 6,
   "id": "62cae022-9459-4599-b97d-be3c7df573c6",
   "metadata": {
    "tags": []
   },
   "outputs": [
    {
     "name": "stdout",
     "output_type": "stream",
     "text": [
      "{'screws': 4, 'wingnuts': 1}\n"
     ]
    }
   ],
   "source": [
    "result = {}\n",
    "for name in order:\n",
    "    count = stock.get(name, 0)\n",
    "    batches = get_batches(count, 8)\n",
    "    if batches:\n",
    "        result[name] = batches\n",
    "print(result)"
   ]
  },
  {
   "cell_type": "code",
   "execution_count": 7,
   "id": "4c2b51a3-e64a-41d1-966d-2c1d76425bf7",
   "metadata": {
    "tags": []
   },
   "outputs": [
    {
     "name": "stdout",
     "output_type": "stream",
     "text": [
      "{'screws': 4, 'wingnuts': 1}\n"
     ]
    }
   ],
   "source": [
    "found = {name: get_batches(stock.get(name, 0), 8) for name in order if get_batches(stock.get(name, 0), 8)}"
   ]
  },
  {
   "cell_type": "code",
   "execution_count": 9,
   "id": "7ac70704-9824-4ea1-8ab5-f80e20b653a1",
   "metadata": {
    "tags": []
   },
   "outputs": [],
   "source": [
    "has_bug = {name: get_batches(stock.get(name, 0), 4) for name in order if get_batches(stock.get(name, 0), 8)}"
   ]
  },
  {
   "cell_type": "code",
   "execution_count": 10,
   "id": "0bff4739-f2ca-4eff-b66f-b10abcc19bad",
   "metadata": {
    "tags": []
   },
   "outputs": [
    {
     "name": "stdout",
     "output_type": "stream",
     "text": [
      "Expected:  {'screws': 4, 'wingnuts': 1}\n",
      "Found:  {'screws': 8, 'wingnuts': 2}\n"
     ]
    }
   ],
   "source": [
    "print('Expected: ',found)\n",
    "print('Found: ',has_bug)"
   ]
  },
  {
   "cell_type": "code",
   "execution_count": 13,
   "id": "d669bbad-9e9f-42c1-a8b0-de69b1323687",
   "metadata": {
    "tags": []
   },
   "outputs": [],
   "source": [
    "found = {name: batches for name in order if(batches := get_batches(stock.get(name, 0), 8))}"
   ]
  },
  {
   "cell_type": "code",
   "execution_count": 14,
   "id": "adf50db9-a3a8-4227-926e-2ee51b150bd6",
   "metadata": {
    "tags": []
   },
   "outputs": [
    {
     "name": "stdout",
     "output_type": "stream",
     "text": [
      "For walrus:  {'screws': 4, 'wingnuts': 1}\n"
     ]
    }
   ],
   "source": [
    "print('For walrus: ',found)"
   ]
  },
  {
   "cell_type": "code",
   "execution_count": 15,
   "id": "811bf9e8-660e-4e8e-83f6-c8291ce46e4e",
   "metadata": {
    "tags": []
   },
   "outputs": [
    {
     "ename": "NameError",
     "evalue": "name 'tenth' is not defined",
     "output_type": "error",
     "traceback": [
      "\u001b[0;31m---------------------------------------------------------------------------\u001b[0m",
      "\u001b[0;31mNameError\u001b[0m                                 Traceback (most recent call last)",
      "Cell \u001b[0;32mIn[15], line 1\u001b[0m\n\u001b[0;32m----> 1\u001b[0m result \u001b[38;5;241m=\u001b[39m {name: (tenth \u001b[38;5;241m:=\u001b[39m count \u001b[38;5;241m/\u001b[39m\u001b[38;5;241m/\u001b[39m \u001b[38;5;241m10\u001b[39m) \u001b[38;5;28;01mfor\u001b[39;00m name, count \u001b[38;5;129;01min\u001b[39;00m stock\u001b[38;5;241m.\u001b[39mitems() \u001b[38;5;28;01mif\u001b[39;00m tenth \u001b[38;5;241m>\u001b[39m \u001b[38;5;241m0\u001b[39m}\n",
      "Cell \u001b[0;32mIn[15], line 1\u001b[0m, in \u001b[0;36m<dictcomp>\u001b[0;34m(.0)\u001b[0m\n\u001b[0;32m----> 1\u001b[0m result \u001b[38;5;241m=\u001b[39m {name: (tenth \u001b[38;5;241m:=\u001b[39m count \u001b[38;5;241m/\u001b[39m\u001b[38;5;241m/\u001b[39m \u001b[38;5;241m10\u001b[39m) \u001b[38;5;28;01mfor\u001b[39;00m name, count \u001b[38;5;129;01min\u001b[39;00m stock\u001b[38;5;241m.\u001b[39mitems() \u001b[38;5;28;01mif\u001b[39;00m \u001b[43mtenth\u001b[49m \u001b[38;5;241m>\u001b[39m \u001b[38;5;241m0\u001b[39m}\n",
      "\u001b[0;31mNameError\u001b[0m: name 'tenth' is not defined"
     ]
    }
   ],
   "source": [
    "result = {name: (tenth := count // 10) for name, count in stock.items() if tenth > 0}"
   ]
  },
  {
   "cell_type": "code",
   "execution_count": 17,
   "id": "d45a46cc-1fc7-4899-8d2f-54ca2bd4c15c",
   "metadata": {
    "tags": []
   },
   "outputs": [
    {
     "name": "stdout",
     "output_type": "stream",
     "text": [
      "{'nails': 12, 'screws': 3, 'washers': 2}\n"
     ]
    }
   ],
   "source": [
    "result = {name: tenth for name, count in stock.items() if (tenth := count // 10) > 0}\n",
    "print(result)"
   ]
  },
  {
   "cell_type": "code",
   "execution_count": 18,
   "id": "c9b9f757-98c9-43ed-80da-c69b20df8107",
   "metadata": {
    "tags": []
   },
   "outputs": [
    {
     "name": "stdout",
     "output_type": "stream",
     "text": [
      "Last item of [62, 17, 4, 12] is 12\n"
     ]
    }
   ],
   "source": [
    "half = [(last := count // 2) for count in stock.values()]\n",
    "print(f'Last item of {half} is {last}')"
   ]
  },
  {
   "cell_type": "code",
   "execution_count": 19,
   "id": "843948d9-551c-4762-8a32-ac6aa58bf3a6",
   "metadata": {
    "tags": []
   },
   "outputs": [
    {
     "name": "stdout",
     "output_type": "stream",
     "text": [
      "Las item of [125, 35, 8, 24] is 24\n"
     ]
    }
   ],
   "source": [
    "for count in stock.values(): # Leaks loop variable\n",
    "    pass\n",
    "print(f'Las item of {list(stock.values())} is {count}')"
   ]
  },
  {
   "cell_type": "code",
   "execution_count": 24,
   "id": "ce9b4a5e-5636-4fc0-bba8-c8d841b06f38",
   "metadata": {
    "tags": []
   },
   "outputs": [],
   "source": [
    "half = [count // 2 for count in stock.values()]"
   ]
  },
  {
   "cell_type": "code",
   "execution_count": 25,
   "id": "8dd97167-7638-4062-b5b1-0f3e0237845e",
   "metadata": {
    "tags": []
   },
   "outputs": [
    {
     "name": "stdout",
     "output_type": "stream",
     "text": [
      "[62, 17, 4, 12]\n",
      "24\n"
     ]
    }
   ],
   "source": [
    "print(half)\n",
    "print(count)"
   ]
  },
  {
   "cell_type": "code",
   "execution_count": 36,
   "id": "23a0147d-c492-4ce5-b6bc-5e208499993d",
   "metadata": {
    "tags": []
   },
   "outputs": [],
   "source": [
    "found = ((name, batches) for name in order if (batches := get_batches(stock.get(name, 0), 8)))"
   ]
  },
  {
   "cell_type": "code",
   "execution_count": 37,
   "id": "4da2c500-429e-47a4-ba76-d68bb4beb7ec",
   "metadata": {
    "tags": []
   },
   "outputs": [
    {
     "name": "stdout",
     "output_type": "stream",
     "text": [
      "('screws', 4)\n",
      "('wingnuts', 1)\n"
     ]
    }
   ],
   "source": [
    "print(next(found))\n",
    "print(next(found))"
   ]
  },
  {
   "cell_type": "code",
   "execution_count": null,
   "id": "241219a0-4f8b-4372-b9b7-2dad0c221d21",
   "metadata": {},
   "outputs": [],
   "source": []
  }
 ],
 "metadata": {
  "kernelspec": {
   "display_name": "Python 3 (ipykernel)",
   "language": "python",
   "name": "python3"
  },
  "language_info": {
   "codemirror_mode": {
    "name": "ipython",
    "version": 3
   },
   "file_extension": ".py",
   "mimetype": "text/x-python",
   "name": "python",
   "nbconvert_exporter": "python",
   "pygments_lexer": "ipython3",
   "version": "3.9.14"
  }
 },
 "nbformat": 4,
 "nbformat_minor": 5
}

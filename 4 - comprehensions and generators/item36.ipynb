{
 "cells": [
  {
   "cell_type": "markdown",
   "id": "36591726-e074-436a-97fc-ee07ddc0720e",
   "metadata": {},
   "source": [
    "# Consider itertools for Working with Iterators and Generators"
   ]
  },
  {
   "cell_type": "code",
   "execution_count": 1,
   "id": "f0c7d8fa-6327-4e41-83a0-bb7ef23f2b4f",
   "metadata": {
    "tags": []
   },
   "outputs": [],
   "source": [
    "import itertools"
   ]
  },
  {
   "cell_type": "markdown",
   "id": "3acd31a3-5d61-4e64-b734-036695580579",
   "metadata": {},
   "source": [
    "# Linking Iterators Together"
   ]
  },
  {
   "cell_type": "markdown",
   "id": "14016c6e-91bd-4231-910d-455cce0c79f9",
   "metadata": {},
   "source": [
    "#### The itertolls built-in module includes a number of functions for linkink iterators together"
   ]
  },
  {
   "cell_type": "markdown",
   "id": "a81263c2-b2f2-4f47-81a9-6a9c9074f0ae",
   "metadata": {},
   "source": [
    "# Chain"
   ]
  },
  {
   "cell_type": "markdown",
   "id": "06844cb2-ed99-4edc-b16b-620602962961",
   "metadata": {},
   "source": [
    "##### Use chain to combine multiple iterators into a single sequential iterator"
   ]
  },
  {
   "cell_type": "code",
   "execution_count": 3,
   "id": "22ed23a7-e565-4715-ab41-c24d7ef6d9cf",
   "metadata": {
    "tags": []
   },
   "outputs": [
    {
     "name": "stdout",
     "output_type": "stream",
     "text": [
      "[1, 2, 3, 3, 4, 5]\n"
     ]
    }
   ],
   "source": [
    "it = itertools.chain([1, 2, 3], [3, 4, 5])\n",
    "print(list(it))"
   ]
  },
  {
   "cell_type": "markdown",
   "id": "2ee7309c-78ae-43e4-a5f9-8c61f076ee64",
   "metadata": {},
   "source": [
    "# Repeat"
   ]
  },
  {
   "cell_type": "markdown",
   "id": "71e8072c-e29a-475d-945e-15d423833ad1",
   "metadata": {},
   "source": [
    "##### Use repead to output a single value forever, or use the second parameter to specify a maximum number of times"
   ]
  },
  {
   "cell_type": "code",
   "execution_count": 4,
   "id": "6d62613e-f45c-425e-9270-d918bbb6ee71",
   "metadata": {
    "tags": []
   },
   "outputs": [
    {
     "name": "stdout",
     "output_type": "stream",
     "text": [
      "['hello', 'hello', 'hello']\n"
     ]
    }
   ],
   "source": [
    "it = itertools.repeat('hello', 3)\n",
    "print(list(it))"
   ]
  },
  {
   "cell_type": "markdown",
   "id": "a4c0ce10-1251-4180-b923-ad2e50f05644",
   "metadata": {},
   "source": [
    "# Cycle"
   ]
  },
  {
   "cell_type": "markdown",
   "id": "7c0c7e7b-e136-4516-a893-6a10fb8ecd17",
   "metadata": {},
   "source": [
    "#### Use cycle to repeat an iterator's items forever:"
   ]
  },
  {
   "cell_type": "code",
   "execution_count": 6,
   "id": "68af91ba-9182-45dc-bb3b-ba7d71e3682d",
   "metadata": {
    "tags": []
   },
   "outputs": [
    {
     "name": "stdout",
     "output_type": "stream",
     "text": [
      "[1, 2, 1, 2, 1, 2, 1, 2, 1, 2]\n"
     ]
    }
   ],
   "source": [
    "it = itertools.cycle([1, 2])\n",
    "result = [next(it) for _ in range(10)]\n",
    "print(result)"
   ]
  },
  {
   "cell_type": "markdown",
   "id": "ab3eb5a6-6721-4d18-baa8-d6f3d993558f",
   "metadata": {},
   "source": [
    "# Tee"
   ]
  },
  {
   "cell_type": "markdown",
   "id": "a1b4c754-832b-42eb-a695-5eb5c0f48327",
   "metadata": {},
   "source": [
    "#### Use tee to split a single iterator into the number of parallel iterators specified by the second parameter"
   ]
  },
  {
   "cell_type": "code",
   "execution_count": 7,
   "id": "d7fd0834-1a46-4fba-8490-10bb3b67947a",
   "metadata": {
    "tags": []
   },
   "outputs": [
    {
     "name": "stdout",
     "output_type": "stream",
     "text": [
      "['first', 'second']\n",
      "['first', 'second']\n",
      "['first', 'second']\n"
     ]
    }
   ],
   "source": [
    "it1, it2, it3 = itertools.tee(['first', 'second'], 3)\n",
    "print(list(it1))\n",
    "print(list(it2))\n",
    "print(list(it3))"
   ]
  },
  {
   "cell_type": "markdown",
   "id": "f43937ff-68a6-4f1c-8710-21bbedf1783a",
   "metadata": {},
   "source": [
    "# zip_longest"
   ]
  },
  {
   "cell_type": "markdown",
   "id": "bc2e822d-c129-463d-95a4-39fd5b6cbce9",
   "metadata": {},
   "source": [
    "#### This variant of the zip built-in function, returns a placeholder value, when an iterators is exhausted, wich my happen if iterators have different lengths"
   ]
  },
  {
   "cell_type": "code",
   "execution_count": 8,
   "id": "02fc4629-9531-467e-b8e0-ccd71f6e4ad3",
   "metadata": {
    "tags": []
   },
   "outputs": [],
   "source": [
    "keys = ['one', 'two', 'three']\n",
    "values = [1, 2]"
   ]
  },
  {
   "cell_type": "code",
   "execution_count": 9,
   "id": "0208958f-c7a1-44ca-953b-5e3fcd52b41d",
   "metadata": {
    "tags": []
   },
   "outputs": [
    {
     "name": "stdout",
     "output_type": "stream",
     "text": [
      "zip:  [('one', 1), ('two', 2)]\n"
     ]
    }
   ],
   "source": [
    "normal = list(zip(keys, values))\n",
    "print('zip: ', normal)"
   ]
  },
  {
   "cell_type": "code",
   "execution_count": 10,
   "id": "01d01f2d-08e8-4516-b9fb-c8765060cc1a",
   "metadata": {
    "tags": []
   },
   "outputs": [
    {
     "name": "stdout",
     "output_type": "stream",
     "text": [
      "zip_longest:  [('one', 1), ('two', 2), ('three', 'nope')]\n"
     ]
    }
   ],
   "source": [
    "it = itertools.zip_longest(keys, values, fillvalue='nope')\n",
    "longest = list(it)\n",
    "print('zip_longest: ', longest)"
   ]
  },
  {
   "cell_type": "markdown",
   "id": "65021869-a4dd-4b5c-ad82-7eaa4cc0e1a3",
   "metadata": {},
   "source": [
    "# Filtering Items from an Iterator"
   ]
  },
  {
   "cell_type": "markdown",
   "id": "ac680b15-14ca-491a-ba69-0600ec11982c",
   "metadata": {},
   "source": [
    "#### The itertools built-in module includes a number of functions for filtering items from an iterator"
   ]
  },
  {
   "cell_type": "markdown",
   "id": "33846924-9ef8-4641-bffe-fc38e62a9c0c",
   "metadata": {},
   "source": [
    "# islice"
   ]
  },
  {
   "cell_type": "code",
   "execution_count": 11,
   "id": "8ec11a7d-fb55-4e62-833e-8c3483fb707b",
   "metadata": {
    "tags": []
   },
   "outputs": [],
   "source": [
    "values = [1, 2, 3, 4, 5, 6, 7, 8, 9, 10]"
   ]
  },
  {
   "cell_type": "code",
   "execution_count": 12,
   "id": "a6a8e47e-8736-4a02-a71a-4b6232ec8804",
   "metadata": {
    "tags": []
   },
   "outputs": [
    {
     "name": "stdout",
     "output_type": "stream",
     "text": [
      "First five:  [1, 2, 3, 4, 5]\n"
     ]
    }
   ],
   "source": [
    "first_five = itertools.islice(values, 5)\n",
    "print('First five: ', list(first_five))"
   ]
  },
  {
   "cell_type": "code",
   "execution_count": 14,
   "id": "a3044b34-5602-4a1f-9980-04000d8c55e4",
   "metadata": {
    "tags": []
   },
   "outputs": [
    {
     "name": "stdout",
     "output_type": "stream",
     "text": [
      "Middle odds:  [3, 5, 7]\n"
     ]
    }
   ],
   "source": [
    "middle_odds = itertools.islice(values, 2, 8, 2)\n",
    "print('Middle odds: ', list(middle_odds))"
   ]
  },
  {
   "cell_type": "markdown",
   "id": "2489669c-d85d-4441-a3a9-12b3ac8a1760",
   "metadata": {},
   "source": [
    "# takewhile"
   ]
  },
  {
   "cell_type": "code",
   "execution_count": 16,
   "id": "cce53b18-024a-49de-a1ac-08300b7c86b5",
   "metadata": {
    "tags": []
   },
   "outputs": [
    {
     "name": "stdout",
     "output_type": "stream",
     "text": [
      "[1, 2, 3, 4, 5, 6]\n"
     ]
    }
   ],
   "source": [
    "less_than_seven = lambda x: x < 7\n",
    "it = itertools.takewhile(less_than_seven, values)\n",
    "print(list(it))"
   ]
  },
  {
   "cell_type": "markdown",
   "id": "7bd95f07-2319-4d90-b313-4821c3052407",
   "metadata": {},
   "source": [
    "# dropwhile"
   ]
  },
  {
   "cell_type": "code",
   "execution_count": 17,
   "id": "d1915d73-b44d-44a2-a2e0-1419729ffa7f",
   "metadata": {
    "tags": []
   },
   "outputs": [
    {
     "name": "stdout",
     "output_type": "stream",
     "text": [
      "[7, 8, 9, 10]\n"
     ]
    }
   ],
   "source": [
    "less_than_seven = lambda x: x < 7\n",
    "it = itertools.dropwhile(less_than_seven, values)\n",
    "print(list(it))"
   ]
  },
  {
   "cell_type": "markdown",
   "id": "05ec353a-8d2c-418c-8362-459c0c4dd1d9",
   "metadata": {},
   "source": [
    "# filterfalse"
   ]
  },
  {
   "cell_type": "code",
   "execution_count": 18,
   "id": "bcb51d0a-6493-4e22-89a0-5b1f66e945a6",
   "metadata": {
    "tags": []
   },
   "outputs": [
    {
     "name": "stdout",
     "output_type": "stream",
     "text": [
      "Filter:  [2, 4, 6, 8, 10]\n"
     ]
    }
   ],
   "source": [
    "evens = lambda x: x%2==0\n",
    "\n",
    "filter_result = filter(evens, values)\n",
    "print('Filter: ', list(filter_result))"
   ]
  },
  {
   "cell_type": "code",
   "execution_count": 19,
   "id": "82ed2468-e22b-404a-af13-0ecbd97d0b0f",
   "metadata": {
    "tags": []
   },
   "outputs": [
    {
     "name": "stdout",
     "output_type": "stream",
     "text": [
      "Filter false:  [1, 3, 5, 7, 9]\n"
     ]
    }
   ],
   "source": [
    "filter_false_result = itertools.filterfalse(evens, values)\n",
    "print('Filter false: ', list(filter_false_result))"
   ]
  },
  {
   "cell_type": "code",
   "execution_count": null,
   "id": "1d3f5756-85be-4c4d-92b0-44f250793800",
   "metadata": {},
   "outputs": [],
   "source": []
  },
  {
   "cell_type": "markdown",
   "id": "a866d9c6-fcb2-4eea-bc66-b9f2589ee57c",
   "metadata": {},
   "source": [
    "# Producing Combinations of Items from Iterators"
   ]
  },
  {
   "cell_type": "markdown",
   "id": "0977f387-ffa0-4d1a-a6bc-1299af9a678d",
   "metadata": {},
   "source": [
    "# Accumulate"
   ]
  },
  {
   "cell_type": "code",
   "execution_count": 28,
   "id": "af9f6fa9-03f2-41b2-a86c-efb48cf5283f",
   "metadata": {
    "tags": []
   },
   "outputs": [],
   "source": [
    "sum_reduce = itertools.accumulate(values)\n",
    "#print('Sum: ', list(sum_reduce))"
   ]
  },
  {
   "cell_type": "code",
   "execution_count": 29,
   "id": "378a8117-2bb6-4b8d-8a5c-f9b9297f9cea",
   "metadata": {
    "tags": []
   },
   "outputs": [],
   "source": [
    "def sum_modulo_20(first, second):\n",
    "    output = first + second\n",
    "    return output % 20"
   ]
  },
  {
   "cell_type": "code",
   "execution_count": 30,
   "id": "18e5c55d-04ed-4176-a19c-f61bb6503d48",
   "metadata": {
    "tags": []
   },
   "outputs": [],
   "source": [
    "modulo_reduce = itertools.accumulate(values, sum_modulo_20)\n",
    "#print('Modulo: ', list(modulo_reduce))"
   ]
  },
  {
   "cell_type": "code",
   "execution_count": 31,
   "id": "5630d101-f77d-4208-8ca7-7857e90abb2f",
   "metadata": {
    "tags": []
   },
   "outputs": [
    {
     "name": "stdout",
     "output_type": "stream",
     "text": [
      "Sum:  [1, 3, 6, 10, 15, 21, 28, 36, 45, 55]\n",
      "Modulo:  [1, 3, 6, 10, 15, 1, 8, 16, 5, 15]\n"
     ]
    }
   ],
   "source": [
    "print('Sum: ', list(sum_reduce))\n",
    "print('Modulo: ', list(modulo_reduce))"
   ]
  },
  {
   "cell_type": "markdown",
   "id": "d6d9759c-b98d-43ba-83f1-24184d137084",
   "metadata": {},
   "source": [
    "# Product"
   ]
  },
  {
   "cell_type": "code",
   "execution_count": 32,
   "id": "4f86278a-0d9f-43ad-937a-e88cbbaba989",
   "metadata": {
    "tags": []
   },
   "outputs": [
    {
     "name": "stdout",
     "output_type": "stream",
     "text": [
      "Single:  [(1, 1), (1, 2), (2, 1), (2, 2)]\n"
     ]
    }
   ],
   "source": [
    "single = itertools.product([1, 2], repeat=2)\n",
    "print('Single: ', list(single))"
   ]
  },
  {
   "cell_type": "code",
   "execution_count": 33,
   "id": "7d7e947a-2f43-43ab-8249-b2edc91613bf",
   "metadata": {
    "tags": []
   },
   "outputs": [
    {
     "name": "stdout",
     "output_type": "stream",
     "text": [
      "Multiple:  [(1, 'a'), (1, 'b'), (2, 'a'), (2, 'b')]\n"
     ]
    }
   ],
   "source": [
    "multiple = itertools.product([1, 2], ['a', 'b'])\n",
    "print('Multiple: ', list(multiple))"
   ]
  },
  {
   "cell_type": "markdown",
   "id": "a582245c-991e-4d50-8bc2-91030431f5b1",
   "metadata": {},
   "source": [
    "# permutations"
   ]
  },
  {
   "cell_type": "code",
   "execution_count": 34,
   "id": "5bf01c6f-b1dc-46c8-8c46-7f3a96b622a4",
   "metadata": {
    "tags": []
   },
   "outputs": [
    {
     "name": "stdout",
     "output_type": "stream",
     "text": [
      "[(1, 2), (1, 3), (1, 4), (2, 1), (2, 3), (2, 4), (3, 1), (3, 2), (3, 4), (4, 1), (4, 2), (4, 3)]\n"
     ]
    }
   ],
   "source": [
    "it = itertools.permutations([1, 2, 3, 4], 2)\n",
    "print(list(it))"
   ]
  },
  {
   "cell_type": "markdown",
   "id": "69f1c684-b696-4ecc-af1b-2c9e7f375017",
   "metadata": {},
   "source": [
    "# combinations"
   ]
  },
  {
   "cell_type": "code",
   "execution_count": 37,
   "id": "e6d4f89f-7002-4b8d-9c2c-7301a2a58be3",
   "metadata": {
    "tags": []
   },
   "outputs": [
    {
     "name": "stdout",
     "output_type": "stream",
     "text": [
      "[(1, 2), (1, 3), (1, 4), (1, 5), (1, 6), (1, 7), (1, 8), (1, 9), (1, 10), (2, 3), (2, 4), (2, 5), (2, 6), (2, 7), (2, 8), (2, 9), (2, 10), (3, 4), (3, 5), (3, 6), (3, 7), (3, 8), (3, 9), (3, 10), (4, 5), (4, 6), (4, 7), (4, 8), (4, 9), (4, 10), (5, 6), (5, 7), (5, 8), (5, 9), (5, 10), (6, 7), (6, 8), (6, 9), (6, 10), (7, 8), (7, 9), (7, 10), (8, 9), (8, 10), (9, 10)]\n"
     ]
    }
   ],
   "source": [
    "it = itertools.combinations([1, 2, 3, 4, 5, 6, 7, 8, 9, 10], 2)\n",
    "print(list(it))"
   ]
  },
  {
   "cell_type": "markdown",
   "id": "c7238ff3-dcf6-4be1-90cc-ab787d674d3c",
   "metadata": {},
   "source": [
    "# combinations_with_replacement"
   ]
  },
  {
   "cell_type": "code",
   "execution_count": 39,
   "id": "3ad7581b-86e4-458a-800e-14f1e9dfe111",
   "metadata": {
    "tags": []
   },
   "outputs": [
    {
     "name": "stdout",
     "output_type": "stream",
     "text": [
      "[(1, 1), (1, 2), (1, 3), (1, 4), (1, 5), (1, 6), (1, 7), (1, 8), (1, 9), (1, 10), (2, 2), (2, 3), (2, 4), (2, 5), (2, 6), (2, 7), (2, 8), (2, 9), (2, 10), (3, 3), (3, 4), (3, 5), (3, 6), (3, 7), (3, 8), (3, 9), (3, 10), (4, 4), (4, 5), (4, 6), (4, 7), (4, 8), (4, 9), (4, 10), (5, 5), (5, 6), (5, 7), (5, 8), (5, 9), (5, 10), (6, 6), (6, 7), (6, 8), (6, 9), (6, 10), (7, 7), (7, 8), (7, 9), (7, 10), (8, 8), (8, 9), (8, 10), (9, 9), (9, 10), (10, 10)]\n"
     ]
    }
   ],
   "source": [
    "it = itertools.combinations_with_replacement([1, 2, 3, 4, 5, 6, 7, 8, 9, 10], 2)\n",
    "print(list(it))"
   ]
  },
  {
   "cell_type": "code",
   "execution_count": null,
   "id": "e1dc3ff4-fbef-4c33-b431-371bf6ec5e26",
   "metadata": {},
   "outputs": [],
   "source": []
  }
 ],
 "metadata": {
  "kernelspec": {
   "display_name": "Python 3 (ipykernel)",
   "language": "python",
   "name": "python3"
  },
  "language_info": {
   "codemirror_mode": {
    "name": "ipython",
    "version": 3
   },
   "file_extension": ".py",
   "mimetype": "text/x-python",
   "name": "python",
   "nbconvert_exporter": "python",
   "pygments_lexer": "ipython3",
   "version": "3.9.14"
  }
 },
 "nbformat": 4,
 "nbformat_minor": 5
}

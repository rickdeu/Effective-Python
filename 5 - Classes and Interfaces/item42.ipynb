{
 "cells": [
  {
   "cell_type": "markdown",
   "id": "d095ed4f-092f-41d0-9cc1-edd8d4c8af4c",
   "metadata": {},
   "source": [
    "# Prefer Public Attribues Over Private Ones"
   ]
  },
  {
   "cell_type": "markdown",
   "id": "4742fe7d-5229-42b7-9be4-5352601f7ebd",
   "metadata": {},
   "source": [
    "#### In Python, there are only two types of visibility for a class's attributes: public and private"
   ]
  },
  {
   "cell_type": "code",
   "execution_count": 1,
   "id": "872e3a15-64b3-4ee8-ab81-2d7158540f86",
   "metadata": {
    "tags": []
   },
   "outputs": [],
   "source": [
    "class MyObject:\n",
    "    def __init__(self):\n",
    "        self.public_field = 5\n",
    "        self.__private_field = 10\n",
    "    \n",
    "    def get_private_field(self):\n",
    "        return self.__private_field"
   ]
  },
  {
   "cell_type": "code",
   "execution_count": 2,
   "id": "32c9c5b2-590e-4747-93f7-e0dbf20af0ea",
   "metadata": {
    "tags": []
   },
   "outputs": [],
   "source": [
    "foo = MyObject()\n",
    "assert foo.public_field == 5"
   ]
  },
  {
   "cell_type": "code",
   "execution_count": 3,
   "id": "385f6c45-50e8-450f-9584-83cdf83e696f",
   "metadata": {
    "tags": []
   },
   "outputs": [],
   "source": [
    "assert foo.get_private_field() == 10"
   ]
  },
  {
   "cell_type": "code",
   "execution_count": 5,
   "id": "9f6372e7-1e64-48c4-9e18-9f067e75bb14",
   "metadata": {
    "tags": []
   },
   "outputs": [],
   "source": [
    "class MyOtherObject:\n",
    "    def __init__(self):\n",
    "        self.__private_field = 71\n",
    "        \n",
    "    @classmethod\n",
    "    def get_private_field_of_instance(cls, instance):\n",
    "        return instance.__private_field"
   ]
  },
  {
   "cell_type": "code",
   "execution_count": 6,
   "id": "4aec0e61-01ab-4dd7-8a1b-7ce9e6045bf6",
   "metadata": {
    "tags": []
   },
   "outputs": [],
   "source": [
    "bar = MyOtherObject()\n",
    "assert MyOtherObject.get_private_field_of_instance(bar) == 71"
   ]
  },
  {
   "cell_type": "code",
   "execution_count": 7,
   "id": "e3d84c17-292a-4a85-b0d4-92c0e12cda7a",
   "metadata": {
    "tags": []
   },
   "outputs": [],
   "source": [
    "class MyParentObject:\n",
    "    def __init__(self):\n",
    "        self.__private_field = 71"
   ]
  },
  {
   "cell_type": "code",
   "execution_count": 8,
   "id": "7aa1d8d9-2d81-4cda-9f08-5c1502cd5fdb",
   "metadata": {
    "tags": []
   },
   "outputs": [],
   "source": [
    "class MyChildObject(MyParentObject):\n",
    "    def get_private_field(self):\n",
    "        return self.__private_field"
   ]
  },
  {
   "cell_type": "code",
   "execution_count": 12,
   "id": "9562be6a-0faf-461a-aff0-038fb51fc0e2",
   "metadata": {
    "tags": []
   },
   "outputs": [],
   "source": [
    "baz = MyChildObject()\n",
    "assert baz._MyParentObject__private_field == 71"
   ]
  },
  {
   "cell_type": "code",
   "execution_count": 13,
   "id": "882933b1-e813-496c-883f-92fe704b5785",
   "metadata": {
    "tags": []
   },
   "outputs": [
    {
     "name": "stdout",
     "output_type": "stream",
     "text": [
      "{'_MyParentObject__private_field': 71}\n"
     ]
    }
   ],
   "source": [
    "print(baz.__dict__)"
   ]
  },
  {
   "cell_type": "code",
   "execution_count": 14,
   "id": "34b2570d-3215-4e1f-aa64-a5a4e3a279b4",
   "metadata": {
    "tags": []
   },
   "outputs": [],
   "source": [
    "class MyStringClass:\n",
    "    def __init__(self, value):\n",
    "        self.__value = value\n",
    "        \n",
    "    \n",
    "    def get_value(self):\n",
    "        return str(self.__value)"
   ]
  },
  {
   "cell_type": "code",
   "execution_count": 15,
   "id": "c8e722b2-32b5-4e20-a61a-600596f65833",
   "metadata": {
    "tags": []
   },
   "outputs": [],
   "source": [
    "foo = MyStringClass(5)\n",
    "assert foo.get_value() == '5'"
   ]
  },
  {
   "cell_type": "code",
   "execution_count": 16,
   "id": "625bebd0-9e20-48bb-a480-9838ecb12808",
   "metadata": {
    "tags": []
   },
   "outputs": [],
   "source": [
    "class MyIntengerSubClass(MyStringClass):\n",
    "    def get_value(self):\n",
    "        return int(self._MyStringClass__value)"
   ]
  },
  {
   "cell_type": "code",
   "execution_count": 17,
   "id": "21a4a484-1983-4d43-b87f-b445e9e589bb",
   "metadata": {
    "tags": []
   },
   "outputs": [],
   "source": [
    "foo = MyIntengerSubClass('5')\n",
    "assert foo.get_value() == 5"
   ]
  },
  {
   "cell_type": "code",
   "execution_count": 18,
   "id": "29547cb8-68f6-463b-af99-b551553ceb72",
   "metadata": {
    "tags": []
   },
   "outputs": [],
   "source": [
    "class MyBaseClass:\n",
    "    def __init__(self, value):\n",
    "        self.__value = value\n",
    "        \n",
    "    def get_value(self):\n",
    "        return self.__value"
   ]
  },
  {
   "cell_type": "code",
   "execution_count": 19,
   "id": "2f33848e-d775-4e0c-a1f2-25e5963ab604",
   "metadata": {
    "tags": []
   },
   "outputs": [],
   "source": [
    "class MyStringClass(MyBaseClass):\n",
    "    def get_value(self):\n",
    "        return str(super().get_value()) # Updated"
   ]
  },
  {
   "cell_type": "code",
   "execution_count": 20,
   "id": "99c1b526-c9fa-4056-8bd4-585d2ded9390",
   "metadata": {
    "tags": []
   },
   "outputs": [],
   "source": [
    "class MyIntegerSubClass(MyStringClass):\n",
    "    def get_value(self):\n",
    "        return int(self._MyStringClass__value) # Not updated"
   ]
  },
  {
   "cell_type": "code",
   "execution_count": 24,
   "id": "d5e28ab9-0f8c-44c0-89ea-47d1ab616e20",
   "metadata": {
    "tags": []
   },
   "outputs": [
    {
     "data": {
      "text/plain": [
       "'5'"
      ]
     },
     "execution_count": 24,
     "metadata": {},
     "output_type": "execute_result"
    }
   ],
   "source": [
    "foo = MyStringClass(5)\n",
    "foo.get_value()"
   ]
  },
  {
   "cell_type": "code",
   "execution_count": 25,
   "id": "2d803ff9-1b06-46f7-a11e-28aac1114d84",
   "metadata": {
    "tags": []
   },
   "outputs": [
    {
     "ename": "AttributeError",
     "evalue": "'MyIntegerSubClass' object has no attribute '_MyStringClass__value'",
     "output_type": "error",
     "traceback": [
      "\u001b[0;31m---------------------------------------------------------------------------\u001b[0m",
      "\u001b[0;31mAttributeError\u001b[0m                            Traceback (most recent call last)",
      "Cell \u001b[0;32mIn[25], line 2\u001b[0m\n\u001b[1;32m      1\u001b[0m foo \u001b[38;5;241m=\u001b[39m MyIntegerSubClass(\u001b[38;5;241m5\u001b[39m)\n\u001b[0;32m----> 2\u001b[0m \u001b[43mfoo\u001b[49m\u001b[38;5;241;43m.\u001b[39;49m\u001b[43mget_value\u001b[49m\u001b[43m(\u001b[49m\u001b[43m)\u001b[49m\n",
      "Cell \u001b[0;32mIn[20], line 3\u001b[0m, in \u001b[0;36mMyIntegerSubClass.get_value\u001b[0;34m(self)\u001b[0m\n\u001b[1;32m      2\u001b[0m \u001b[38;5;28;01mdef\u001b[39;00m \u001b[38;5;21mget_value\u001b[39m(\u001b[38;5;28mself\u001b[39m):\n\u001b[0;32m----> 3\u001b[0m     \u001b[38;5;28;01mreturn\u001b[39;00m \u001b[38;5;28mint\u001b[39m(\u001b[38;5;28;43mself\u001b[39;49m\u001b[38;5;241;43m.\u001b[39;49m\u001b[43m_MyStringClass__value\u001b[49m)\n",
      "\u001b[0;31mAttributeError\u001b[0m: 'MyIntegerSubClass' object has no attribute '_MyStringClass__value'"
     ]
    }
   ],
   "source": [
    "foo = MyIntegerSubClass(5)\n",
    "foo.get_value()"
   ]
  },
  {
   "cell_type": "code",
   "execution_count": 26,
   "id": "be5b2250-9a67-43ac-b723-0290f6a6eb3f",
   "metadata": {
    "tags": []
   },
   "outputs": [],
   "source": [
    "class MyStringClass:\n",
    "    def __init__(self, value):\n",
    "        # This stores the user-supplied value for the object\n",
    "        # It should be coercible to a string. Once assigned in \n",
    "        # The object it should be treated as immutable\n",
    "        self._value = value"
   ]
  },
  {
   "cell_type": "code",
   "execution_count": 29,
   "id": "4369f696-8387-437c-9694-3a6593134af0",
   "metadata": {
    "tags": []
   },
   "outputs": [],
   "source": [
    "class ApiClass:\n",
    "    def __init__(self):\n",
    "        self.__value = 5\n",
    "    \n",
    "    def get(self):\n",
    "        return self.__value\n",
    "\n",
    "class Child(ApiClass):\n",
    "    def __init__(self):\n",
    "        super().__init__()\n",
    "        self._value = 'hello' # Ok"
   ]
  },
  {
   "cell_type": "code",
   "execution_count": 30,
   "id": "1b68bb32-29ff-458c-b746-3451efc158a4",
   "metadata": {
    "tags": []
   },
   "outputs": [
    {
     "name": "stdout",
     "output_type": "stream",
     "text": [
      "5 and hello should be different\n"
     ]
    }
   ],
   "source": [
    "a = Child()\n",
    "print(f'{a.get()} and {a._value} should be different')"
   ]
  },
  {
   "cell_type": "code",
   "execution_count": null,
   "id": "3df4afc0-1ae1-4b7e-944b-fa3e39cbdece",
   "metadata": {},
   "outputs": [],
   "source": []
  }
 ],
 "metadata": {
  "kernelspec": {
   "display_name": "Python 3 (ipykernel)",
   "language": "python",
   "name": "python3"
  },
  "language_info": {
   "codemirror_mode": {
    "name": "ipython",
    "version": 3
   },
   "file_extension": ".py",
   "mimetype": "text/x-python",
   "name": "python",
   "nbconvert_exporter": "python",
   "pygments_lexer": "ipython3",
   "version": "3.9.14"
  }
 },
 "nbformat": 4,
 "nbformat_minor": 5
}

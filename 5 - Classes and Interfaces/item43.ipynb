{
 "cells": [
  {
   "cell_type": "code",
   "execution_count": 9,
   "id": "18850127-83b6-4d7c-acdd-d69eb5083e10",
   "metadata": {
    "tags": []
   },
   "outputs": [],
   "source": [
    "class FrequencyList(list):\n",
    "    def __init__(self, members):\n",
    "        super().__init__(members)\n",
    "    \n",
    "    def frequency(self):\n",
    "        counts = {}\n",
    "        for item in self:\n",
    "            counts[item] = counts.get(item, 0) + 1\n",
    "        return counts"
   ]
  },
  {
   "cell_type": "code",
   "execution_count": 10,
   "id": "7c267a9a-a755-45b4-abcd-02cc56d3a5a2",
   "metadata": {
    "tags": []
   },
   "outputs": [
    {
     "name": "stdout",
     "output_type": "stream",
     "text": [
      "Length is 7\n"
     ]
    }
   ],
   "source": [
    "foo = FrequencyList(['a', 'b', 'a', 'c', 'b', 'a', 'd'])\n",
    "print('Length is', len(foo))"
   ]
  },
  {
   "cell_type": "code",
   "execution_count": 11,
   "id": "649ab207-2881-4e4f-a8b2-5f6dcfcb58ce",
   "metadata": {
    "tags": []
   },
   "outputs": [
    {
     "name": "stdout",
     "output_type": "stream",
     "text": [
      "Length is 7\n",
      "After pop:  ['a', 'b', 'a', 'c', 'b', 'a']\n",
      "Frequency:  {'a': 3, 'b': 2, 'c': 1}\n"
     ]
    }
   ],
   "source": [
    "print('Length is', len(foo))\n",
    "foo.pop()\n",
    "print('After pop: ', repr(foo))\n",
    "print('Frequency: ', foo.frequency())"
   ]
  },
  {
   "cell_type": "code",
   "execution_count": 12,
   "id": "6e7879de-6561-49b3-bc41-67a002c0309d",
   "metadata": {
    "tags": []
   },
   "outputs": [],
   "source": [
    "class BinaryNode:\n",
    "    def __init__(self, value, left=None, right=None):\n",
    "        self.value = value\n",
    "        self.left = left\n",
    "        self.right = right"
   ]
  },
  {
   "cell_type": "code",
   "execution_count": 13,
   "id": "a0f31e31-98b9-46ee-90df-23ef8f54f9f1",
   "metadata": {
    "tags": []
   },
   "outputs": [
    {
     "data": {
      "text/plain": [
       "1"
      ]
     },
     "execution_count": 13,
     "metadata": {},
     "output_type": "execute_result"
    }
   ],
   "source": [
    "bar = [1, 2, 3]\n",
    "bar[0]"
   ]
  },
  {
   "cell_type": "code",
   "execution_count": 14,
   "id": "7024328f-c3b4-4b39-a844-8b3a6b21180f",
   "metadata": {
    "tags": []
   },
   "outputs": [
    {
     "data": {
      "text/plain": [
       "1"
      ]
     },
     "execution_count": 14,
     "metadata": {},
     "output_type": "execute_result"
    }
   ],
   "source": [
    "bar.__getitem__(0)"
   ]
  },
  {
   "cell_type": "code",
   "execution_count": 21,
   "id": "abc61267-99a2-4a29-b312-9497af050277",
   "metadata": {
    "tags": []
   },
   "outputs": [],
   "source": [
    "class IndexableNode(BinaryNode):\n",
    "    def _traverse(self):\n",
    "        if self.left is not None:\n",
    "            yield from self.left._traverse()\n",
    "        yield self\n",
    "        if self.right is not None:\n",
    "            yield from self.right._traverse()\n",
    "    \n",
    "    def __getitem__(self, index):\n",
    "        for i, item in enumerate(self._traverse()):\n",
    "            if i == index:\n",
    "                return item.value\n",
    "        raise IndexError(f'Index {index} is out of range')"
   ]
  },
  {
   "cell_type": "code",
   "execution_count": 22,
   "id": "76d31386-1b98-4386-baf4-cccb6b4489e7",
   "metadata": {
    "tags": []
   },
   "outputs": [],
   "source": [
    "tree = IndexableNode(\n",
    "    10,\n",
    "    left=IndexableNode(\n",
    "        5,\n",
    "        left=IndexableNode(2),\n",
    "        right=IndexableNode(\n",
    "            6,\n",
    "            right=IndexableNode(7))),\n",
    "    right=IndexableNode(\n",
    "        15,\n",
    "        left=IndexableNode(11)))"
   ]
  },
  {
   "cell_type": "code",
   "execution_count": 23,
   "id": "c9b2e266-e46b-4f1a-8ff0-0a8a53f4a1de",
   "metadata": {
    "tags": []
   },
   "outputs": [
    {
     "name": "stdout",
     "output_type": "stream",
     "text": [
      "LRR is 7\n",
      "Index 0 is 2\n",
      "Index 1 is 5\n",
      "11 in the tree ? True\n",
      "17 in the tree ? False\n",
      "Tree is [2, 5, 6, 7, 10, 11, 15]\n"
     ]
    }
   ],
   "source": [
    "print('LRR is', tree.left.right.right.value)\n",
    "print('Index 0 is', tree[0])\n",
    "print('Index 1 is', tree[1])\n",
    "print('11 in the tree ?', 11 in tree)\n",
    "print('17 in the tree ?', 17 in tree)\n",
    "print('Tree is', list(tree))"
   ]
  },
  {
   "cell_type": "code",
   "execution_count": 24,
   "id": "db35bedf-49a1-4bbd-ab32-3b549ea63f7b",
   "metadata": {
    "tags": []
   },
   "outputs": [
    {
     "ename": "TypeError",
     "evalue": "object of type 'IndexableNode' has no len()",
     "output_type": "error",
     "traceback": [
      "\u001b[0;31m---------------------------------------------------------------------------\u001b[0m",
      "\u001b[0;31mTypeError\u001b[0m                                 Traceback (most recent call last)",
      "Cell \u001b[0;32mIn[24], line 1\u001b[0m\n\u001b[0;32m----> 1\u001b[0m \u001b[38;5;28;43mlen\u001b[39;49m\u001b[43m(\u001b[49m\u001b[43mtree\u001b[49m\u001b[43m)\u001b[49m\n",
      "\u001b[0;31mTypeError\u001b[0m: object of type 'IndexableNode' has no len()"
     ]
    }
   ],
   "source": [
    "len(tree)"
   ]
  },
  {
   "cell_type": "code",
   "execution_count": 25,
   "id": "d1645176-0776-4c43-8a41-161a08fdd65c",
   "metadata": {
    "tags": []
   },
   "outputs": [],
   "source": [
    "class SequenceNode(IndexableNode):\n",
    "    def __len__(self):\n",
    "        for count, _ in enumerate(self._traverse(), 1):\n",
    "            pass\n",
    "        return count"
   ]
  },
  {
   "cell_type": "code",
   "execution_count": 26,
   "id": "a0483e32-a0fd-48a0-a7d9-59a3b88b9bbb",
   "metadata": {
    "tags": []
   },
   "outputs": [],
   "source": [
    "tree = SequenceNode(\n",
    "    10,\n",
    "    left=SequenceNode(\n",
    "        5,\n",
    "        left=SequenceNode(2),\n",
    "        right=SequenceNode(\n",
    "            6,\n",
    "            right=SequenceNode(7))),\n",
    "    right=SequenceNode(\n",
    "        15,\n",
    "        left=SequenceNode(11)))"
   ]
  },
  {
   "cell_type": "code",
   "execution_count": 27,
   "id": "3a769c63-5d15-4cb9-8ba1-dbf7c109eee1",
   "metadata": {
    "tags": []
   },
   "outputs": [
    {
     "name": "stdout",
     "output_type": "stream",
     "text": [
      "Tree lenght is 7\n"
     ]
    }
   ],
   "source": [
    "print('Tree lenght is', len(tree))"
   ]
  },
  {
   "cell_type": "code",
   "execution_count": 28,
   "id": "0fcd8df9-1bb5-4cd9-a238-3fb56d6d24e3",
   "metadata": {
    "tags": []
   },
   "outputs": [],
   "source": [
    "from collections.abc import Sequence"
   ]
  },
  {
   "cell_type": "code",
   "execution_count": 30,
   "id": "5f1d9c27-ea86-4887-830f-1efd9984bfac",
   "metadata": {
    "tags": []
   },
   "outputs": [],
   "source": [
    "class BadType(Sequence):\n",
    "    pass"
   ]
  },
  {
   "cell_type": "code",
   "execution_count": 31,
   "id": "bf14b980-03c4-4b27-8c48-0a5ceedb1e5b",
   "metadata": {
    "tags": []
   },
   "outputs": [
    {
     "ename": "TypeError",
     "evalue": "Can't instantiate abstract class BadType with abstract methods __getitem__, __len__",
     "output_type": "error",
     "traceback": [
      "\u001b[0;31m---------------------------------------------------------------------------\u001b[0m",
      "\u001b[0;31mTypeError\u001b[0m                                 Traceback (most recent call last)",
      "Cell \u001b[0;32mIn[31], line 1\u001b[0m\n\u001b[0;32m----> 1\u001b[0m foo \u001b[38;5;241m=\u001b[39m \u001b[43mBadType\u001b[49m\u001b[43m(\u001b[49m\u001b[43m)\u001b[49m\n",
      "\u001b[0;31mTypeError\u001b[0m: Can't instantiate abstract class BadType with abstract methods __getitem__, __len__"
     ]
    }
   ],
   "source": [
    "foo = BadType()"
   ]
  },
  {
   "cell_type": "code",
   "execution_count": 32,
   "id": "1186c3ea-8844-4c8a-87c2-4adcd31a16c8",
   "metadata": {
    "tags": []
   },
   "outputs": [],
   "source": [
    "class BetterNode(SequenceNode, Sequence):\n",
    "    pass"
   ]
  },
  {
   "cell_type": "code",
   "execution_count": 33,
   "id": "14388809-e97b-4d7e-9abe-1b7da1c3a3a4",
   "metadata": {
    "tags": []
   },
   "outputs": [],
   "source": [
    "tree = BetterNode(\n",
    "    10,\n",
    "    left=BetterNode(\n",
    "        5, \n",
    "        left=BetterNode(2),\n",
    "        right=BetterNode(\n",
    "            6,\n",
    "            right=BetterNode(7))),\n",
    "    right=BetterNode(\n",
    "        15,\n",
    "        left=BetterNode(11))\n",
    ")"
   ]
  },
  {
   "cell_type": "code",
   "execution_count": 34,
   "id": "fd7f5bd5-22ad-4d1d-b1db-2ed058be7f61",
   "metadata": {
    "tags": []
   },
   "outputs": [
    {
     "name": "stdout",
     "output_type": "stream",
     "text": [
      "Index of 7 is 3\n",
      "Count of 10 is  1\n"
     ]
    }
   ],
   "source": [
    "print('Index of 7 is', tree.index(7))\n",
    "print('Count of 10 is ', tree.count(10))"
   ]
  },
  {
   "cell_type": "code",
   "execution_count": null,
   "id": "f86a2178-007c-4629-bb04-32a386077315",
   "metadata": {},
   "outputs": [],
   "source": []
  }
 ],
 "metadata": {
  "kernelspec": {
   "display_name": "Python 3 (ipykernel)",
   "language": "python",
   "name": "python3"
  },
  "language_info": {
   "codemirror_mode": {
    "name": "ipython",
    "version": 3
   },
   "file_extension": ".py",
   "mimetype": "text/x-python",
   "name": "python",
   "nbconvert_exporter": "python",
   "pygments_lexer": "ipython3",
   "version": "3.9.14"
  }
 },
 "nbformat": 4,
 "nbformat_minor": 5
}

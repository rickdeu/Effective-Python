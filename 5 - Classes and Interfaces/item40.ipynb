{
 "cells": [
  {
   "cell_type": "markdown",
   "id": "18129675-de41-4bec-98a5-d61d9b681f74",
   "metadata": {},
   "source": [
    "# Initialize Parent Classes with super"
   ]
  },
  {
   "cell_type": "code",
   "execution_count": 1,
   "id": "3d2c125c-5100-463f-8c59-1170d35fd3c4",
   "metadata": {
    "tags": []
   },
   "outputs": [],
   "source": [
    "class MyBaseClass:\n",
    "    def __init__(self, value):\n",
    "        self.value = value"
   ]
  },
  {
   "cell_type": "code",
   "execution_count": 2,
   "id": "192a889b-06b0-43e4-b724-c260b458ddf6",
   "metadata": {
    "tags": []
   },
   "outputs": [],
   "source": [
    "class MyChildClass(MyBaseClass):\n",
    "    def __init__(self):\n",
    "        MyBaseClass.__init__(self, 5)"
   ]
  },
  {
   "cell_type": "code",
   "execution_count": 3,
   "id": "8dda660b-c8c8-45a4-bac4-8d4f6e1c8aeb",
   "metadata": {
    "tags": []
   },
   "outputs": [],
   "source": [
    "class TimesTwo:\n",
    "    def __init__(self):\n",
    "        self.value *= 2"
   ]
  },
  {
   "cell_type": "code",
   "execution_count": 5,
   "id": "d81354fa-9211-4923-beb3-ab69b54b249f",
   "metadata": {
    "tags": []
   },
   "outputs": [],
   "source": [
    "class PlusFive:\n",
    "    def __init__(self):\n",
    "        self.value += 5"
   ]
  },
  {
   "cell_type": "markdown",
   "id": "afc51b74-6963-45a4-ad2a-7940f83db16a",
   "metadata": {},
   "source": [
    "### THis class defines its parent classes in one ordering"
   ]
  },
  {
   "cell_type": "code",
   "execution_count": 6,
   "id": "439eaf0c-aeaa-49b3-9757-9eefdda1473f",
   "metadata": {
    "tags": []
   },
   "outputs": [],
   "source": [
    "class OneWay(MyBaseClass, TimesTwo, PlusFive):\n",
    "    def __init__(self, value):\n",
    "        MyBaseClass.__init__(self, value)\n",
    "        TimesTwo.__init__(self)\n",
    "        PlusFive.__init__(self)"
   ]
  },
  {
   "cell_type": "code",
   "execution_count": 7,
   "id": "f21ea884-7e3d-4c87-9d51-16edc139bcf0",
   "metadata": {
    "tags": []
   },
   "outputs": [],
   "source": [
    "foo = OneWay(5)"
   ]
  },
  {
   "cell_type": "code",
   "execution_count": 8,
   "id": "1edb420c-16c6-40d1-bcb8-bbaab5d45ae9",
   "metadata": {
    "tags": []
   },
   "outputs": [
    {
     "name": "stdout",
     "output_type": "stream",
     "text": [
      "First ordering value is (5 * 2) + 5 =  15\n"
     ]
    }
   ],
   "source": [
    "print('First ordering value is (5 * 2) + 5 = ', foo.value)"
   ]
  },
  {
   "cell_type": "code",
   "execution_count": 9,
   "id": "59be1ab5-69ec-449a-b1d2-dedadaaa04ce",
   "metadata": {
    "tags": []
   },
   "outputs": [],
   "source": [
    "class AnotherWay(MyBaseClass, PlusFive, TimesTwo):\n",
    "    def __init__(self, value):\n",
    "        MyBaseClass.__init__(self, value)\n",
    "        TimesTwo.__init__(self)\n",
    "        PlusFive.__init__(self)"
   ]
  },
  {
   "cell_type": "code",
   "execution_count": 10,
   "id": "6e441847-22a6-481b-990e-0988f82ab68d",
   "metadata": {
    "tags": []
   },
   "outputs": [
    {
     "name": "stdout",
     "output_type": "stream",
     "text": [
      "Second ordering value is 15\n"
     ]
    }
   ],
   "source": [
    "bar = AnotherWay(5)\n",
    "print('Second ordering value is', bar.value)"
   ]
  },
  {
   "cell_type": "code",
   "execution_count": 11,
   "id": "7995ee81-2927-4323-b7c5-5949a4c6d92a",
   "metadata": {
    "tags": []
   },
   "outputs": [],
   "source": [
    "class TimesSeven(MyBaseClass):\n",
    "    def __init__(self, value):\n",
    "        MyBaseClass.__init__(self, value)\n",
    "        self.value *= 7"
   ]
  },
  {
   "cell_type": "code",
   "execution_count": 12,
   "id": "dffb8bf2-f3d9-4483-96ea-47f2bbd61aae",
   "metadata": {
    "tags": []
   },
   "outputs": [],
   "source": [
    "class PlusNine(MyBaseClass):\n",
    "    def __init__(self, value):\n",
    "        MyBaseClass.__init__(self, value)\n",
    "        self.value += 9"
   ]
  },
  {
   "cell_type": "code",
   "execution_count": 13,
   "id": "a33647f4-3461-4c47-b698-83e7172ee796",
   "metadata": {
    "tags": []
   },
   "outputs": [],
   "source": [
    "class ThisWay(TimesSeven, PlusNine):\n",
    "    def __init__(self, value):\n",
    "        TimesSeven.__init__(self, value)\n",
    "        PlusNine.__init__(self, value)"
   ]
  },
  {
   "cell_type": "code",
   "execution_count": 14,
   "id": "98fcaa8f-ce40-407e-abd9-ddbec69e6be0",
   "metadata": {
    "tags": []
   },
   "outputs": [],
   "source": [
    "foo = ThisWay(5)"
   ]
  },
  {
   "cell_type": "code",
   "execution_count": 15,
   "id": "dfd959b1-f4fe-40ca-b3b8-aa80ee092d42",
   "metadata": {
    "tags": []
   },
   "outputs": [
    {
     "name": "stdout",
     "output_type": "stream",
     "text": [
      "Should be (5 * 7) + 9 = 44 but is 14\n"
     ]
    }
   ],
   "source": [
    "print('Should be (5 * 7) + 9 = 44 but is', foo.value)"
   ]
  },
  {
   "cell_type": "markdown",
   "id": "c93df0c3-4cb2-4ad2-a3c8-0b83333262f6",
   "metadata": {},
   "source": [
    "#### Solve this problem using a super built-in function and standard method resolution"
   ]
  },
  {
   "cell_type": "code",
   "execution_count": 21,
   "id": "0e835ac7-4fc4-47b4-81ba-6b48ddd277a1",
   "metadata": {
    "tags": []
   },
   "outputs": [],
   "source": [
    "class TimesSevenCorrect(MyBaseClass):\n",
    "    def __init__(self, value):\n",
    "        super().__init__(value)\n",
    "        self.value *= 7"
   ]
  },
  {
   "cell_type": "code",
   "execution_count": 22,
   "id": "eba7760c-fb4c-4d08-b317-4fc689195342",
   "metadata": {
    "tags": []
   },
   "outputs": [],
   "source": [
    "class PlusNineCorrect(MyBaseClass):\n",
    "    def __init__(self, value):\n",
    "        super().__init__(value)\n",
    "        self.value += 9"
   ]
  },
  {
   "cell_type": "code",
   "execution_count": 23,
   "id": "baf2d51d-5612-494c-b827-e05ec3058fff",
   "metadata": {
    "tags": []
   },
   "outputs": [],
   "source": [
    "class GoodWay(TimesSevenCorrect, PlusNineCorrect):\n",
    "    def __init__(self, value):\n",
    "        super().__init__(value)"
   ]
  },
  {
   "cell_type": "code",
   "execution_count": 24,
   "id": "f1590c86-aadd-4ef4-92d0-28f4bfb30a00",
   "metadata": {
    "tags": []
   },
   "outputs": [
    {
     "name": "stdout",
     "output_type": "stream",
     "text": [
      "Should be 7 * (5 + 9) = 98 and is 98\n"
     ]
    }
   ],
   "source": [
    "foo = GoodWay(5)\n",
    "print('Should be 7 * (5 + 9) = 98 and is', foo.value)"
   ]
  },
  {
   "cell_type": "markdown",
   "id": "58d29930-17a9-4e6b-89e3-3ae2c40297d2",
   "metadata": {},
   "source": [
    "### method resolution order (MRO)"
   ]
  },
  {
   "cell_type": "code",
   "execution_count": 25,
   "id": "7984a21f-5488-46a5-b91f-faa30e6c9e53",
   "metadata": {
    "tags": []
   },
   "outputs": [
    {
     "name": "stdout",
     "output_type": "stream",
     "text": [
      "<class '__main__.GoodWay'>\n",
      "<class '__main__.TimesSevenCorrect'>\n",
      "<class '__main__.PlusNineCorrect'>\n",
      "<class '__main__.MyBaseClass'>\n",
      "<class 'object'>\n"
     ]
    }
   ],
   "source": [
    "mro_str = '\\n'.join(repr(cls) for cls in GoodWay.mro())\n",
    "print(mro_str)"
   ]
  },
  {
   "cell_type": "code",
   "execution_count": 29,
   "id": "d2f1fdc4-7fc2-419c-9877-17f03638bebd",
   "metadata": {
    "tags": []
   },
   "outputs": [],
   "source": [
    "class ExplicitTrisect(MyBaseClass):\n",
    "    def __init__(self, value):\n",
    "        super(ExplicitTrisect, self).__init__(value)\n",
    "        self.value /= 3"
   ]
  },
  {
   "cell_type": "code",
   "execution_count": 30,
   "id": "99d096bc-3723-450d-88a5-c1d93b1540a3",
   "metadata": {
    "tags": []
   },
   "outputs": [],
   "source": [
    "class AutmoticTrisect(MyBaseClass):\n",
    "    def __init__(self, value):\n",
    "        super(__class__, self).__init__(value)\n",
    "        self.value /= 3"
   ]
  },
  {
   "cell_type": "code",
   "execution_count": 31,
   "id": "2c1f9104-5720-4156-b6d9-40e106ab9635",
   "metadata": {
    "tags": []
   },
   "outputs": [],
   "source": [
    "class ImplicitTrisect(MyBaseClass):\n",
    "    def __init__(self, value):\n",
    "        super().__init__(value)\n",
    "        self.value /= 3"
   ]
  },
  {
   "cell_type": "code",
   "execution_count": 32,
   "id": "48a40308-5c96-4348-b28f-20ef8cff5112",
   "metadata": {
    "tags": []
   },
   "outputs": [],
   "source": [
    "assert ExplicitTrisect(9).value ==3\n",
    "assert AutmoticTrisect(9).value ==3\n",
    "assert ImplicitTrisect(9).value ==3"
   ]
  },
  {
   "cell_type": "code",
   "execution_count": null,
   "id": "08d6756f-ebbe-4cd9-94ef-2b3f5a8b0aa7",
   "metadata": {},
   "outputs": [],
   "source": []
  }
 ],
 "metadata": {
  "kernelspec": {
   "display_name": "Python 3 (ipykernel)",
   "language": "python",
   "name": "python3"
  },
  "language_info": {
   "codemirror_mode": {
    "name": "ipython",
    "version": 3
   },
   "file_extension": ".py",
   "mimetype": "text/x-python",
   "name": "python",
   "nbconvert_exporter": "python",
   "pygments_lexer": "ipython3",
   "version": "3.9.14"
  }
 },
 "nbformat": 4,
 "nbformat_minor": 5
}

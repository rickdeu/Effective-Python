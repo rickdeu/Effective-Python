{
 "cells": [
  {
   "cell_type": "markdown",
   "id": "655caea4-8ba4-4d9e-858e-c186d1068d41",
   "metadata": {},
   "source": [
    "# Accept Functions Instead of Classes for Simple Interfaces"
   ]
  },
  {
   "cell_type": "code",
   "execution_count": 1,
   "id": "798aa220-fcd5-4480-9751-64ff6179687d",
   "metadata": {
    "tags": []
   },
   "outputs": [
    {
     "name": "stdout",
     "output_type": "stream",
     "text": [
      "['Plato', 'Socrates', 'Aristotle', 'Archimedes']\n"
     ]
    }
   ],
   "source": [
    "names = ['Socrates', 'Archimedes', 'Plato', 'Aristotle']\n",
    "names.sort(key=len)\n",
    "print(names)"
   ]
  },
  {
   "cell_type": "code",
   "execution_count": 2,
   "id": "878daba1-c5b3-493e-bebc-144e3d4c993d",
   "metadata": {
    "tags": []
   },
   "outputs": [],
   "source": [
    "def log_missing():\n",
    "    print('Key added')\n",
    "    return 0"
   ]
  },
  {
   "cell_type": "code",
   "execution_count": 3,
   "id": "06abd133-dffa-4d33-b057-1f871b2bd8ca",
   "metadata": {
    "tags": []
   },
   "outputs": [],
   "source": [
    "from collections import defaultdict"
   ]
  },
  {
   "cell_type": "code",
   "execution_count": 4,
   "id": "efff25a8-bfeb-44f9-b59e-cb9af51a91f1",
   "metadata": {
    "tags": []
   },
   "outputs": [
    {
     "name": "stdout",
     "output_type": "stream",
     "text": [
      "Before:  {'green': 12, 'blue': 3}\n",
      "Key added\n",
      "Key added\n",
      "After:  {'green': 12, 'blue': 20, 'red': 5, 'orange': 9}\n"
     ]
    }
   ],
   "source": [
    "current = {'green': 12, 'blue': 3}\n",
    "increments = [\n",
    "    ('red', 5),\n",
    "    ('blue', 17),\n",
    "    ('orange', 9),\n",
    "]\n",
    "\n",
    "result = defaultdict(log_missing, current)\n",
    "print('Before: ', dict(result))\n",
    "\n",
    "for key, amount in increments:\n",
    "    result[key] += amount\n",
    "print('After: ', dict(result))"
   ]
  },
  {
   "cell_type": "code",
   "execution_count": 5,
   "id": "962398dc-d156-487e-ba96-6ca9241b29ad",
   "metadata": {
    "tags": []
   },
   "outputs": [],
   "source": [
    "def increment_with_report(current, increments):\n",
    "    added_count = 0\n",
    "    \n",
    "    def missing():\n",
    "        nonlocal added_count # Stateful closure\n",
    "        added_count += 1\n",
    "        return 0\n",
    "    result = defaultdict(missing, current)\n",
    "    for key, amount in increments:\n",
    "        result[key] += amount\n",
    "    return result, added_count"
   ]
  },
  {
   "cell_type": "code",
   "execution_count": 7,
   "id": "c6a9e239-3a14-486b-b1f9-903a8025e496",
   "metadata": {
    "tags": []
   },
   "outputs": [],
   "source": [
    "result, count = increment_with_report(current, increments)\n",
    "assert count == 2"
   ]
  },
  {
   "cell_type": "code",
   "execution_count": 8,
   "id": "fd3a69ff-9c00-43eb-b223-9e75069246bd",
   "metadata": {
    "tags": []
   },
   "outputs": [],
   "source": [
    "class CountMissing:\n",
    "    def __init__(self):\n",
    "        self.added = 0\n",
    "    \n",
    "    def missing(self):\n",
    "        self.added += 1\n",
    "        return 0"
   ]
  },
  {
   "cell_type": "code",
   "execution_count": 9,
   "id": "315e60cf-b7f5-464a-883a-d68cee330641",
   "metadata": {
    "tags": []
   },
   "outputs": [],
   "source": [
    "counter = CountMissing()\n",
    "result = defaultdict(counter.missing, current) # Method ref\n",
    "for key, amount in increments:\n",
    "    result[key] += amount\n",
    "\n",
    "assert counter.added == 2"
   ]
  },
  {
   "cell_type": "code",
   "execution_count": 14,
   "id": "19a001f6-95b1-4602-81a8-ca6b9265b844",
   "metadata": {
    "tags": []
   },
   "outputs": [],
   "source": [
    "class BetterCountMissing:\n",
    "    def __init__(self):\n",
    "        self.added = 0\n",
    "    \n",
    "    def __call__(self):\n",
    "        self.added += 1\n",
    "        return 0"
   ]
  },
  {
   "cell_type": "code",
   "execution_count": 15,
   "id": "354c5589-181e-43b0-8cab-4356fce4ecf3",
   "metadata": {
    "tags": []
   },
   "outputs": [],
   "source": [
    "counter = BetterCountMissing()\n",
    "assert counter() == 0\n",
    "assert callable(counter)"
   ]
  },
  {
   "cell_type": "code",
   "execution_count": 16,
   "id": "81a0ddbf-a94f-42db-a91b-677953b792d5",
   "metadata": {
    "tags": []
   },
   "outputs": [],
   "source": [
    "counter = BetterCountMissing()\n",
    "result = defaultdict(counter, current) # Relies on __call__\n",
    "for key, amount in increments:\n",
    "    result[key] += amount\n",
    "\n",
    "assert counter.added == 2"
   ]
  },
  {
   "cell_type": "code",
   "execution_count": null,
   "id": "11f0b8d5-fe24-4259-ac01-2423a738f16f",
   "metadata": {},
   "outputs": [],
   "source": []
  }
 ],
 "metadata": {
  "kernelspec": {
   "display_name": "Python 3 (ipykernel)",
   "language": "python",
   "name": "python3"
  },
  "language_info": {
   "codemirror_mode": {
    "name": "ipython",
    "version": 3
   },
   "file_extension": ".py",
   "mimetype": "text/x-python",
   "name": "python",
   "nbconvert_exporter": "python",
   "pygments_lexer": "ipython3",
   "version": "3.9.14"
  }
 },
 "nbformat": 4,
 "nbformat_minor": 5
}

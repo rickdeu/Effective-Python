{
 "cells": [
  {
   "cell_type": "markdown",
   "id": "a28b6731-d4d9-4c15-9676-8c198fd7e73e",
   "metadata": {},
   "source": [
    "# Compose Classes Instead of Nesting Many Levels of Built-in Types"
   ]
  },
  {
   "cell_type": "code",
   "execution_count": 2,
   "id": "b988c5d8-0a64-4e47-8c36-8305fd13c77e",
   "metadata": {
    "tags": []
   },
   "outputs": [],
   "source": [
    "class SimpleGradeBook:\n",
    "    def __init__(self):\n",
    "        self._grades = {}\n",
    "    def add_students(self, name):\n",
    "        self._grades[name] = []\n",
    "    def report_grades(self, name, score):\n",
    "        self._grades[name].append(score)\n",
    "    def average_grade(self, name):\n",
    "        grades = self._grades[name]\n",
    "        return sum(grades) / len(grades)"
   ]
  },
  {
   "cell_type": "markdown",
   "id": "43a73157-0e2b-44f4-88b6-75399e2ed6c1",
   "metadata": {},
   "source": [
    "### Using the class is simple"
   ]
  },
  {
   "cell_type": "code",
   "execution_count": 4,
   "id": "45ac87c2-0a40-4846-a09b-b649ade400b1",
   "metadata": {
    "tags": []
   },
   "outputs": [
    {
     "name": "stdout",
     "output_type": "stream",
     "text": [
      "90.0\n"
     ]
    }
   ],
   "source": [
    "book = SimpleGradeBook()\n",
    "book.add_students('Isaac Newton')\n",
    "book.report_grades('Isaac Newton', 90)\n",
    "book.report_grades('Isaac Newton', 95)\n",
    "book.report_grades('Isaac Newton', 85)\n",
    "print(book.average_grade('Isaac Newton'))"
   ]
  },
  {
   "cell_type": "code",
   "execution_count": 5,
   "id": "0a8af0c0-c30e-42c2-9a87-ea93c5c4bd1a",
   "metadata": {
    "tags": []
   },
   "outputs": [],
   "source": [
    "from collections import defaultdict"
   ]
  },
  {
   "cell_type": "code",
   "execution_count": 6,
   "id": "7ab7e1a7-8d9b-4b23-bf66-dfbe4f005c29",
   "metadata": {
    "tags": []
   },
   "outputs": [],
   "source": [
    "class BySubjectGradeBook:\n",
    "    \n",
    "    def __init__(self):\n",
    "        self._grades = {} # Outer dict\n",
    "        \n",
    "    def add_students(self, name):\n",
    "        self._grades[name] = defaultdict(list) # Inner dict\n",
    "        \n",
    "    def report_grade(self, name, subject, grade):\n",
    "        by_subject = self._grades[name]\n",
    "        grade_list = by_subject[subject]\n",
    "        grade_list.append(grade)\n",
    "    \n",
    "    def average_grade(self, name):\n",
    "        by_subject = self._grades[name]\n",
    "        total, count = 0, 0\n",
    "        for grades in by_subject.values():\n",
    "            total += sum(grades)\n",
    "            count += len(grades)\n",
    "        return total / count"
   ]
  },
  {
   "cell_type": "code",
   "execution_count": 8,
   "id": "ced70597-ad72-4315-a533-b6fe5a1f5aeb",
   "metadata": {
    "tags": []
   },
   "outputs": [
    {
     "name": "stdout",
     "output_type": "stream",
     "text": [
      "81.25\n"
     ]
    }
   ],
   "source": [
    "book = BySubjectGradeBook()\n",
    "book.add_students('Albert Einstein')\n",
    "book.report_grade('Albert Einstein', 'Math', 75)\n",
    "book.report_grade('Albert Einstein', 'Math', 65)\n",
    "book.report_grade('Albert Einstein', 'Gym', 90)\n",
    "book.report_grade('Albert Einstein', 'Gym', 95)\n",
    "\n",
    "\n",
    "print(book.average_grade('Albert Einstein'))"
   ]
  },
  {
   "cell_type": "code",
   "execution_count": 14,
   "id": "672c2986-2f6e-40a1-8ab7-f03b66e252b7",
   "metadata": {
    "tags": []
   },
   "outputs": [],
   "source": [
    "class WeightedGradeBook:\n",
    "    def __init__(self):\n",
    "        self._grades = {}\n",
    "    \n",
    "    def add_students(self, name):\n",
    "        self._grades[name] = defaultdict(list)\n",
    "    \n",
    "    def report_grade(self, name, subject, score, weight):\n",
    "        by_subject = self._grades[name]\n",
    "        grade_list = by_subject[subject]\n",
    "        grade_list.append((score, weight))\n",
    "    \n",
    "    def average_grade(self, name):\n",
    "        by_subject = self._grades[name]\n",
    "        \n",
    "        score_sum, score_count = 0, 0\n",
    "        for subject, scores in by_subject.items():\n",
    "            subject_avg, total_weight = 0, 0\n",
    "            for score, weight in scores:\n",
    "                subject_avg += score * weight\n",
    "                total_weight += weight\n",
    "            score_sum += subject_avg / total_weight\n",
    "            score_count += 1\n",
    "        return score_sum / score_count"
   ]
  },
  {
   "cell_type": "code",
   "execution_count": 16,
   "id": "04e9197b-1ac1-4775-a63c-550c12e52422",
   "metadata": {
    "tags": []
   },
   "outputs": [
    {
     "name": "stdout",
     "output_type": "stream",
     "text": [
      "80.25\n"
     ]
    }
   ],
   "source": [
    "book = WeightedGradeBook()\n",
    "book.add_students('Albert Einstein')\n",
    "\n",
    "book.report_grade('Albert Einstein', 'Math', 75, 0.05)\n",
    "book.report_grade('Albert Einstein', 'Math', 65, 0.15)\n",
    "book.report_grade('Albert Einstein', 'Math', 70, 0.80)\n",
    "book.report_grade('Albert Einstein', 'Gym', 100, 0.40)\n",
    "book.report_grade('Albert Einstein', 'Gym', 85, 0.60)\n",
    "\n",
    "print(book.average_grade('Albert Einstein'))"
   ]
  },
  {
   "cell_type": "markdown",
   "id": "84737c9a-8eb0-41d4-b7d7-0bb4111639d3",
   "metadata": {},
   "source": [
    "# Refatoring to Classes"
   ]
  },
  {
   "cell_type": "code",
   "execution_count": 17,
   "id": "3f15d01a-9648-4683-b8a7-4c071214312b",
   "metadata": {
    "tags": []
   },
   "outputs": [
    {
     "name": "stdout",
     "output_type": "stream",
     "text": [
      "89.5\n"
     ]
    }
   ],
   "source": [
    "grades = []\n",
    "grades.append((95, 0.45))\n",
    "grades.append((85, 0.55))\n",
    "total = sum(score * weight for score, weight in grades)\n",
    "total_weight = sum(weight for _, weight in grades)\n",
    "average_grade = total / total_weight\n",
    "print(average_grade)"
   ]
  },
  {
   "cell_type": "code",
   "execution_count": 18,
   "id": "c57877fe-387b-40cb-8682-338cab9c4700",
   "metadata": {
    "tags": []
   },
   "outputs": [],
   "source": [
    "grades = []\n",
    "grades.append((95, 0.45, 'Great job'))\n",
    "grades.append((85, 0.55, 'Better next time'))\n",
    "total = sum(score * weight for score, weight, _ in grades)\n",
    "total_weight = sum(weight for _, weight, _ in grades)\n",
    "average_grade = total / total_weight"
   ]
  },
  {
   "cell_type": "code",
   "execution_count": 19,
   "id": "ddf96af7-eed0-4dd4-ae6d-eedbb3dab5d8",
   "metadata": {
    "tags": []
   },
   "outputs": [
    {
     "name": "stdout",
     "output_type": "stream",
     "text": [
      "89.5\n"
     ]
    }
   ],
   "source": [
    "print(average_grade)"
   ]
  },
  {
   "cell_type": "code",
   "execution_count": 31,
   "id": "2d5842d9-d9df-4b9b-bb50-47998cd1d0c8",
   "metadata": {
    "tags": []
   },
   "outputs": [],
   "source": [
    "from collections import namedtuple"
   ]
  },
  {
   "cell_type": "code",
   "execution_count": 32,
   "id": "683e7549-57b7-4806-9aeb-0c99bc116b89",
   "metadata": {
    "tags": []
   },
   "outputs": [],
   "source": [
    "Grade = namedtuple('Grade', ('score', 'weight'))"
   ]
  },
  {
   "cell_type": "markdown",
   "id": "34c57d4d-e383-4f44-bf16-67446e595eaa",
   "metadata": {},
   "source": [
    "#### Next, I can write a class to represent a single subject that contains a set of grades"
   ]
  },
  {
   "cell_type": "code",
   "execution_count": 33,
   "id": "b161c792-8815-428f-a825-dc8e97dd8008",
   "metadata": {
    "tags": []
   },
   "outputs": [],
   "source": [
    "class Subject:\n",
    "    def __init__(self):\n",
    "        self._grades = []\n",
    "    \n",
    "    def report_grade(self, score, weight):\n",
    "        self._grades.append(Grade(score, weight))\n",
    "    \n",
    "    def average_grade(self):\n",
    "        total, total_weight = 0, 0\n",
    "        for grade in self._grades:\n",
    "            total += grade.score * grade.weight\n",
    "            total_weight += grade.weight\n",
    "        return total / total_weight"
   ]
  },
  {
   "cell_type": "markdown",
   "id": "62f4e322-33dc-45b5-b96e-e5ead2b8fe7d",
   "metadata": {
    "tags": []
   },
   "source": [
    "#### Then, I write a class to represent a set of subjects that are being studied by a single student"
   ]
  },
  {
   "cell_type": "code",
   "execution_count": 37,
   "id": "845d00cd-ef51-4bfe-9460-444ea750fdd9",
   "metadata": {
    "tags": []
   },
   "outputs": [],
   "source": [
    "class Student:\n",
    "    def __init__(self):\n",
    "        self._subjects = defaultdict(Subject)\n",
    "    \n",
    "    def get_subject(self, name):\n",
    "        return self._subjects[name]\n",
    "    \n",
    "    def average_grade(self):\n",
    "        total, count = 0, 0\n",
    "        for subject in self._subjects.values():\n",
    "            total += subject.average_grade()\n",
    "            count += 1\n",
    "        return total / count"
   ]
  },
  {
   "cell_type": "code",
   "execution_count": 38,
   "id": "2c2c5cef-ffa1-4c51-8c9a-3a811069f1e3",
   "metadata": {
    "tags": []
   },
   "outputs": [],
   "source": [
    "class GradeBook:\n",
    "    def __init__(self):\n",
    "        self._students = defaultdict(Student)\n",
    "    \n",
    "    def get_students(self, name):\n",
    "        return self._students[name]"
   ]
  },
  {
   "cell_type": "code",
   "execution_count": 39,
   "id": "5250f14d-6031-4cd2-9071-634cbefa181f",
   "metadata": {
    "tags": []
   },
   "outputs": [
    {
     "name": "stdout",
     "output_type": "stream",
     "text": [
      "80.25\n"
     ]
    }
   ],
   "source": [
    "book = GradeBook()\n",
    "\n",
    "albert = book.get_students('Albert Einstein')\n",
    "\n",
    "math = albert.get_subject('Math')\n",
    "math.report_grade(75, 0.05)\n",
    "math.report_grade(65, 0.15)\n",
    "math.report_grade(70, 0.80)\n",
    "\n",
    "math = albert.get_subject('Gym')\n",
    "math.report_grade(100, 0.40)\n",
    "math.report_grade(85, 0.60)\n",
    "\n",
    "print(albert.average_grade())"
   ]
  },
  {
   "cell_type": "code",
   "execution_count": null,
   "id": "3ab88004-f48c-40e1-b5f7-27a2b33f957f",
   "metadata": {},
   "outputs": [],
   "source": []
  }
 ],
 "metadata": {
  "kernelspec": {
   "display_name": "Python 3 (ipykernel)",
   "language": "python",
   "name": "python3"
  },
  "language_info": {
   "codemirror_mode": {
    "name": "ipython",
    "version": 3
   },
   "file_extension": ".py",
   "mimetype": "text/x-python",
   "name": "python",
   "nbconvert_exporter": "python",
   "pygments_lexer": "ipython3",
   "version": "3.9.14"
  }
 },
 "nbformat": 4,
 "nbformat_minor": 5
}

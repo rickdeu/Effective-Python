{
 "cells": [
  {
   "cell_type": "markdown",
   "id": "500c4f02-d5b3-4f98-9ed7-afebecde793c",
   "metadata": {},
   "source": [
    "# Use @classmethod Polymorphism to Construct Objects Generically"
   ]
  },
  {
   "cell_type": "markdown",
   "id": "addc37d5-fdae-48cd-a77b-12493b58deb9",
   "metadata": {},
   "source": [
    "#### Say that i'm writing a MapReduce implementation, and i want a commom class to represent the input data."
   ]
  },
  {
   "cell_type": "code",
   "execution_count": 21,
   "id": "60f92251-c2da-453d-b420-4e8a98f21410",
   "metadata": {
    "tags": []
   },
   "outputs": [],
   "source": [
    "class InputData:\n",
    "    def read(self):\n",
    "        raise NotImplementedError"
   ]
  },
  {
   "cell_type": "markdown",
   "id": "ec79762d-30f0-471e-8cd6-d5e7389b872b",
   "metadata": {},
   "source": [
    "#### I also have a concrete subclass of InputData that reads data from a file on disk"
   ]
  },
  {
   "cell_type": "code",
   "execution_count": 22,
   "id": "633318b6-46a5-4dd1-86e9-23b1d4f5d22b",
   "metadata": {
    "tags": []
   },
   "outputs": [],
   "source": [
    "class PathInputData(InputData):\n",
    "    def __init__(self, path):\n",
    "        super().__init__()\n",
    "        self.path = path\n",
    "    \n",
    "    def read(self):\n",
    "        with open(self.path) as f:\n",
    "            return f.read()"
   ]
  },
  {
   "cell_type": "markdown",
   "id": "b5d784f4-5598-4439-9cc6-b9dd12e48b39",
   "metadata": {},
   "source": [
    "#### I could have any number of InputData subclasses, like PathInputData, and each of them could implement the standard interfaces for read to return the data ro process"
   ]
  },
  {
   "cell_type": "code",
   "execution_count": 23,
   "id": "be331ab3-c3e6-4fb2-a7cb-0ece44f530af",
   "metadata": {
    "tags": []
   },
   "outputs": [],
   "source": [
    "class Worker:\n",
    "    def __init__(self, input_data):\n",
    "        self.input_data = input_data\n",
    "        self.result = None\n",
    "    \n",
    "    def map(self):\n",
    "        raise NotImplementedError\n",
    "    \n",
    "    def reduce(self, other):\n",
    "        raise NotImplementedError"
   ]
  },
  {
   "cell_type": "markdown",
   "id": "06e2d93b-9b2c-4f9d-950d-be181457eabf",
   "metadata": {},
   "source": [
    "#### Here, i define a concrete subclass of Worker to implement the specific MapReduce function i want to apply-a simple newline counter"
   ]
  },
  {
   "cell_type": "code",
   "execution_count": 24,
   "id": "79880aa7-18a9-40ba-90e7-50e0b4d0717f",
   "metadata": {
    "tags": []
   },
   "outputs": [],
   "source": [
    "class LineCountWorker(Worker):\n",
    "    def map(self):\n",
    "        data = self.input_data.read()\n",
    "        self.result = data.count('\\n')\n",
    "    \n",
    "    def reduce(self, other):\n",
    "        self.result += other.result"
   ]
  },
  {
   "cell_type": "code",
   "execution_count": 25,
   "id": "3986366b-bff9-44c1-b4e3-a1ab08a1e93e",
   "metadata": {
    "tags": []
   },
   "outputs": [],
   "source": [
    "import os"
   ]
  },
  {
   "cell_type": "code",
   "execution_count": 26,
   "id": "0ac21e93-1ad6-4fb1-8a57-bd3913c29d1e",
   "metadata": {
    "tags": []
   },
   "outputs": [],
   "source": [
    "def generate_inputs(data_dir):\n",
    "    for name in os.listdir(data_dir):\n",
    "        yield PathInputData(os.path.join(data_dir, name))"
   ]
  },
  {
   "cell_type": "code",
   "execution_count": 27,
   "id": "99884005-dd9d-4433-b9b8-26ff3ca6f4f8",
   "metadata": {
    "tags": []
   },
   "outputs": [],
   "source": [
    "def create_workers(input_list):\n",
    "    workers = []\n",
    "    for input_data in input_list:\n",
    "        workers.append(LineCountWorker(input_data))\n",
    "    return workers"
   ]
  },
  {
   "cell_type": "code",
   "execution_count": 28,
   "id": "bd096026-c277-4ee0-9f65-74d09fa8d8f5",
   "metadata": {
    "tags": []
   },
   "outputs": [],
   "source": [
    "from threading import Thread"
   ]
  },
  {
   "cell_type": "code",
   "execution_count": 29,
   "id": "7692d234-0f49-4cb1-a475-bf60e45ebc7c",
   "metadata": {
    "tags": []
   },
   "outputs": [],
   "source": [
    "def execute(workers):\n",
    "    threads = [Thread(target=w.map) for w in workers]\n",
    "    for thread in threads: thread.start()\n",
    "    for thread in threads: thread.join()\n",
    "    \n",
    "    first, *rest = workers\n",
    "    for worker in rest:\n",
    "        first.reduce(worker)\n",
    "    return first.result"
   ]
  },
  {
   "cell_type": "markdown",
   "id": "615a85a3-161c-4680-a9ce-bab41f440559",
   "metadata": {},
   "source": [
    "#### Finally, i connect all the pieces together in a function to run each step"
   ]
  },
  {
   "cell_type": "code",
   "execution_count": 30,
   "id": "0d75a225-b7a8-46a3-8ce1-220d4765af23",
   "metadata": {
    "tags": []
   },
   "outputs": [],
   "source": [
    "def mapreduce(data_dir):\n",
    "    inputs = generate_inputs(data_dir)\n",
    "    workers = create_workers(inputs)\n",
    "    return execute(workers)"
   ]
  },
  {
   "cell_type": "markdown",
   "id": "a39a3a3c-112e-40e6-b1f6-9b2466069853",
   "metadata": {},
   "source": [
    "#### Run this function on a set of test input files works great"
   ]
  },
  {
   "cell_type": "code",
   "execution_count": 31,
   "id": "12a51cc4-ae17-4612-b07f-1b636a8f8a51",
   "metadata": {
    "tags": []
   },
   "outputs": [],
   "source": [
    "import os\n",
    "import random"
   ]
  },
  {
   "cell_type": "code",
   "execution_count": 32,
   "id": "b93617e4-14ac-41a5-8ebb-280a14f47f48",
   "metadata": {
    "tags": []
   },
   "outputs": [],
   "source": [
    "def write_test_files(tmpdir):\n",
    "    os.makedirs(tmpdir)\n",
    "    for i in range(100):\n",
    "        with open(os.path.join(tmpdir, str(i)), 'w') as f:\n",
    "            f.write('\\n' * random.randint(0, 100))"
   ]
  },
  {
   "cell_type": "code",
   "execution_count": 33,
   "id": "10b40e21-d22d-4fb0-b2a3-a7e234bf5263",
   "metadata": {
    "tags": []
   },
   "outputs": [
    {
     "ename": "FileExistsError",
     "evalue": "[Errno 17] File exists: 'test_inputs'",
     "output_type": "error",
     "traceback": [
      "\u001b[0;31m---------------------------------------------------------------------------\u001b[0m",
      "\u001b[0;31mFileExistsError\u001b[0m                           Traceback (most recent call last)",
      "Cell \u001b[0;32mIn[33], line 2\u001b[0m\n\u001b[1;32m      1\u001b[0m tmpdir \u001b[38;5;241m=\u001b[39m \u001b[38;5;124m'\u001b[39m\u001b[38;5;124mtest_inputs\u001b[39m\u001b[38;5;124m'\u001b[39m\n\u001b[0;32m----> 2\u001b[0m \u001b[43mwrite_test_files\u001b[49m\u001b[43m(\u001b[49m\u001b[43mtmpdir\u001b[49m\u001b[43m)\u001b[49m\n",
      "Cell \u001b[0;32mIn[32], line 2\u001b[0m, in \u001b[0;36mwrite_test_files\u001b[0;34m(tmpdir)\u001b[0m\n\u001b[1;32m      1\u001b[0m \u001b[38;5;28;01mdef\u001b[39;00m \u001b[38;5;21mwrite_test_files\u001b[39m(tmpdir):\n\u001b[0;32m----> 2\u001b[0m     \u001b[43mos\u001b[49m\u001b[38;5;241;43m.\u001b[39;49m\u001b[43mmakedirs\u001b[49m\u001b[43m(\u001b[49m\u001b[43mtmpdir\u001b[49m\u001b[43m)\u001b[49m\n\u001b[1;32m      3\u001b[0m     \u001b[38;5;28;01mfor\u001b[39;00m i \u001b[38;5;129;01min\u001b[39;00m \u001b[38;5;28mrange\u001b[39m(\u001b[38;5;241m100\u001b[39m):\n\u001b[1;32m      4\u001b[0m         \u001b[38;5;28;01mwith\u001b[39;00m \u001b[38;5;28mopen\u001b[39m(os\u001b[38;5;241m.\u001b[39mpath\u001b[38;5;241m.\u001b[39mjoin(tmpdir, \u001b[38;5;28mstr\u001b[39m(i)), \u001b[38;5;124m'\u001b[39m\u001b[38;5;124mw\u001b[39m\u001b[38;5;124m'\u001b[39m) \u001b[38;5;28;01mas\u001b[39;00m f:\n",
      "File \u001b[0;32m/usr/lib/python3.9/os.py:225\u001b[0m, in \u001b[0;36mmakedirs\u001b[0;34m(name, mode, exist_ok)\u001b[0m\n\u001b[1;32m    223\u001b[0m         \u001b[38;5;28;01mreturn\u001b[39;00m\n\u001b[1;32m    224\u001b[0m \u001b[38;5;28;01mtry\u001b[39;00m:\n\u001b[0;32m--> 225\u001b[0m     \u001b[43mmkdir\u001b[49m\u001b[43m(\u001b[49m\u001b[43mname\u001b[49m\u001b[43m,\u001b[49m\u001b[43m \u001b[49m\u001b[43mmode\u001b[49m\u001b[43m)\u001b[49m\n\u001b[1;32m    226\u001b[0m \u001b[38;5;28;01mexcept\u001b[39;00m \u001b[38;5;167;01mOSError\u001b[39;00m:\n\u001b[1;32m    227\u001b[0m     \u001b[38;5;66;03m# Cannot rely on checking for EEXIST, since the operating system\u001b[39;00m\n\u001b[1;32m    228\u001b[0m     \u001b[38;5;66;03m# could give priority to other errors like EACCES or EROFS\u001b[39;00m\n\u001b[1;32m    229\u001b[0m     \u001b[38;5;28;01mif\u001b[39;00m \u001b[38;5;129;01mnot\u001b[39;00m exist_ok \u001b[38;5;129;01mor\u001b[39;00m \u001b[38;5;129;01mnot\u001b[39;00m path\u001b[38;5;241m.\u001b[39misdir(name):\n",
      "\u001b[0;31mFileExistsError\u001b[0m: [Errno 17] File exists: 'test_inputs'"
     ]
    }
   ],
   "source": [
    "tmpdir = 'test_inputs'\n",
    "write_test_files(tmpdir)"
   ]
  },
  {
   "cell_type": "code",
   "execution_count": 34,
   "id": "ac2b6412-9425-4dd5-8694-4f7a91a5242d",
   "metadata": {
    "tags": []
   },
   "outputs": [
    {
     "name": "stdout",
     "output_type": "stream",
     "text": [
      "There are 4682 lines\n"
     ]
    }
   ],
   "source": [
    "result = mapreduce(tmpdir)\n",
    "print(f'There are {result} lines')"
   ]
  },
  {
   "cell_type": "code",
   "execution_count": 35,
   "id": "7c9d0c8a-9f90-4348-90b1-8769f8aca9b1",
   "metadata": {
    "tags": []
   },
   "outputs": [],
   "source": [
    "class GenericInputData:\n",
    "    def read(self):\n",
    "        raise NotImplementedError\n",
    "    \n",
    "    @classmethod\n",
    "    def generate_inputs(cls, config):\n",
    "        raise NotImplementedError"
   ]
  },
  {
   "cell_type": "code",
   "execution_count": 36,
   "id": "2f705a2f-750c-4fb2-8af0-59ae26cb8bd5",
   "metadata": {
    "tags": []
   },
   "outputs": [],
   "source": [
    "class PathInputData(GenericInputData):\n",
    "    ...\n",
    "    @classmethod\n",
    "    def generate_inputs(cls, config):\n",
    "        data_dir = config['data_dir']\n",
    "        for name in os.listdir(data_dir):\n",
    "            yield cls(os.path.join(data_dir, name))"
   ]
  },
  {
   "cell_type": "code",
   "execution_count": 37,
   "id": "fc8c8c53-be9a-429c-88be-f7adc0002bb9",
   "metadata": {
    "tags": []
   },
   "outputs": [],
   "source": [
    "class GenericWorker:\n",
    "    def __init__(self, input_data):\n",
    "        self.input_data = input_data\n",
    "        self.result = None\n",
    "    \n",
    "    def map(self):\n",
    "        raise NotImplementedError\n",
    "    \n",
    "    def reduce(self, other):\n",
    "        raise NotImplementedError\n",
    "        \n",
    "    @classmethod\n",
    "    def create_workers(cls, input_class, config):\n",
    "        workers = []\n",
    "        for input_data in input_class.generate_inputs(config):\n",
    "            workers.append(cls(input_data))\n",
    "        return workers"
   ]
  },
  {
   "cell_type": "code",
   "execution_count": 38,
   "id": "aab327b8-7e34-4945-a101-0b68c82964ac",
   "metadata": {
    "tags": []
   },
   "outputs": [],
   "source": [
    "class LineCountWorker(GenericWorker):\n",
    "    ..."
   ]
  },
  {
   "cell_type": "code",
   "execution_count": 39,
   "id": "082139ef-f3c7-4deb-8030-afbadf3009d9",
   "metadata": {
    "tags": []
   },
   "outputs": [],
   "source": [
    "def mapreduce(worker_class, input_class, config):\n",
    "    workers = worker_class.create_workers(input_class, config)\n",
    "    return execute(workers)"
   ]
  },
  {
   "cell_type": "code",
   "execution_count": 40,
   "id": "a28fc214-f7bd-417e-864d-af24e0b8fc4f",
   "metadata": {
    "tags": []
   },
   "outputs": [
    {
     "ename": "TypeError",
     "evalue": "PathInputData() takes no arguments",
     "output_type": "error",
     "traceback": [
      "\u001b[0;31m---------------------------------------------------------------------------\u001b[0m",
      "\u001b[0;31mTypeError\u001b[0m                                 Traceback (most recent call last)",
      "Cell \u001b[0;32mIn[40], line 2\u001b[0m\n\u001b[1;32m      1\u001b[0m config \u001b[38;5;241m=\u001b[39m {\u001b[38;5;124m'\u001b[39m\u001b[38;5;124mdata_dir\u001b[39m\u001b[38;5;124m'\u001b[39m: tmpdir}\n\u001b[0;32m----> 2\u001b[0m result \u001b[38;5;241m=\u001b[39m \u001b[43mmapreduce\u001b[49m\u001b[43m(\u001b[49m\u001b[43mLineCountWorker\u001b[49m\u001b[43m,\u001b[49m\u001b[43m \u001b[49m\u001b[43mPathInputData\u001b[49m\u001b[43m,\u001b[49m\u001b[43m \u001b[49m\u001b[43mconfig\u001b[49m\u001b[43m)\u001b[49m\n\u001b[1;32m      3\u001b[0m \u001b[38;5;28mprint\u001b[39m(\u001b[38;5;124mf\u001b[39m\u001b[38;5;124m'\u001b[39m\u001b[38;5;124mThere are \u001b[39m\u001b[38;5;132;01m{\u001b[39;00mresult\u001b[38;5;132;01m}\u001b[39;00m\u001b[38;5;124m lines\u001b[39m\u001b[38;5;124m'\u001b[39m)\n",
      "Cell \u001b[0;32mIn[39], line 2\u001b[0m, in \u001b[0;36mmapreduce\u001b[0;34m(worker_class, input_class, config)\u001b[0m\n\u001b[1;32m      1\u001b[0m \u001b[38;5;28;01mdef\u001b[39;00m \u001b[38;5;21mmapreduce\u001b[39m(worker_class, input_class, config):\n\u001b[0;32m----> 2\u001b[0m     workers \u001b[38;5;241m=\u001b[39m \u001b[43mworker_class\u001b[49m\u001b[38;5;241;43m.\u001b[39;49m\u001b[43mcreate_workers\u001b[49m\u001b[43m(\u001b[49m\u001b[43minput_class\u001b[49m\u001b[43m,\u001b[49m\u001b[43m \u001b[49m\u001b[43mconfig\u001b[49m\u001b[43m)\u001b[49m\n\u001b[1;32m      3\u001b[0m     \u001b[38;5;28;01mreturn\u001b[39;00m execute(workers)\n",
      "Cell \u001b[0;32mIn[37], line 15\u001b[0m, in \u001b[0;36mGenericWorker.create_workers\u001b[0;34m(cls, input_class, config)\u001b[0m\n\u001b[1;32m     12\u001b[0m \u001b[38;5;129m@classmethod\u001b[39m\n\u001b[1;32m     13\u001b[0m \u001b[38;5;28;01mdef\u001b[39;00m \u001b[38;5;21mcreate_workers\u001b[39m(\u001b[38;5;28mcls\u001b[39m, input_class, config):\n\u001b[1;32m     14\u001b[0m     workers \u001b[38;5;241m=\u001b[39m []\n\u001b[0;32m---> 15\u001b[0m     \u001b[38;5;28;01mfor\u001b[39;00m input_data \u001b[38;5;129;01min\u001b[39;00m input_class\u001b[38;5;241m.\u001b[39mgenerate_inputs(config):\n\u001b[1;32m     16\u001b[0m         workers\u001b[38;5;241m.\u001b[39mappend(\u001b[38;5;28mcls\u001b[39m(input_data))\n\u001b[1;32m     17\u001b[0m     \u001b[38;5;28;01mreturn\u001b[39;00m workers\n",
      "Cell \u001b[0;32mIn[36], line 7\u001b[0m, in \u001b[0;36mPathInputData.generate_inputs\u001b[0;34m(cls, config)\u001b[0m\n\u001b[1;32m      5\u001b[0m data_dir \u001b[38;5;241m=\u001b[39m config[\u001b[38;5;124m'\u001b[39m\u001b[38;5;124mdata_dir\u001b[39m\u001b[38;5;124m'\u001b[39m]\n\u001b[1;32m      6\u001b[0m \u001b[38;5;28;01mfor\u001b[39;00m name \u001b[38;5;129;01min\u001b[39;00m os\u001b[38;5;241m.\u001b[39mlistdir(data_dir):\n\u001b[0;32m----> 7\u001b[0m     \u001b[38;5;28;01myield\u001b[39;00m \u001b[38;5;28;43mcls\u001b[39;49m\u001b[43m(\u001b[49m\u001b[43mos\u001b[49m\u001b[38;5;241;43m.\u001b[39;49m\u001b[43mpath\u001b[49m\u001b[38;5;241;43m.\u001b[39;49m\u001b[43mjoin\u001b[49m\u001b[43m(\u001b[49m\u001b[43mdata_dir\u001b[49m\u001b[43m,\u001b[49m\u001b[43m \u001b[49m\u001b[43mname\u001b[49m\u001b[43m)\u001b[49m\u001b[43m)\u001b[49m\n",
      "\u001b[0;31mTypeError\u001b[0m: PathInputData() takes no arguments"
     ]
    }
   ],
   "source": [
    "config = {'data_dir': tmpdir}\n",
    "result = mapreduce(LineCountWorker, PathInputData, config)\n",
    "print(f'There are {result} lines')"
   ]
  },
  {
   "cell_type": "code",
   "execution_count": null,
   "id": "36b3046a-3f35-4c63-a5c0-2b0d2f36f63b",
   "metadata": {},
   "outputs": [],
   "source": []
  }
 ],
 "metadata": {
  "kernelspec": {
   "display_name": "Python 3 (ipykernel)",
   "language": "python",
   "name": "python3"
  },
  "language_info": {
   "codemirror_mode": {
    "name": "ipython",
    "version": 3
   },
   "file_extension": ".py",
   "mimetype": "text/x-python",
   "name": "python",
   "nbconvert_exporter": "python",
   "pygments_lexer": "ipython3",
   "version": "3.9.14"
  }
 },
 "nbformat": 4,
 "nbformat_minor": 5
}

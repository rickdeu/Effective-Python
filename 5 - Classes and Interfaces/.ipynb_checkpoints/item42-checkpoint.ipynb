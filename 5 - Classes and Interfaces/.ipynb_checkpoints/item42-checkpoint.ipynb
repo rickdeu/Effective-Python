{
 "cells": [
  {
   "cell_type": "markdown",
   "id": "d095ed4f-092f-41d0-9cc1-edd8d4c8af4c",
   "metadata": {},
   "source": [
    "# Prefer Public Attribues Over Private Ones"
   ]
  },
  {
   "cell_type": "markdown",
   "id": "4742fe7d-5229-42b7-9be4-5352601f7ebd",
   "metadata": {},
   "source": [
    "#### In Python, there are only two types of visibility for a class's attributes: public and private"
   ]
  },
  {
   "cell_type": "code",
   "execution_count": 1,
   "id": "872e3a15-64b3-4ee8-ab81-2d7158540f86",
   "metadata": {
    "tags": []
   },
   "outputs": [],
   "source": [
    "class MyObject:\n",
    "    def __init__(self):\n",
    "        self.public_field = 5\n",
    "        self.__private_field = 10\n",
    "    \n",
    "    def get_private_field(self):\n",
    "        return self.__private_field"
   ]
  },
  {
   "cell_type": "code",
   "execution_count": 2,
   "id": "32c9c5b2-590e-4747-93f7-e0dbf20af0ea",
   "metadata": {
    "tags": []
   },
   "outputs": [],
   "source": [
    "foo = MyObject()\n",
    "assert foo.public_field == 5"
   ]
  },
  {
   "cell_type": "code",
   "execution_count": 3,
   "id": "385f6c45-50e8-450f-9584-83cdf83e696f",
   "metadata": {
    "tags": []
   },
   "outputs": [],
   "source": [
    "assert foo.get_private_field() == 10"
   ]
  },
  {
   "cell_type": "code",
   "execution_count": null,
   "id": "9f6372e7-1e64-48c4-9e18-9f067e75bb14",
   "metadata": {},
   "outputs": [],
   "source": [
    "class MyOtherObject:\n",
    "    def __init__(self):\n",
    "        self.__private_field = 71\n",
    "        \n",
    "    @classmethod\n",
    "    def get_private_field_of_instance(cls, instance):\n",
    "        return instance.__private_field"
   ]
  }
 ],
 "metadata": {
  "kernelspec": {
   "display_name": "Python 3 (ipykernel)",
   "language": "python",
   "name": "python3"
  },
  "language_info": {
   "codemirror_mode": {
    "name": "ipython",
    "version": 3
   },
   "file_extension": ".py",
   "mimetype": "text/x-python",
   "name": "python",
   "nbconvert_exporter": "python",
   "pygments_lexer": "ipython3",
   "version": "3.9.14"
  }
 },
 "nbformat": 4,
 "nbformat_minor": 5
}

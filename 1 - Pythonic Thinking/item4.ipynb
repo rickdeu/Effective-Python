{
 "cells": [
  {
   "cell_type": "code",
   "execution_count": 2,
   "id": "a98740ee-61ae-4670-831c-eab8e4b4b5e6",
   "metadata": {
    "tags": []
   },
   "outputs": [],
   "source": [
    "a = 0b10111011\n",
    "b = 0xc5f"
   ]
  },
  {
   "cell_type": "code",
   "execution_count": 3,
   "id": "9e79573a-bdbe-45d3-ac7f-71d694bf24c3",
   "metadata": {
    "tags": []
   },
   "outputs": [
    {
     "name": "stdout",
     "output_type": "stream",
     "text": [
      "Binary is 187, hex is 3167\n"
     ]
    }
   ],
   "source": [
    "print('Binary is %d, hex is %d' %(a, b))"
   ]
  },
  {
   "cell_type": "code",
   "execution_count": 4,
   "id": "5859e18c-ca76-4f34-bbd6-6a068d345230",
   "metadata": {
    "tags": []
   },
   "outputs": [
    {
     "name": "stdout",
     "output_type": "stream",
     "text": [
      "my_var     = 1.23\n"
     ]
    }
   ],
   "source": [
    "key = 'my_var'\n",
    "value = 1.234\n",
    "formatted = '%-10s = %.2f'%(key, value)\n",
    "print(formatted)"
   ]
  },
  {
   "cell_type": "code",
   "execution_count": 5,
   "id": "872033c6-2055-4af5-bba8-ed84408ea6fe",
   "metadata": {
    "tags": []
   },
   "outputs": [
    {
     "ename": "TypeError",
     "evalue": "must be real number, not str",
     "output_type": "error",
     "traceback": [
      "\u001b[0;31m---------------------------------------------------------------------------\u001b[0m",
      "\u001b[0;31mTypeError\u001b[0m                                 Traceback (most recent call last)",
      "Cell \u001b[0;32mIn[5], line 1\u001b[0m\n\u001b[0;32m----> 1\u001b[0m redorded_tuple \u001b[38;5;241m=\u001b[39m \u001b[38;5;124;43m'\u001b[39;49m\u001b[38;5;132;43;01m%-10s\u001b[39;49;00m\u001b[38;5;124;43m = \u001b[39;49m\u001b[38;5;132;43;01m%.2f\u001b[39;49;00m\u001b[38;5;124;43m'\u001b[39;49m\u001b[38;5;241;43m%\u001b[39;49m\u001b[43m(\u001b[49m\u001b[43mvalue\u001b[49m\u001b[43m,\u001b[49m\u001b[43m \u001b[49m\u001b[43mkey\u001b[49m\u001b[43m)\u001b[49m\n",
      "\u001b[0;31mTypeError\u001b[0m: must be real number, not str"
     ]
    }
   ],
   "source": [
    "redorded_tuple = '%-10s = %.2f'%(value, key)"
   ]
  },
  {
   "cell_type": "code",
   "execution_count": 6,
   "id": "60741235-d9a1-4ce5-9bdb-99f115e067a6",
   "metadata": {
    "tags": []
   },
   "outputs": [
    {
     "ename": "TypeError",
     "evalue": "must be real number, not str",
     "output_type": "error",
     "traceback": [
      "\u001b[0;31m---------------------------------------------------------------------------\u001b[0m",
      "\u001b[0;31mTypeError\u001b[0m                                 Traceback (most recent call last)",
      "Cell \u001b[0;32mIn[6], line 1\u001b[0m\n\u001b[0;32m----> 1\u001b[0m redorded_string \u001b[38;5;241m=\u001b[39m \u001b[38;5;124;43m'\u001b[39;49m\u001b[38;5;132;43;01m%.2f\u001b[39;49;00m\u001b[38;5;124;43m = \u001b[39;49m\u001b[38;5;132;43;01m%-10s\u001b[39;49;00m\u001b[38;5;124;43m'\u001b[39;49m\u001b[38;5;241;43m%\u001b[39;49m\u001b[43m(\u001b[49m\u001b[43mkey\u001b[49m\u001b[43m,\u001b[49m\u001b[43m \u001b[49m\u001b[43mvalue\u001b[49m\u001b[43m)\u001b[49m\n",
      "\u001b[0;31mTypeError\u001b[0m: must be real number, not str"
     ]
    }
   ],
   "source": [
    "redorded_string = '%.2f = %-10s'%(key, value)"
   ]
  },
  {
   "cell_type": "code",
   "execution_count": null,
   "id": "fff6547c-4000-4c24-ba39-1eb34d8803f3",
   "metadata": {},
   "outputs": [],
   "source": []
  },
  {
   "cell_type": "code",
   "execution_count": 7,
   "id": "7fb0ba67-7713-42ea-a4a6-afe88597649e",
   "metadata": {
    "tags": []
   },
   "outputs": [
    {
     "name": "stdout",
     "output_type": "stream",
     "text": [
      "#0: avocados   = 1.25\n",
      "#1: bananas    = 2.50\n",
      "#2: cherries   = 15.00\n"
     ]
    }
   ],
   "source": [
    "pantry = [\n",
    "    ('avocados', 1.25),\n",
    "    ('bananas', 2.5),\n",
    "    ('cherries', 15),\n",
    "]\n",
    "for i, (item, count) in enumerate(pantry):\n",
    "    print('#%d: %-10s = %.2f' %(i, item, count))"
   ]
  },
  {
   "cell_type": "code",
   "execution_count": 8,
   "id": "e887b1ec-cda8-4fe6-9a5e-e6e1df1263fd",
   "metadata": {
    "tags": []
   },
   "outputs": [
    {
     "name": "stdout",
     "output_type": "stream",
     "text": [
      "#1: Avocados   = 1.00\n",
      "#2: Bananas    = 2.00\n",
      "#3: Cherries   = 15.00\n"
     ]
    }
   ],
   "source": [
    "for i, (item, count) in enumerate(pantry):\n",
    "        print('#%d: %-10s = %.2f' %(\n",
    "            i + 1,\n",
    "            item.title(),\n",
    "            round(count)))"
   ]
  },
  {
   "cell_type": "code",
   "execution_count": 9,
   "id": "6cbb69c8-b9e2-447c-b3c8-4883532b3b6b",
   "metadata": {
    "tags": []
   },
   "outputs": [
    {
     "name": "stdout",
     "output_type": "stream",
     "text": [
      "Max loves food. See Max cook.\n"
     ]
    }
   ],
   "source": [
    "template = '%s loves food. See %s cook.'\n",
    "name = 'Max'\n",
    "formatted = template %(name, name)\n",
    "print(formatted)"
   ]
  },
  {
   "cell_type": "code",
   "execution_count": 10,
   "id": "bf8b7504-b414-4907-b188-e509ed8009f7",
   "metadata": {
    "tags": []
   },
   "outputs": [
    {
     "name": "stdout",
     "output_type": "stream",
     "text": [
      "Brad loves food. See Brad cook.\n"
     ]
    }
   ],
   "source": [
    "name = 'brad'\n",
    "formatted = template %(name.title(), name.title())\n",
    "print(formatted)"
   ]
  },
  {
   "cell_type": "code",
   "execution_count": 11,
   "id": "cffdce4d-7703-4068-b5a2-12067c68a5b0",
   "metadata": {
    "tags": []
   },
   "outputs": [],
   "source": [
    "key = 'my_var'\n",
    "value = 1.234"
   ]
  },
  {
   "cell_type": "code",
   "execution_count": 12,
   "id": "1dc25979-5926-4326-8074-fd3e3d8c4073",
   "metadata": {
    "tags": []
   },
   "outputs": [],
   "source": [
    "old_way = '%-10s = %.2f'%(key, value)"
   ]
  },
  {
   "cell_type": "code",
   "execution_count": 13,
   "id": "caa4bb42-dedc-4216-9c66-30cb45f4561e",
   "metadata": {
    "tags": []
   },
   "outputs": [],
   "source": [
    "new_way = '%(key)-10s = %(value).2f'%{\n",
    "    'key':key, 'value': value\n",
    "} # Original"
   ]
  },
  {
   "cell_type": "code",
   "execution_count": 14,
   "id": "b3984809-c7d3-4703-b391-d163601a9385",
   "metadata": {
    "tags": []
   },
   "outputs": [],
   "source": [
    "reordered = '%(key)-10s = %(value).2f'%{\n",
    "    'value': value, 'key': key\n",
    "} # Swapped"
   ]
  },
  {
   "cell_type": "code",
   "execution_count": 15,
   "id": "59cfbf25-85a5-4ee1-8d24-2419ed78c62d",
   "metadata": {
    "tags": []
   },
   "outputs": [],
   "source": [
    "assert old_way == new_way == reordered"
   ]
  },
  {
   "cell_type": "code",
   "execution_count": 16,
   "id": "48cf2dc7-ae96-4d7f-a8a0-149aab88163c",
   "metadata": {
    "tags": []
   },
   "outputs": [],
   "source": [
    "name = 'Max'"
   ]
  },
  {
   "cell_type": "code",
   "execution_count": 17,
   "id": "f529c84e-0c5e-41e3-be3b-4de7e6c3b940",
   "metadata": {
    "tags": []
   },
   "outputs": [],
   "source": [
    "template = '%s loves food. See %s cook.'\n",
    "before = template % (name, name) # tuple"
   ]
  },
  {
   "cell_type": "code",
   "execution_count": 18,
   "id": "caf9a86d-717d-4947-b965-807ba2cebe60",
   "metadata": {
    "tags": []
   },
   "outputs": [],
   "source": [
    "template = '%(name)s loves food. See %(name)s cook.'\n",
    "after = template %{'name':name} # Dictionary"
   ]
  },
  {
   "cell_type": "code",
   "execution_count": 19,
   "id": "27e23994-21ed-4706-9465-4cf2d999526e",
   "metadata": {
    "tags": []
   },
   "outputs": [],
   "source": [
    "assert before == after"
   ]
  },
  {
   "cell_type": "code",
   "execution_count": 21,
   "id": "e3a1a88e-f25a-4d66-bb74-c6ee104b6a30",
   "metadata": {},
   "outputs": [],
   "source": [
    "for i, (item, count) in enumerate(pantry):\n",
    "    before = '#%d: %-10s = %d' % (\n",
    "        i + 1,\n",
    "        item.title(),\n",
    "        round(count))\n",
    "    after = '#%(loop)d: %(item)-10s = %(count)d'%{\n",
    "        'loop': i+1,\n",
    "        'item': item.title(),\n",
    "        'count': round(count)\n",
    "    }"
   ]
  },
  {
   "cell_type": "code",
   "execution_count": 22,
   "id": "355f240c-0f3f-4355-98ca-9a5b65fc3b5c",
   "metadata": {
    "tags": []
   },
   "outputs": [],
   "source": [
    "assert before == after"
   ]
  },
  {
   "cell_type": "code",
   "execution_count": 23,
   "id": "df7e91c5-a350-4db5-8628-94a994787f84",
   "metadata": {
    "tags": []
   },
   "outputs": [
    {
     "name": "stdout",
     "output_type": "stream",
     "text": [
      "Today's soup is lentil.\n"
     ]
    }
   ],
   "source": [
    "soup = 'lentil'\n",
    "formatted = 'Today\\'s soup is %(soup)s.'%{'soup': soup}\n",
    "print(formatted)"
   ]
  },
  {
   "cell_type": "code",
   "execution_count": 24,
   "id": "8ae9d29d-f215-4390-8ac7-93c4b0744562",
   "metadata": {
    "tags": []
   },
   "outputs": [
    {
     "name": "stdout",
     "output_type": "stream",
     "text": [
      "Today's soup is lentil, buy one get two kumamoto oysters, and our special entree is schinitxel.\n"
     ]
    }
   ],
   "source": [
    "menu = {\n",
    "    'soup': 'lentil',\n",
    "    'oyster': 'kumamoto',\n",
    "    'special': 'schinitxel',\n",
    "}\n",
    "template = ('Today\\'s soup is %(soup)s, '\n",
    "            'buy one get two %(oyster)s oysters, '\n",
    "            'and our special entree is %(special)s.')\n",
    "formatted = template % menu\n",
    "print(formatted)"
   ]
  },
  {
   "cell_type": "markdown",
   "id": "6695aad9-0709-4507-93fb-0d83e6df76ff",
   "metadata": {},
   "source": [
    "# The format Built-in and str.format"
   ]
  },
  {
   "cell_type": "code",
   "execution_count": 27,
   "id": "6429c8f3-a51a-4ebd-b0e4-a33e7e136d7e",
   "metadata": {
    "tags": []
   },
   "outputs": [
    {
     "name": "stdout",
     "output_type": "stream",
     "text": [
      "1,234.57\n"
     ]
    }
   ],
   "source": [
    "a = 1234.5678\n",
    "formatted = format(a, ',.2f')\n",
    "print(formatted)"
   ]
  },
  {
   "cell_type": "code",
   "execution_count": 28,
   "id": "dfe1f0d2-c205-41ff-aa84-2764ebd89240",
   "metadata": {
    "tags": []
   },
   "outputs": [
    {
     "name": "stdout",
     "output_type": "stream",
     "text": [
      "*      my string       *\n"
     ]
    }
   ],
   "source": [
    "b = 'my string'\n",
    "formatted = format(b, '^20s')\n",
    "print('*', formatted, '*')"
   ]
  },
  {
   "cell_type": "code",
   "execution_count": 29,
   "id": "2764d3bc-b5a9-4865-b6e6-0153bedc5738",
   "metadata": {
    "tags": []
   },
   "outputs": [
    {
     "name": "stdout",
     "output_type": "stream",
     "text": [
      "my_var = 1.234\n"
     ]
    }
   ],
   "source": [
    "key = 'my_var'\n",
    "value = 1.234\n",
    "formatted = '{} = {}'.format(key, value)\n",
    "print(formatted)"
   ]
  },
  {
   "cell_type": "code",
   "execution_count": 30,
   "id": "cf383ea2-f443-47d3-af2d-19fa8aacad0a",
   "metadata": {
    "tags": []
   },
   "outputs": [
    {
     "name": "stdout",
     "output_type": "stream",
     "text": [
      "my_var     = 1.23\n"
     ]
    }
   ],
   "source": [
    "formatted = '{:<10} = {:.2f}'.format(key, value)\n",
    "print(formatted)"
   ]
  },
  {
   "cell_type": "code",
   "execution_count": 31,
   "id": "b101659f-84b7-4bfb-acfc-c10cfa1155be",
   "metadata": {
    "tags": []
   },
   "outputs": [
    {
     "name": "stdout",
     "output_type": "stream",
     "text": [
      "12.50%\n",
      "1.23 replaces {}\n"
     ]
    }
   ],
   "source": [
    "print('%.2f%%' % 12.5)\n",
    "print('{} replaces {{}}'.format(1.23))"
   ]
  },
  {
   "cell_type": "code",
   "execution_count": 32,
   "id": "e369a984-78cf-4f96-a422-3610bb1aa289",
   "metadata": {
    "tags": []
   },
   "outputs": [
    {
     "name": "stdout",
     "output_type": "stream",
     "text": [
      "1.234 = my_var\n"
     ]
    }
   ],
   "source": [
    "formatted = '{1} = {0}'.format(key, value)\n",
    "print(formatted)"
   ]
  },
  {
   "cell_type": "code",
   "execution_count": 34,
   "id": "0881be89-8139-441e-80ce-3f591c6a5e81",
   "metadata": {
    "tags": []
   },
   "outputs": [
    {
     "name": "stdout",
     "output_type": "stream",
     "text": [
      "Max loves food. See Max cook.\n"
     ]
    }
   ],
   "source": [
    "formatted = '{0} loves food. See {0} cook.'.format(name)\n",
    "print(formatted)"
   ]
  },
  {
   "cell_type": "code",
   "execution_count": 37,
   "id": "32b18e89-8223-4e82-89a3-116e3055fc7c",
   "metadata": {
    "tags": []
   },
   "outputs": [],
   "source": [
    "for i, (item, count) in enumerate(pantry):\n",
    "    old_style = '#%d: %-10s = %d'%(\n",
    "        i + 1,\n",
    "        item.title(),\n",
    "        round(count))\n",
    "    new_style = '#{}: {:<10s} = {}'.format(\n",
    "        i + 1,\n",
    "        item.title(),\n",
    "        round(count))\n",
    "    assert old_style == new_style"
   ]
  },
  {
   "cell_type": "code",
   "execution_count": 40,
   "id": "e17080e7-aac2-4531-941b-02f5a6842bc1",
   "metadata": {
    "tags": []
   },
   "outputs": [
    {
     "name": "stdout",
     "output_type": "stream",
     "text": [
      "First latter is 'k'\n"
     ]
    }
   ],
   "source": [
    "formatted = 'First latter is {menu[oyster][0]!r}'.format(menu=menu)\n",
    "print(formatted)"
   ]
  },
  {
   "cell_type": "code",
   "execution_count": 45,
   "id": "63b986fa-e415-403f-b96d-692f8fe35c0d",
   "metadata": {
    "tags": []
   },
   "outputs": [],
   "source": [
    "old_template = (\n",
    "    'Today\\'s soup is %(soup)s, '\n",
    "    'buy one get two %(oyster)s oysters, '\n",
    "    'and our special entree is %(special)s.'\n",
    ")\n",
    "\n",
    "old_formatted = template % {\n",
    "    'soup': 'lentil',\n",
    "    'oyster': 'kumamoto',\n",
    "    'special': 'schnitzel',\n",
    "}\n",
    "\n",
    "new_template = (\n",
    "    'Today\\'s soup is {soup}, '\n",
    "    'buy one get two {oyster} oysters, '\n",
    "    'and our special entree is {special}. '\n",
    ")\n",
    "new_formatted = new_template.format(\n",
    "    soup='lentil',\n",
    "    oyster = 'kumamoto',\n",
    "    special = 'schnitzel',\n",
    ")"
   ]
  },
  {
   "cell_type": "code",
   "execution_count": 46,
   "id": "c8de009d-165b-49de-bbc6-7f28250f5d43",
   "metadata": {
    "tags": []
   },
   "outputs": [
    {
     "ename": "AssertionError",
     "evalue": "",
     "output_type": "error",
     "traceback": [
      "\u001b[0;31m---------------------------------------------------------------------------\u001b[0m",
      "\u001b[0;31mAssertionError\u001b[0m                            Traceback (most recent call last)",
      "Cell \u001b[0;32mIn[50], line 1\u001b[0m\n\u001b[0;32m----> 1\u001b[0m \u001b[38;5;28;01massert\u001b[39;00m old_formatted \u001b[38;5;241m==\u001b[39m new_formatted\n",
      "\u001b[0;31mAssertionError\u001b[0m: "
     ]
    }
   ],
   "source": [
    "assert old_formatted == new_formatted"
   ]
  },
  {
   "cell_type": "markdown",
   "id": "4328301a-ceb4-4d62-acab-438f40b98482",
   "metadata": {},
   "source": [
    "# Interpolated Format Strings"
   ]
  },
  {
   "cell_type": "code",
   "execution_count": 51,
   "id": "e0d223dc-d9db-4693-a05b-8566943285d2",
   "metadata": {
    "tags": []
   },
   "outputs": [
    {
     "name": "stdout",
     "output_type": "stream",
     "text": [
      "my_var = 1.234\n"
     ]
    }
   ],
   "source": [
    "key = 'my_var'\n",
    "value = 1.234\n",
    "formatted = f'{key} = {value}'\n",
    "print(formatted)"
   ]
  },
  {
   "cell_type": "code",
   "execution_count": 52,
   "id": "aaac5460-a8ad-4df1-b400-feea389c0ecd",
   "metadata": {
    "tags": []
   },
   "outputs": [
    {
     "name": "stdout",
     "output_type": "stream",
     "text": [
      "'my_var'   = 1.23\n"
     ]
    }
   ],
   "source": [
    "formatted = f'{key!r:<10} = {value:.2f}'\n",
    "print(formatted)"
   ]
  },
  {
   "cell_type": "code",
   "execution_count": 54,
   "id": "fd9c8616-3cd7-49cf-a52e-563db46ae9cb",
   "metadata": {
    "tags": []
   },
   "outputs": [],
   "source": [
    "f_string = f'{key:<10} = {value:.2f}'"
   ]
  },
  {
   "cell_type": "code",
   "execution_count": 55,
   "id": "0a67e746-525d-4bdf-afa5-974efcffa37a",
   "metadata": {
    "tags": []
   },
   "outputs": [],
   "source": [
    "c_tuple = '%-10s = %.2f'%(key, value)"
   ]
  },
  {
   "cell_type": "code",
   "execution_count": 56,
   "id": "37b51d5d-d251-4851-87e5-132e62aa6fa7",
   "metadata": {
    "tags": []
   },
   "outputs": [],
   "source": [
    "str_args = '{:<10} = {:.2f}'.format(key, value)"
   ]
  },
  {
   "cell_type": "code",
   "execution_count": 57,
   "id": "53cba712-610c-4077-85a4-705f77a7221e",
   "metadata": {
    "tags": []
   },
   "outputs": [],
   "source": [
    "str_kw = '{key:<10} = {value:.2f}'.format(key=key, value=value)"
   ]
  },
  {
   "cell_type": "code",
   "execution_count": 59,
   "id": "bc98df70-cb32-453e-87b6-1548a90300f6",
   "metadata": {
    "tags": []
   },
   "outputs": [],
   "source": [
    "c_dict = '%(key)-10s = %(value).2f'%{'key':key, 'value': value}"
   ]
  },
  {
   "cell_type": "code",
   "execution_count": 60,
   "id": "e44200fb-2008-427d-a899-b432502cb682",
   "metadata": {
    "tags": []
   },
   "outputs": [],
   "source": [
    "assert c_tuple == c_dict == f_string\n",
    "assert str_args == str_kw == f_string"
   ]
  },
  {
   "cell_type": "code",
   "execution_count": 61,
   "id": "5e5cca59-c7b5-4c3e-bd4b-e296528e9fde",
   "metadata": {
    "tags": []
   },
   "outputs": [],
   "source": [
    "for i, (item, count) in enumerate(pantry):\n",
    "    old_style = '#%d: %-10s = %d'%(i+1, item.title(), round(count))\n",
    "    new_style = '#{}: {:<10s} = {}'.format(i+1, item.title(), round(count))\n",
    "    f_string = f'#{i+1}: {item.title():<10s} = {round(count)}'\n",
    "    \n",
    "    assert old_style == new_style == f_string\n",
    "    \n",
    "    "
   ]
  },
  {
   "cell_type": "code",
   "execution_count": 64,
   "id": "3c573e49-b042-4be6-b91d-91e09bcff0ad",
   "metadata": {
    "tags": []
   },
   "outputs": [
    {
     "name": "stdout",
     "output_type": "stream",
     "text": [
      "#1: Avocados   = 1\n",
      "#2: Bananas    = 2\n",
      "#3: Cherries   = 15\n"
     ]
    }
   ],
   "source": [
    "for i, (item, count) in enumerate(pantry):\n",
    "    print(f'#{i+1}: {item.title():<10s} = {round(count)}')"
   ]
  },
  {
   "cell_type": "code",
   "execution_count": 67,
   "id": "2dfb6d0f-0677-4cca-953b-56e62f4e4b52",
   "metadata": {
    "tags": []
   },
   "outputs": [
    {
     "name": "stdout",
     "output_type": "stream",
     "text": [
      "My number is 1.235\n"
     ]
    }
   ],
   "source": [
    "places = 3\n",
    "number = 1.23456\n",
    "print(f'My number is {number:.{places}f}')"
   ]
  },
  {
   "cell_type": "code",
   "execution_count": null,
   "id": "18b9c2ab-2b1c-4b6a-83bd-e5bafd0d32cb",
   "metadata": {},
   "outputs": [],
   "source": []
  }
 ],
 "metadata": {
  "kernelspec": {
   "display_name": "Python 3 (ipykernel)",
   "language": "python",
   "name": "python3"
  },
  "language_info": {
   "codemirror_mode": {
    "name": "ipython",
    "version": 3
   },
   "file_extension": ".py",
   "mimetype": "text/x-python",
   "name": "python",
   "nbconvert_exporter": "python",
   "pygments_lexer": "ipython3",
   "version": "3.9.14"
  }
 },
 "nbformat": 4,
 "nbformat_minor": 5
}

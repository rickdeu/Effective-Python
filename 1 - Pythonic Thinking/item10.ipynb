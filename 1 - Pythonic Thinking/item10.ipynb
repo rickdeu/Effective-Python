{
 "cells": [
  {
   "cell_type": "markdown",
   "id": "06d46665-051d-49cf-a57b-5053b68206d3",
   "metadata": {},
   "source": [
    "# Prevent Repetition with Assignment Expressions"
   ]
  },
  {
   "cell_type": "code",
   "execution_count": 1,
   "id": "3bead0df-3e6a-435e-81b2-9195d30c6e89",
   "metadata": {
    "tags": []
   },
   "outputs": [],
   "source": [
    "fresh_fruit = {\n",
    "    'apple': 10,\n",
    "    'banana': 8,\n",
    "    'lemon': 5,\n",
    "}"
   ]
  },
  {
   "cell_type": "code",
   "execution_count": 2,
   "id": "9a35d4a1-ebd5-4d2c-9d76-928265e9f0a3",
   "metadata": {
    "tags": []
   },
   "outputs": [],
   "source": [
    "def make_lemonade(count):\n",
    "    ..."
   ]
  },
  {
   "cell_type": "code",
   "execution_count": 3,
   "id": "885aab8f-9f43-4d61-a025-512c629718c1",
   "metadata": {
    "tags": []
   },
   "outputs": [],
   "source": [
    "def out_of_stock():\n",
    "    ..."
   ]
  },
  {
   "cell_type": "code",
   "execution_count": 4,
   "id": "bba85331-5e74-44e4-9ff8-d9764b0792f2",
   "metadata": {
    "tags": []
   },
   "outputs": [],
   "source": [
    "count = fresh_fruit.get('lemon', 0)\n",
    "if count:\n",
    "    make_lemonade(count)\n",
    "else:\n",
    "    out_of_stock()"
   ]
  },
  {
   "cell_type": "code",
   "execution_count": 5,
   "id": "7ace58c3-8e29-4e37-bc08-352e9f85514c",
   "metadata": {
    "tags": []
   },
   "outputs": [],
   "source": [
    "if count := fresh_fruit.get('lemon', 0):\n",
    "    make_lemonade(count)\n",
    "else:\n",
    "    out_of_stock()"
   ]
  },
  {
   "cell_type": "code",
   "execution_count": 6,
   "id": "62e87a13-ccc5-4095-ae74-af7027406817",
   "metadata": {
    "tags": []
   },
   "outputs": [],
   "source": [
    "def make_cinder(count):\n",
    "    ..."
   ]
  },
  {
   "cell_type": "code",
   "execution_count": 7,
   "id": "0686264d-9457-4b87-b1ab-885a3e4f01f3",
   "metadata": {
    "tags": []
   },
   "outputs": [],
   "source": [
    "count - fresh_fruit.get('apple', 0)\n",
    "if count >= 4:\n",
    "    make_cinder(count)\n",
    "else:\n",
    "    out_of_stock()"
   ]
  },
  {
   "cell_type": "code",
   "execution_count": 8,
   "id": "ef9dc74b-a3e8-4c23-b0d4-fce65d0149bb",
   "metadata": {
    "tags": []
   },
   "outputs": [],
   "source": [
    "if (count := fresh_fruit.get('apple', 0)) >= 4:\n",
    "    make_cinder(count)\n",
    "else:\n",
    "    out_of_stock()"
   ]
  },
  {
   "cell_type": "code",
   "execution_count": 9,
   "id": "ad0fcf74-ab5a-4c7d-ac27-f3bb48bec991",
   "metadata": {
    "tags": []
   },
   "outputs": [],
   "source": [
    "def slice_bananas(count):\n",
    "    ..."
   ]
  },
  {
   "cell_type": "code",
   "execution_count": 10,
   "id": "9cdb628c-ff96-4f73-8e2c-3ab7fdbde807",
   "metadata": {
    "tags": []
   },
   "outputs": [],
   "source": [
    "class OutOfBananas(Exception):\n",
    "    pass"
   ]
  },
  {
   "cell_type": "code",
   "execution_count": 11,
   "id": "5e6530b1-6008-423a-98a1-dadb1ae6ccfb",
   "metadata": {
    "tags": []
   },
   "outputs": [],
   "source": [
    "def make_smoothies(count):\n",
    "    ..."
   ]
  },
  {
   "cell_type": "code",
   "execution_count": 12,
   "id": "4eedec90-9e33-4796-8f53-b38faa47c534",
   "metadata": {
    "tags": []
   },
   "outputs": [],
   "source": [
    "pieces = 0\n",
    "count = fresh_fruit.get('banana', 0)\n",
    "if count >= 0:\n",
    "    pieces = slice_bananas(count)\n",
    "try:\n",
    "    smoothies = make_smoothies(pieces)\n",
    "except OutOfBananas:\n",
    "    out_of_stock()"
   ]
  },
  {
   "cell_type": "code",
   "execution_count": 13,
   "id": "b811cb85-226d-4d40-b5e5-99a55fc4c9cf",
   "metadata": {
    "tags": []
   },
   "outputs": [],
   "source": [
    "count = fresh_fruit.get('banana', 0)\n",
    "if count >= 2:\n",
    "    pieces = slice_bananas(count)\n",
    "else:\n",
    "    pieces = 0\n",
    "try:\n",
    "    smoothies = make_smoothies(pieces)\n",
    "except OutOfBananas:\n",
    "    out_of_stock()"
   ]
  },
  {
   "cell_type": "code",
   "execution_count": 14,
   "id": "fc13ec19-1100-46cb-a076-60cc98636886",
   "metadata": {
    "tags": []
   },
   "outputs": [],
   "source": [
    "pieces = 0\n",
    "if (count := fresh_fruit.get('banana', 0)) >=2:\n",
    "    pieces = slice_bananas(count)\n",
    "try:\n",
    "    smoothies = make_smoothies(pieces)\n",
    "except OutOfBananas:\n",
    "    out_of_stock()    "
   ]
  },
  {
   "cell_type": "code",
   "execution_count": 15,
   "id": "6f07d7c4-b4c3-4087-a428-145e9738c850",
   "metadata": {
    "tags": []
   },
   "outputs": [],
   "source": [
    "if (count := fresh_fruit.get('banana', 0)) >= 2:\n",
    "    pieces = slice_bananas(count)\n",
    "else:\n",
    "    pieces = 0\n",
    "try: \n",
    "    smoothies = make_smoothies(pieces)\n",
    "except:\n",
    "    out_of_stock()"
   ]
  },
  {
   "cell_type": "code",
   "execution_count": 18,
   "id": "ed7f3f08-f81c-4d7b-b902-2b49bcbb63a3",
   "metadata": {
    "tags": []
   },
   "outputs": [],
   "source": [
    "count = fresh_fruit.get('banana', 0)\n",
    "if count >= 0:\n",
    "    pieces = slice_bananas(count)\n",
    "    to_enjoy = make_smoothies(pieces)\n",
    "else:\n",
    "    count = fresh_fruit.get('apple', 0)\n",
    "    if count >= 4:\n",
    "        to_enjoy = make_cinder(count)\n",
    "    else:\n",
    "        count = fresh_fruit.get('lemon', 0)\n",
    "        if count:\n",
    "            to_enjoy = make_lemonade(count)\n",
    "        else:\n",
    "            to_enjoy = 'Nothing'"
   ]
  },
  {
   "cell_type": "code",
   "execution_count": 20,
   "id": "dbfaa2ad-fc6c-4eca-b385-2d9f701d7a1e",
   "metadata": {
    "tags": []
   },
   "outputs": [],
   "source": [
    "if (count := fresh_fruit.get('banana', 0)) >= 2:\n",
    "    pieces = slice_bananas(count)\n",
    "    to_enjoy = make_smoothies(pieces)\n",
    "elif (count := fresh_fruit.get('apple', 0)) >= 4:\n",
    "    to_enjoy = make_cinder(count)\n",
    "elif count := fresh_fruit.get('lemon', 0):\n",
    "    to_enjoy = make_lemonade(count)\n",
    "else:\n",
    "    to_enjoy = 'Nothing'"
   ]
  },
  {
   "cell_type": "code",
   "execution_count": 21,
   "id": "14d5e2d0-32de-4dbb-996f-f596308b9d7e",
   "metadata": {
    "tags": []
   },
   "outputs": [],
   "source": [
    "def pick_fruit():\n",
    "    ..."
   ]
  },
  {
   "cell_type": "code",
   "execution_count": 22,
   "id": "791a75bf-cb6a-4c7d-94b4-874ea496f803",
   "metadata": {
    "tags": []
   },
   "outputs": [],
   "source": [
    "def make_juice(fruit, count):\n",
    "    ..."
   ]
  },
  {
   "cell_type": "code",
   "execution_count": 23,
   "id": "33471e08-d685-469c-b8fa-642165c971bf",
   "metadata": {
    "tags": []
   },
   "outputs": [],
   "source": [
    "bootles = []\n",
    "fresh_fruit = pick_fruit()\n",
    "while fresh_fruit:\n",
    "    for fruit, count in fresh_fruit.items():\n",
    "        batch = make_juice(fruit, count)\n",
    "        bootles.extend(batch)\n",
    "    fresh_fruit = pick_fruit()"
   ]
  },
  {
   "cell_type": "code",
   "execution_count": 24,
   "id": "e6377b13-dd2c-4aaf-a6fc-9b12034f7c5e",
   "metadata": {
    "tags": []
   },
   "outputs": [],
   "source": [
    "bootles = []\n",
    "while True:\n",
    "    fresh_fruit = pick_fruit()\n",
    "    if not fresh_fruit:\n",
    "        break\n",
    "        for fruit, count in fresh_fruit.item():\n",
    "            batch = make_juice(fruit, count)\n",
    "            bootles.extend(batch)"
   ]
  },
  {
   "cell_type": "code",
   "execution_count": 25,
   "id": "9f1f74dc-b5eb-43b5-809b-3087173ccbe3",
   "metadata": {
    "tags": []
   },
   "outputs": [],
   "source": [
    "bootles = []\n",
    "while fresh_fruit := pick_fruit():\n",
    "    for fruit, count in fresh_fruit.items():\n",
    "        batch = make_juice(fruit, count)\n",
    "        bootles.extend(batch)"
   ]
  },
  {
   "cell_type": "code",
   "execution_count": null,
   "id": "cabc411c-facf-4ead-ab44-cc4fd87a6791",
   "metadata": {},
   "outputs": [],
   "source": []
  }
 ],
 "metadata": {
  "kernelspec": {
   "display_name": "Python 3 (ipykernel)",
   "language": "python",
   "name": "python3"
  },
  "language_info": {
   "codemirror_mode": {
    "name": "ipython",
    "version": 3
   },
   "file_extension": ".py",
   "mimetype": "text/x-python",
   "name": "python",
   "nbconvert_exporter": "python",
   "pygments_lexer": "ipython3",
   "version": "3.9.14"
  }
 },
 "nbformat": 4,
 "nbformat_minor": 5
}

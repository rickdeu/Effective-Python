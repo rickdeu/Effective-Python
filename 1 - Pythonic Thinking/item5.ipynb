{
 "cells": [
  {
   "cell_type": "markdown",
   "id": "a460e23b-ccb3-4591-b76a-ef46badfb476",
   "metadata": {},
   "source": [
    "# Write Helper Functions Instead of Complex Expressios"
   ]
  },
  {
   "cell_type": "code",
   "execution_count": 1,
   "id": "d48487a8-a7c5-45b5-a565-3b0d0cde3e50",
   "metadata": {
    "tags": []
   },
   "outputs": [],
   "source": [
    "from urllib.parse import parse_qs"
   ]
  },
  {
   "cell_type": "code",
   "execution_count": 2,
   "id": "4021fe9f-4c8b-499b-beee-91aef63545ee",
   "metadata": {
    "tags": []
   },
   "outputs": [
    {
     "name": "stdout",
     "output_type": "stream",
     "text": [
      "{'red': ['5'], 'blue': ['0'], 'green': ['']}\n"
     ]
    }
   ],
   "source": [
    "my_values = parse_qs('red=5&blue=0&green=', keep_blank_values=True)\n",
    "print(repr(my_values))"
   ]
  },
  {
   "cell_type": "code",
   "execution_count": 3,
   "id": "9ca9c041-4479-4a33-af45-3161b94f1f6f",
   "metadata": {
    "tags": []
   },
   "outputs": [
    {
     "name": "stdout",
     "output_type": "stream",
     "text": [
      "Red:  ['5']\n",
      "Green:  ['']\n",
      "Opacity:  None\n"
     ]
    }
   ],
   "source": [
    "print('Red: ', my_values.get('red'))\n",
    "print('Green: ', my_values.get('green'))\n",
    "print('Opacity: ', my_values.get('opacity'))"
   ]
  },
  {
   "cell_type": "markdown",
   "id": "e333da84-8ed9-42f4-bf27-b5ff70de4c60",
   "metadata": {},
   "source": [
    "# For query string 'red=5&blue=0&green='"
   ]
  },
  {
   "cell_type": "code",
   "execution_count": 6,
   "id": "c7fb3b4e-47ea-41eb-9fd4-87df98f25fbe",
   "metadata": {
    "tags": []
   },
   "outputs": [],
   "source": [
    "red = my_values.get('red', [''])[0] or 0\n",
    "green = my_values.get('green', [''])[0] or 0\n",
    "opacity = my_values.get('opacity', [''])[0] or 0"
   ]
  },
  {
   "cell_type": "code",
   "execution_count": 7,
   "id": "3f472b11-6202-44a2-a38f-ec56f054a64c",
   "metadata": {
    "tags": []
   },
   "outputs": [
    {
     "name": "stdout",
     "output_type": "stream",
     "text": [
      "Red: '5'\n",
      "Green: 0\n",
      "Opacity: 0\n"
     ]
    }
   ],
   "source": [
    "print(f'Red: {red!r}')\n",
    "print(f'Green: {green!r}')\n",
    "print(f'Opacity: {opacity!r}')"
   ]
  },
  {
   "cell_type": "code",
   "execution_count": 8,
   "id": "8665ca77-d6c6-4cda-b2e4-7023f4499414",
   "metadata": {
    "tags": []
   },
   "outputs": [],
   "source": [
    "red = int(my_values.get('red', [''])[0] or 0)"
   ]
  },
  {
   "cell_type": "code",
   "execution_count": 9,
   "id": "a3fc4dc9-4b51-44d9-a105-c6cf10b99fd8",
   "metadata": {
    "tags": []
   },
   "outputs": [],
   "source": [
    "red_str = my_values.get('red', [''])\n",
    "red = int(red_str[0] if red_str[0] else 0)"
   ]
  },
  {
   "cell_type": "code",
   "execution_count": 10,
   "id": "d4c9b57b-a1dc-4c48-ad44-528329844669",
   "metadata": {
    "tags": []
   },
   "outputs": [],
   "source": [
    "green_str = my_values.get('green', [''])\n",
    "if green_str[0]:\n",
    "    green = int(green_str[0])\n",
    "else:\n",
    "    green = 0"
   ]
  },
  {
   "cell_type": "markdown",
   "id": "c96c2f9b-67af-4b78-9f9a-82b74424c15c",
   "metadata": {},
   "source": [
    "# Help functions to reuse logic repeadtedly"
   ]
  },
  {
   "cell_type": "code",
   "execution_count": 11,
   "id": "e9d48039-2dd4-431b-a5d3-a022e1811a98",
   "metadata": {
    "tags": []
   },
   "outputs": [],
   "source": [
    "def get_first_int(values, key, default=0):\n",
    "    found = values.get(key, [''])\n",
    "    if found[0]:\n",
    "        return int (found[0])\n",
    "    return default"
   ]
  },
  {
   "cell_type": "code",
   "execution_count": 16,
   "id": "b86eed06-283e-4bb0-830b-4e857924d75a",
   "metadata": {
    "tags": []
   },
   "outputs": [],
   "source": [
    "green = get_first_int(my_values, 'green')"
   ]
  },
  {
   "cell_type": "code",
   "execution_count": 17,
   "id": "1d062686-c031-49be-ac02-245c86d9d472",
   "metadata": {
    "tags": []
   },
   "outputs": [
    {
     "name": "stdout",
     "output_type": "stream",
     "text": [
      "0\n"
     ]
    }
   ],
   "source": [
    "print(green)"
   ]
  },
  {
   "cell_type": "code",
   "execution_count": null,
   "id": "b574a380-0364-4195-828b-57025c9dd37f",
   "metadata": {},
   "outputs": [],
   "source": []
  }
 ],
 "metadata": {
  "kernelspec": {
   "display_name": "Python 3 (ipykernel)",
   "language": "python",
   "name": "python3"
  },
  "language_info": {
   "codemirror_mode": {
    "name": "ipython",
    "version": 3
   },
   "file_extension": ".py",
   "mimetype": "text/x-python",
   "name": "python",
   "nbconvert_exporter": "python",
   "pygments_lexer": "ipython3",
   "version": "3.9.14"
  }
 },
 "nbformat": 4,
 "nbformat_minor": 5
}

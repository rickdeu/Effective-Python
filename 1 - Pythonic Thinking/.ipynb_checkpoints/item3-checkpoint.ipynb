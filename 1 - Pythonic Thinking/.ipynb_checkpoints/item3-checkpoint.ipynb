{
 "cells": [
  {
   "cell_type": "markdown",
   "id": "0c7b8656-6b54-456b-8901-af1954082bcf",
   "metadata": {},
   "source": [
    "# Know the differences between bytes and str"
   ]
  },
  {
   "cell_type": "code",
   "execution_count": null,
   "id": "6f310976-a1c4-42fc-899b-8f48d31757ef",
   "metadata": {},
   "outputs": [],
   "source": []
  }
 ],
 "metadata": {
  "kernelspec": {
   "display_name": "Python 3 (ipykernel)",
   "language": "python",
   "name": "python3"
  },
  "language_info": {
   "codemirror_mode": {
    "name": "ipython",
    "version": 3
   },
   "file_extension": ".py",
   "mimetype": "text/x-python",
   "name": "python",
   "nbconvert_exporter": "python",
   "pygments_lexer": "ipython3",
   "version": "3.9.14"
  }
 },
 "nbformat": 4,
 "nbformat_minor": 5
}

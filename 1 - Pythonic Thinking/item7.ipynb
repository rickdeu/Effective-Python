{
 "cells": [
  {
   "cell_type": "markdown",
   "id": "03619a6b-c243-473b-b959-3758c86f3364",
   "metadata": {},
   "source": [
    "# Prefer enumerate Over range"
   ]
  },
  {
   "cell_type": "code",
   "execution_count": 1,
   "id": "f5b66d3e-536e-49d7-b0dd-065892e79469",
   "metadata": {
    "tags": []
   },
   "outputs": [],
   "source": [
    "from random import randint"
   ]
  },
  {
   "cell_type": "code",
   "execution_count": 4,
   "id": "fb673189-e7d5-431e-a035-6f96f035cb4a",
   "metadata": {
    "tags": []
   },
   "outputs": [
    {
     "name": "stdout",
     "output_type": "stream",
     "text": [
      "0b10100111011110001011101001001100\n"
     ]
    }
   ],
   "source": [
    "random_bits = 0\n",
    "for i in range(32):\n",
    "    if randint(0, 1):\n",
    "        random_bits |= 1 <<i\n",
    "print(bin(random_bits))"
   ]
  },
  {
   "cell_type": "code",
   "execution_count": 12,
   "id": "75d062ef-4337-462a-b81c-3d7c03ada21c",
   "metadata": {
    "tags": []
   },
   "outputs": [
    {
     "name": "stdout",
     "output_type": "stream",
     "text": [
      "vanilla is delicious\n",
      "chocolate is delicious\n",
      "pecan is delicious\n",
      "strawberry is delicious\n"
     ]
    }
   ],
   "source": [
    "flavor_list = ['vanilla', 'chocolate', 'pecan', 'strawberry']\n",
    "for flavor in flavor_list:\n",
    "    print(f'{flavor} is delicious')"
   ]
  },
  {
   "cell_type": "code",
   "execution_count": 13,
   "id": "f1dce90b-2808-4e9e-a047-548fd18e2c6b",
   "metadata": {
    "tags": []
   },
   "outputs": [
    {
     "name": "stdout",
     "output_type": "stream",
     "text": [
      "1: vanilla\n",
      "2: chocolate\n",
      "3: pecan\n",
      "4: strawberry\n"
     ]
    }
   ],
   "source": [
    "for i in range(len(flavor_list)):\n",
    "    flavor = flavor_list[i]\n",
    "    print(f'{i + 1}: {flavor}')"
   ]
  },
  {
   "cell_type": "code",
   "execution_count": 14,
   "id": "749c0643-15f2-4f08-a989-2a18f2b49f5f",
   "metadata": {
    "tags": []
   },
   "outputs": [],
   "source": [
    "it = enumerate(flavor_list)"
   ]
  },
  {
   "cell_type": "code",
   "execution_count": 15,
   "id": "38f47548-de0f-4ddf-9287-c3a3c01474d5",
   "metadata": {
    "tags": []
   },
   "outputs": [
    {
     "name": "stdout",
     "output_type": "stream",
     "text": [
      "(0, 'vanilla')\n"
     ]
    }
   ],
   "source": [
    "print(next(it))"
   ]
  },
  {
   "cell_type": "code",
   "execution_count": 16,
   "id": "7daeb42a-2c76-4212-87f3-dab286b9fafc",
   "metadata": {
    "tags": []
   },
   "outputs": [
    {
     "name": "stdout",
     "output_type": "stream",
     "text": [
      "(1, 'chocolate')\n"
     ]
    }
   ],
   "source": [
    "print(next(it))"
   ]
  },
  {
   "cell_type": "code",
   "execution_count": 17,
   "id": "8c549611-fc8a-4739-831a-e16286030107",
   "metadata": {
    "tags": []
   },
   "outputs": [
    {
     "name": "stdout",
     "output_type": "stream",
     "text": [
      "1: vanilla\n",
      "2: chocolate\n",
      "3: pecan\n",
      "4: strawberry\n"
     ]
    }
   ],
   "source": [
    "for i, flavor in enumerate(flavor_list):\n",
    "    print(f'{i + 1}: {flavor}')"
   ]
  },
  {
   "cell_type": "code",
   "execution_count": 21,
   "id": "86d38ed0-f8bd-4efb-bc8e-a99fa87eb205",
   "metadata": {
    "tags": []
   },
   "outputs": [
    {
     "name": "stdout",
     "output_type": "stream",
     "text": [
      "2: vanilla\n",
      "3: chocolate\n",
      "4: pecan\n",
      "5: strawberry\n"
     ]
    }
   ],
   "source": [
    "for i, flavor in enumerate(flavor_list, 1):\n",
    "    print(f'{i + 1}: {flavor}')"
   ]
  },
  {
   "cell_type": "code",
   "execution_count": null,
   "id": "86b101ba-8fcb-4ef4-9404-a20ad7b05b74",
   "metadata": {},
   "outputs": [],
   "source": []
  }
 ],
 "metadata": {
  "kernelspec": {
   "display_name": "Python 3 (ipykernel)",
   "language": "python",
   "name": "python3"
  },
  "language_info": {
   "codemirror_mode": {
    "name": "ipython",
    "version": 3
   },
   "file_extension": ".py",
   "mimetype": "text/x-python",
   "name": "python",
   "nbconvert_exporter": "python",
   "pygments_lexer": "ipython3",
   "version": "3.9.14"
  }
 },
 "nbformat": 4,
 "nbformat_minor": 5
}
